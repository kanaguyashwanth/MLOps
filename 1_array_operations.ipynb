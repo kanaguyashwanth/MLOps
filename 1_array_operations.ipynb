{
  "metadata": {
    "language_info": {
      "codemirror_mode": {
        "name": "python",
        "version": 3
      },
      "file_extension": ".py",
      "mimetype": "text/x-python",
      "name": "python",
      "nbconvert_exporter": "python",
      "pygments_lexer": "ipython3",
      "version": "3.8"
    },
    "kernelspec": {
      "name": "python",
      "display_name": "Python (Pyodide)",
      "language": "python"
    }
  },
  "nbformat_minor": 4,
  "nbformat": 4,
  "cells": [
    {
      "cell_type": "code",
      "source": "import numpy as np",
      "metadata": {
        "tags": [],
        "trusted": true
      },
      "execution_count": 1,
      "outputs": []
    },
    {
      "cell_type": "code",
      "source": "a3 = np.array([[[20,30],[1,2]],[[101,102],[67,98]],[[22,22],[9,8]]])",
      "metadata": {
        "tags": [],
        "trusted": true
      },
      "execution_count": 2,
      "outputs": []
    },
    {
      "cell_type": "code",
      "source": "a3",
      "metadata": {
        "trusted": true
      },
      "execution_count": 3,
      "outputs": [
        {
          "execution_count": 3,
          "output_type": "execute_result",
          "data": {
            "text/plain": "array([[[ 20,  30],\n        [  1,   2]],\n\n       [[101, 102],\n        [ 67,  98]],\n\n       [[ 22,  22],\n        [  9,   8]]])"
          },
          "metadata": {}
        }
      ]
    },
    {
      "cell_type": "code",
      "source": "a3.ndim",
      "metadata": {
        "trusted": true
      },
      "execution_count": 4,
      "outputs": [
        {
          "execution_count": 4,
          "output_type": "execute_result",
          "data": {
            "text/plain": "3"
          },
          "metadata": {}
        }
      ]
    },
    {
      "cell_type": "code",
      "source": "a3[2,1,1]",
      "metadata": {
        "trusted": true
      },
      "execution_count": 5,
      "outputs": [
        {
          "execution_count": 5,
          "output_type": "execute_result",
          "data": {
            "text/plain": "8"
          },
          "metadata": {}
        }
      ]
    },
    {
      "cell_type": "code",
      "source": "a3.reshape(3,4,1) # 3 dimensions, 4 rows and 1 columns",
      "metadata": {
        "trusted": true
      },
      "execution_count": 6,
      "outputs": [
        {
          "execution_count": 6,
          "output_type": "execute_result",
          "data": {
            "text/plain": "array([[[ 20],\n        [ 30],\n        [  1],\n        [  2]],\n\n       [[101],\n        [102],\n        [ 67],\n        [ 98]],\n\n       [[ 22],\n        [ 22],\n        [  9],\n        [  8]]])"
          },
          "metadata": {}
        }
      ]
    },
    {
      "cell_type": "code",
      "source": "a3.reshape(3,4,-1) # 3 dimensions, 4 rows and 1 columns [Here, the columns automatically get calculated when -1]",
      "metadata": {
        "trusted": true
      },
      "execution_count": 7,
      "outputs": [
        {
          "execution_count": 7,
          "output_type": "execute_result",
          "data": {
            "text/plain": "array([[[ 20],\n        [ 30],\n        [  1],\n        [  2]],\n\n       [[101],\n        [102],\n        [ 67],\n        [ 98]],\n\n       [[ 22],\n        [ 22],\n        [  9],\n        [  8]]])"
          },
          "metadata": {}
        }
      ]
    },
    {
      "cell_type": "code",
      "source": "a3.reshape(2,3,-1) # 2-Dimension, 3-Rows, -1-Automatic calculation of columns",
      "metadata": {
        "trusted": true
      },
      "execution_count": 8,
      "outputs": [
        {
          "execution_count": 8,
          "output_type": "execute_result",
          "data": {
            "text/plain": "array([[[ 20,  30],\n        [  1,   2],\n        [101, 102]],\n\n       [[ 67,  98],\n        [ 22,  22],\n        [  9,   8]]])"
          },
          "metadata": {}
        }
      ]
    },
    {
      "cell_type": "code",
      "source": "a3.reshape(3,4)",
      "metadata": {
        "trusted": true
      },
      "execution_count": 9,
      "outputs": [
        {
          "execution_count": 9,
          "output_type": "execute_result",
          "data": {
            "text/plain": "array([[ 20,  30,   1,   2],\n       [101, 102,  67,  98],\n       [ 22,  22,   9,   8]])"
          },
          "metadata": {}
        }
      ]
    },
    {
      "cell_type": "code",
      "source": "a3.reshape(-1,6) # -1-Automatic Row calculation, 6-Columns",
      "metadata": {
        "tags": [],
        "trusted": true
      },
      "execution_count": 10,
      "outputs": [
        {
          "execution_count": 10,
          "output_type": "execute_result",
          "data": {
            "text/plain": "array([[ 20,  30,   1,   2, 101, 102],\n       [ 67,  98,  22,  22,   9,   8]])"
          },
          "metadata": {}
        }
      ]
    },
    {
      "cell_type": "code",
      "source": "",
      "metadata": {},
      "execution_count": null,
      "outputs": []
    }
  ]
}