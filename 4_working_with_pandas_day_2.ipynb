{
  "metadata": {
    "kernelspec": {
      "name": "python",
      "display_name": "Python (Pyodide)",
      "language": "python"
    },
    "language_info": {
      "codemirror_mode": {
        "name": "python",
        "version": 3
      },
      "file_extension": ".py",
      "mimetype": "text/x-python",
      "name": "python",
      "nbconvert_exporter": "python",
      "pygments_lexer": "ipython3",
      "version": "3.8"
    }
  },
  "nbformat_minor": 4,
  "nbformat": 4,
  "cells": [
    {
      "cell_type": "code",
      "source": "import pandas as pd",
      "metadata": {
        "trusted": true
      },
      "outputs": [],
      "execution_count": 1
    },
    {
      "cell_type": "code",
      "source": "df = pd.read_csv(\"HousePrices.csv\")",
      "metadata": {
        "trusted": true
      },
      "outputs": [],
      "execution_count": 2
    },
    {
      "cell_type": "code",
      "source": "df",
      "metadata": {
        "trusted": true
      },
      "outputs": [
        {
          "execution_count": 3,
          "output_type": "execute_result",
          "data": {
            "text/plain": "                     date         price  bedrooms  bathrooms  sqft_living  \\\n0     2014-05-02 00:00:00  3.130000e+05       3.0       1.50         1340   \n1     2014-05-02 00:00:00  2.384000e+06       5.0       2.50         3650   \n2     2014-05-02 00:00:00  3.420000e+05       3.0       2.00         1930   \n3     2014-05-02 00:00:00  4.200000e+05       3.0       2.25         2000   \n4     2014-05-02 00:00:00  5.500000e+05       4.0       2.50         1940   \n...                   ...           ...       ...        ...          ...   \n4595  2014-07-09 00:00:00  3.081667e+05       3.0       1.75         1510   \n4596  2014-07-09 00:00:00  5.343333e+05       3.0       2.50         1460   \n4597  2014-07-09 00:00:00  4.169042e+05       3.0       2.50         3010   \n4598  2014-07-10 00:00:00  2.034000e+05       4.0       2.00         2090   \n4599  2014-07-10 00:00:00  2.206000e+05       3.0       2.50         1490   \n\n      sqft_lot  floors  waterfront  view  condition  sqft_above  \\\n0         7912     1.5           0     0          3        1340   \n1         9050     2.0           0     4          5        3370   \n2        11947     1.0           0     0          4        1930   \n3         8030     1.0           0     0          4        1000   \n4        10500     1.0           0     0          4        1140   \n...        ...     ...         ...   ...        ...         ...   \n4595      6360     1.0           0     0          4        1510   \n4596      7573     2.0           0     0          3        1460   \n4597      7014     2.0           0     0          3        3010   \n4598      6630     1.0           0     0          3        1070   \n4599      8102     2.0           0     0          4        1490   \n\n      sqft_basement  yr_built  yr_renovated                    street  \\\n0                 0      1955          2005      18810 Densmore Ave N   \n1               280      1921             0           709 W Blaine St   \n2                 0      1966             0  26206-26214 143rd Ave SE   \n3              1000      1963             0           857 170th Pl NE   \n4               800      1976          1992         9105 170th Ave NE   \n...             ...       ...           ...                       ...   \n4595              0      1954          1979            501 N 143rd St   \n4596              0      1983          2009          14855 SE 10th Pl   \n4597              0      2009             0          759 Ilwaco Pl NE   \n4598           1020      1974             0         5148 S Creston St   \n4599              0      1990             0         18717 SE 258th St   \n\n           city  statezip country  \n0     Shoreline  WA 98133     USA  \n1       Seattle  WA 98119     USA  \n2          Kent  WA 98042     USA  \n3      Bellevue  WA 98008     USA  \n4       Redmond  WA 98052     USA  \n...         ...       ...     ...  \n4595    Seattle  WA 98133     USA  \n4596   Bellevue  WA 98007     USA  \n4597     Renton  WA 98059     USA  \n4598    Seattle  WA 98178     USA  \n4599  Covington  WA 98042     USA  \n\n[4600 rows x 18 columns]",
            "text/html": "<div>\n<style scoped>\n    .dataframe tbody tr th:only-of-type {\n        vertical-align: middle;\n    }\n\n    .dataframe tbody tr th {\n        vertical-align: top;\n    }\n\n    .dataframe thead th {\n        text-align: right;\n    }\n</style>\n<table border=\"1\" class=\"dataframe\">\n  <thead>\n    <tr style=\"text-align: right;\">\n      <th></th>\n      <th>date</th>\n      <th>price</th>\n      <th>bedrooms</th>\n      <th>bathrooms</th>\n      <th>sqft_living</th>\n      <th>sqft_lot</th>\n      <th>floors</th>\n      <th>waterfront</th>\n      <th>view</th>\n      <th>condition</th>\n      <th>sqft_above</th>\n      <th>sqft_basement</th>\n      <th>yr_built</th>\n      <th>yr_renovated</th>\n      <th>street</th>\n      <th>city</th>\n      <th>statezip</th>\n      <th>country</th>\n    </tr>\n  </thead>\n  <tbody>\n    <tr>\n      <th>0</th>\n      <td>2014-05-02 00:00:00</td>\n      <td>3.130000e+05</td>\n      <td>3.0</td>\n      <td>1.50</td>\n      <td>1340</td>\n      <td>7912</td>\n      <td>1.5</td>\n      <td>0</td>\n      <td>0</td>\n      <td>3</td>\n      <td>1340</td>\n      <td>0</td>\n      <td>1955</td>\n      <td>2005</td>\n      <td>18810 Densmore Ave N</td>\n      <td>Shoreline</td>\n      <td>WA 98133</td>\n      <td>USA</td>\n    </tr>\n    <tr>\n      <th>1</th>\n      <td>2014-05-02 00:00:00</td>\n      <td>2.384000e+06</td>\n      <td>5.0</td>\n      <td>2.50</td>\n      <td>3650</td>\n      <td>9050</td>\n      <td>2.0</td>\n      <td>0</td>\n      <td>4</td>\n      <td>5</td>\n      <td>3370</td>\n      <td>280</td>\n      <td>1921</td>\n      <td>0</td>\n      <td>709 W Blaine St</td>\n      <td>Seattle</td>\n      <td>WA 98119</td>\n      <td>USA</td>\n    </tr>\n    <tr>\n      <th>2</th>\n      <td>2014-05-02 00:00:00</td>\n      <td>3.420000e+05</td>\n      <td>3.0</td>\n      <td>2.00</td>\n      <td>1930</td>\n      <td>11947</td>\n      <td>1.0</td>\n      <td>0</td>\n      <td>0</td>\n      <td>4</td>\n      <td>1930</td>\n      <td>0</td>\n      <td>1966</td>\n      <td>0</td>\n      <td>26206-26214 143rd Ave SE</td>\n      <td>Kent</td>\n      <td>WA 98042</td>\n      <td>USA</td>\n    </tr>\n    <tr>\n      <th>3</th>\n      <td>2014-05-02 00:00:00</td>\n      <td>4.200000e+05</td>\n      <td>3.0</td>\n      <td>2.25</td>\n      <td>2000</td>\n      <td>8030</td>\n      <td>1.0</td>\n      <td>0</td>\n      <td>0</td>\n      <td>4</td>\n      <td>1000</td>\n      <td>1000</td>\n      <td>1963</td>\n      <td>0</td>\n      <td>857 170th Pl NE</td>\n      <td>Bellevue</td>\n      <td>WA 98008</td>\n      <td>USA</td>\n    </tr>\n    <tr>\n      <th>4</th>\n      <td>2014-05-02 00:00:00</td>\n      <td>5.500000e+05</td>\n      <td>4.0</td>\n      <td>2.50</td>\n      <td>1940</td>\n      <td>10500</td>\n      <td>1.0</td>\n      <td>0</td>\n      <td>0</td>\n      <td>4</td>\n      <td>1140</td>\n      <td>800</td>\n      <td>1976</td>\n      <td>1992</td>\n      <td>9105 170th Ave NE</td>\n      <td>Redmond</td>\n      <td>WA 98052</td>\n      <td>USA</td>\n    </tr>\n    <tr>\n      <th>...</th>\n      <td>...</td>\n      <td>...</td>\n      <td>...</td>\n      <td>...</td>\n      <td>...</td>\n      <td>...</td>\n      <td>...</td>\n      <td>...</td>\n      <td>...</td>\n      <td>...</td>\n      <td>...</td>\n      <td>...</td>\n      <td>...</td>\n      <td>...</td>\n      <td>...</td>\n      <td>...</td>\n      <td>...</td>\n      <td>...</td>\n    </tr>\n    <tr>\n      <th>4595</th>\n      <td>2014-07-09 00:00:00</td>\n      <td>3.081667e+05</td>\n      <td>3.0</td>\n      <td>1.75</td>\n      <td>1510</td>\n      <td>6360</td>\n      <td>1.0</td>\n      <td>0</td>\n      <td>0</td>\n      <td>4</td>\n      <td>1510</td>\n      <td>0</td>\n      <td>1954</td>\n      <td>1979</td>\n      <td>501 N 143rd St</td>\n      <td>Seattle</td>\n      <td>WA 98133</td>\n      <td>USA</td>\n    </tr>\n    <tr>\n      <th>4596</th>\n      <td>2014-07-09 00:00:00</td>\n      <td>5.343333e+05</td>\n      <td>3.0</td>\n      <td>2.50</td>\n      <td>1460</td>\n      <td>7573</td>\n      <td>2.0</td>\n      <td>0</td>\n      <td>0</td>\n      <td>3</td>\n      <td>1460</td>\n      <td>0</td>\n      <td>1983</td>\n      <td>2009</td>\n      <td>14855 SE 10th Pl</td>\n      <td>Bellevue</td>\n      <td>WA 98007</td>\n      <td>USA</td>\n    </tr>\n    <tr>\n      <th>4597</th>\n      <td>2014-07-09 00:00:00</td>\n      <td>4.169042e+05</td>\n      <td>3.0</td>\n      <td>2.50</td>\n      <td>3010</td>\n      <td>7014</td>\n      <td>2.0</td>\n      <td>0</td>\n      <td>0</td>\n      <td>3</td>\n      <td>3010</td>\n      <td>0</td>\n      <td>2009</td>\n      <td>0</td>\n      <td>759 Ilwaco Pl NE</td>\n      <td>Renton</td>\n      <td>WA 98059</td>\n      <td>USA</td>\n    </tr>\n    <tr>\n      <th>4598</th>\n      <td>2014-07-10 00:00:00</td>\n      <td>2.034000e+05</td>\n      <td>4.0</td>\n      <td>2.00</td>\n      <td>2090</td>\n      <td>6630</td>\n      <td>1.0</td>\n      <td>0</td>\n      <td>0</td>\n      <td>3</td>\n      <td>1070</td>\n      <td>1020</td>\n      <td>1974</td>\n      <td>0</td>\n      <td>5148 S Creston St</td>\n      <td>Seattle</td>\n      <td>WA 98178</td>\n      <td>USA</td>\n    </tr>\n    <tr>\n      <th>4599</th>\n      <td>2014-07-10 00:00:00</td>\n      <td>2.206000e+05</td>\n      <td>3.0</td>\n      <td>2.50</td>\n      <td>1490</td>\n      <td>8102</td>\n      <td>2.0</td>\n      <td>0</td>\n      <td>0</td>\n      <td>4</td>\n      <td>1490</td>\n      <td>0</td>\n      <td>1990</td>\n      <td>0</td>\n      <td>18717 SE 258th St</td>\n      <td>Covington</td>\n      <td>WA 98042</td>\n      <td>USA</td>\n    </tr>\n  </tbody>\n</table>\n<p>4600 rows × 18 columns</p>\n</div>"
          },
          "metadata": {}
        }
      ],
      "execution_count": 3
    },
    {
      "cell_type": "code",
      "source": "df.head()",
      "metadata": {
        "trusted": true
      },
      "outputs": [
        {
          "execution_count": 4,
          "output_type": "execute_result",
          "data": {
            "text/plain": "                  date      price  bedrooms  bathrooms  sqft_living  sqft_lot  \\\n0  2014-05-02 00:00:00   313000.0       3.0       1.50         1340      7912   \n1  2014-05-02 00:00:00  2384000.0       5.0       2.50         3650      9050   \n2  2014-05-02 00:00:00   342000.0       3.0       2.00         1930     11947   \n3  2014-05-02 00:00:00   420000.0       3.0       2.25         2000      8030   \n4  2014-05-02 00:00:00   550000.0       4.0       2.50         1940     10500   \n\n   floors  waterfront  view  condition  sqft_above  sqft_basement  yr_built  \\\n0     1.5           0     0          3        1340              0      1955   \n1     2.0           0     4          5        3370            280      1921   \n2     1.0           0     0          4        1930              0      1966   \n3     1.0           0     0          4        1000           1000      1963   \n4     1.0           0     0          4        1140            800      1976   \n\n   yr_renovated                    street       city  statezip country  \n0          2005      18810 Densmore Ave N  Shoreline  WA 98133     USA  \n1             0           709 W Blaine St    Seattle  WA 98119     USA  \n2             0  26206-26214 143rd Ave SE       Kent  WA 98042     USA  \n3             0           857 170th Pl NE   Bellevue  WA 98008     USA  \n4          1992         9105 170th Ave NE    Redmond  WA 98052     USA  ",
            "text/html": "<div>\n<style scoped>\n    .dataframe tbody tr th:only-of-type {\n        vertical-align: middle;\n    }\n\n    .dataframe tbody tr th {\n        vertical-align: top;\n    }\n\n    .dataframe thead th {\n        text-align: right;\n    }\n</style>\n<table border=\"1\" class=\"dataframe\">\n  <thead>\n    <tr style=\"text-align: right;\">\n      <th></th>\n      <th>date</th>\n      <th>price</th>\n      <th>bedrooms</th>\n      <th>bathrooms</th>\n      <th>sqft_living</th>\n      <th>sqft_lot</th>\n      <th>floors</th>\n      <th>waterfront</th>\n      <th>view</th>\n      <th>condition</th>\n      <th>sqft_above</th>\n      <th>sqft_basement</th>\n      <th>yr_built</th>\n      <th>yr_renovated</th>\n      <th>street</th>\n      <th>city</th>\n      <th>statezip</th>\n      <th>country</th>\n    </tr>\n  </thead>\n  <tbody>\n    <tr>\n      <th>0</th>\n      <td>2014-05-02 00:00:00</td>\n      <td>313000.0</td>\n      <td>3.0</td>\n      <td>1.50</td>\n      <td>1340</td>\n      <td>7912</td>\n      <td>1.5</td>\n      <td>0</td>\n      <td>0</td>\n      <td>3</td>\n      <td>1340</td>\n      <td>0</td>\n      <td>1955</td>\n      <td>2005</td>\n      <td>18810 Densmore Ave N</td>\n      <td>Shoreline</td>\n      <td>WA 98133</td>\n      <td>USA</td>\n    </tr>\n    <tr>\n      <th>1</th>\n      <td>2014-05-02 00:00:00</td>\n      <td>2384000.0</td>\n      <td>5.0</td>\n      <td>2.50</td>\n      <td>3650</td>\n      <td>9050</td>\n      <td>2.0</td>\n      <td>0</td>\n      <td>4</td>\n      <td>5</td>\n      <td>3370</td>\n      <td>280</td>\n      <td>1921</td>\n      <td>0</td>\n      <td>709 W Blaine St</td>\n      <td>Seattle</td>\n      <td>WA 98119</td>\n      <td>USA</td>\n    </tr>\n    <tr>\n      <th>2</th>\n      <td>2014-05-02 00:00:00</td>\n      <td>342000.0</td>\n      <td>3.0</td>\n      <td>2.00</td>\n      <td>1930</td>\n      <td>11947</td>\n      <td>1.0</td>\n      <td>0</td>\n      <td>0</td>\n      <td>4</td>\n      <td>1930</td>\n      <td>0</td>\n      <td>1966</td>\n      <td>0</td>\n      <td>26206-26214 143rd Ave SE</td>\n      <td>Kent</td>\n      <td>WA 98042</td>\n      <td>USA</td>\n    </tr>\n    <tr>\n      <th>3</th>\n      <td>2014-05-02 00:00:00</td>\n      <td>420000.0</td>\n      <td>3.0</td>\n      <td>2.25</td>\n      <td>2000</td>\n      <td>8030</td>\n      <td>1.0</td>\n      <td>0</td>\n      <td>0</td>\n      <td>4</td>\n      <td>1000</td>\n      <td>1000</td>\n      <td>1963</td>\n      <td>0</td>\n      <td>857 170th Pl NE</td>\n      <td>Bellevue</td>\n      <td>WA 98008</td>\n      <td>USA</td>\n    </tr>\n    <tr>\n      <th>4</th>\n      <td>2014-05-02 00:00:00</td>\n      <td>550000.0</td>\n      <td>4.0</td>\n      <td>2.50</td>\n      <td>1940</td>\n      <td>10500</td>\n      <td>1.0</td>\n      <td>0</td>\n      <td>0</td>\n      <td>4</td>\n      <td>1140</td>\n      <td>800</td>\n      <td>1976</td>\n      <td>1992</td>\n      <td>9105 170th Ave NE</td>\n      <td>Redmond</td>\n      <td>WA 98052</td>\n      <td>USA</td>\n    </tr>\n  </tbody>\n</table>\n</div>"
          },
          "metadata": {}
        }
      ],
      "execution_count": 4
    },
    {
      "cell_type": "code",
      "source": "# Dimension of the DataFrame\ndf.shape",
      "metadata": {
        "trusted": true
      },
      "outputs": [
        {
          "execution_count": 13,
          "output_type": "execute_result",
          "data": {
            "text/plain": "(4600, 18)"
          },
          "metadata": {}
        }
      ],
      "execution_count": 13
    },
    {
      "cell_type": "code",
      "source": "# Show the houses with price more than or equal to a million\ndf[df.price>1000000]",
      "metadata": {
        "trusted": true
      },
      "outputs": [
        {
          "execution_count": 12,
          "output_type": "execute_result",
          "data": {
            "text/plain": "                     date         price  bedrooms  bathrooms  sqft_living  \\\n1     2014-05-02 00:00:00  2.384000e+06       5.0       2.50         3650   \n11    2014-05-02 00:00:00  1.400000e+06       4.0       2.50         2920   \n14    2014-05-02 00:00:00  1.200000e+06       5.0       2.75         2910   \n99    2014-05-05 00:00:00  1.395000e+06       5.0       3.50         4010   \n107   2014-05-05 00:00:00  1.090000e+06       4.0       2.50         4340   \n...                   ...           ...       ...        ...          ...   \n4375  2014-05-09 00:00:00  1.020000e+06       3.0       2.25         2950   \n4465  2014-06-05 00:00:00  2.560498e+06       3.0       2.50         1710   \n4467  2014-06-06 00:00:00  1.337044e+06       4.0       3.50         4280   \n4494  2014-06-15 00:00:00  1.036200e+06       4.0       3.25         2500   \n4572  2014-07-02 00:00:00  1.288333e+06       6.0       4.50         3830   \n\n      sqft_lot  floors  waterfront  view  condition  sqft_above  \\\n1         9050     2.0           0     4          5        3370   \n11        4000     1.5           0     0          5        1910   \n14        9480     1.5           0     0          3        2910   \n99        8510     2.0           0     1          5        2850   \n107     141570     2.5           0     0          3        4340   \n...        ...     ...         ...   ...        ...         ...   \n4375     78843     1.5           0     0          3        2950   \n4465      1664     2.0           0     0          5        1300   \n4467      9583     2.0           0     0          3        4280   \n4494      5801     1.5           0     0          3        1960   \n4572      4800     3.0           0     0          3        3050   \n\n      sqft_basement  yr_built  yr_renovated                 street       city  \\\n1               280      1921             0        709 W Blaine St    Seattle   \n11             1010      1909          1988  3838-4098 44th Ave NE    Seattle   \n14                0      1939          1969       3534 46th Ave NE    Seattle   \n99             1160      1971             0     3930 NE Belvoir Pl    Seattle   \n107               0      1992             0      8814 218th Ave NE    Redmond   \n...             ...       ...           ...                    ...        ...   \n4375              0      2006             0       1918 202nd Pl SE  Sammamish   \n4465            410      2003             0        2826 21st Ave W    Seattle   \n4467              0      2005             0      1415 108th Ave SE   Bellevue   \n4494            540      1926          2003     1502 Parkside Dr E    Seattle   \n4572            780      1919          2004         2425 3rd Ave W    Seattle   \n\n      statezip country  \n1     WA 98119     USA  \n11    WA 98105     USA  \n14    WA 98105     USA  \n99    WA 98105     USA  \n107   WA 98053     USA  \n...        ...     ...  \n4375  WA 98075     USA  \n4465  WA 98199     USA  \n4467  WA 98004     USA  \n4494  WA 98112     USA  \n4572  WA 98119     USA  \n\n[340 rows x 18 columns]",
            "text/html": "<div>\n<style scoped>\n    .dataframe tbody tr th:only-of-type {\n        vertical-align: middle;\n    }\n\n    .dataframe tbody tr th {\n        vertical-align: top;\n    }\n\n    .dataframe thead th {\n        text-align: right;\n    }\n</style>\n<table border=\"1\" class=\"dataframe\">\n  <thead>\n    <tr style=\"text-align: right;\">\n      <th></th>\n      <th>date</th>\n      <th>price</th>\n      <th>bedrooms</th>\n      <th>bathrooms</th>\n      <th>sqft_living</th>\n      <th>sqft_lot</th>\n      <th>floors</th>\n      <th>waterfront</th>\n      <th>view</th>\n      <th>condition</th>\n      <th>sqft_above</th>\n      <th>sqft_basement</th>\n      <th>yr_built</th>\n      <th>yr_renovated</th>\n      <th>street</th>\n      <th>city</th>\n      <th>statezip</th>\n      <th>country</th>\n    </tr>\n  </thead>\n  <tbody>\n    <tr>\n      <th>1</th>\n      <td>2014-05-02 00:00:00</td>\n      <td>2.384000e+06</td>\n      <td>5.0</td>\n      <td>2.50</td>\n      <td>3650</td>\n      <td>9050</td>\n      <td>2.0</td>\n      <td>0</td>\n      <td>4</td>\n      <td>5</td>\n      <td>3370</td>\n      <td>280</td>\n      <td>1921</td>\n      <td>0</td>\n      <td>709 W Blaine St</td>\n      <td>Seattle</td>\n      <td>WA 98119</td>\n      <td>USA</td>\n    </tr>\n    <tr>\n      <th>11</th>\n      <td>2014-05-02 00:00:00</td>\n      <td>1.400000e+06</td>\n      <td>4.0</td>\n      <td>2.50</td>\n      <td>2920</td>\n      <td>4000</td>\n      <td>1.5</td>\n      <td>0</td>\n      <td>0</td>\n      <td>5</td>\n      <td>1910</td>\n      <td>1010</td>\n      <td>1909</td>\n      <td>1988</td>\n      <td>3838-4098 44th Ave NE</td>\n      <td>Seattle</td>\n      <td>WA 98105</td>\n      <td>USA</td>\n    </tr>\n    <tr>\n      <th>14</th>\n      <td>2014-05-02 00:00:00</td>\n      <td>1.200000e+06</td>\n      <td>5.0</td>\n      <td>2.75</td>\n      <td>2910</td>\n      <td>9480</td>\n      <td>1.5</td>\n      <td>0</td>\n      <td>0</td>\n      <td>3</td>\n      <td>2910</td>\n      <td>0</td>\n      <td>1939</td>\n      <td>1969</td>\n      <td>3534 46th Ave NE</td>\n      <td>Seattle</td>\n      <td>WA 98105</td>\n      <td>USA</td>\n    </tr>\n    <tr>\n      <th>99</th>\n      <td>2014-05-05 00:00:00</td>\n      <td>1.395000e+06</td>\n      <td>5.0</td>\n      <td>3.50</td>\n      <td>4010</td>\n      <td>8510</td>\n      <td>2.0</td>\n      <td>0</td>\n      <td>1</td>\n      <td>5</td>\n      <td>2850</td>\n      <td>1160</td>\n      <td>1971</td>\n      <td>0</td>\n      <td>3930 NE Belvoir Pl</td>\n      <td>Seattle</td>\n      <td>WA 98105</td>\n      <td>USA</td>\n    </tr>\n    <tr>\n      <th>107</th>\n      <td>2014-05-05 00:00:00</td>\n      <td>1.090000e+06</td>\n      <td>4.0</td>\n      <td>2.50</td>\n      <td>4340</td>\n      <td>141570</td>\n      <td>2.5</td>\n      <td>0</td>\n      <td>0</td>\n      <td>3</td>\n      <td>4340</td>\n      <td>0</td>\n      <td>1992</td>\n      <td>0</td>\n      <td>8814 218th Ave NE</td>\n      <td>Redmond</td>\n      <td>WA 98053</td>\n      <td>USA</td>\n    </tr>\n    <tr>\n      <th>...</th>\n      <td>...</td>\n      <td>...</td>\n      <td>...</td>\n      <td>...</td>\n      <td>...</td>\n      <td>...</td>\n      <td>...</td>\n      <td>...</td>\n      <td>...</td>\n      <td>...</td>\n      <td>...</td>\n      <td>...</td>\n      <td>...</td>\n      <td>...</td>\n      <td>...</td>\n      <td>...</td>\n      <td>...</td>\n      <td>...</td>\n    </tr>\n    <tr>\n      <th>4375</th>\n      <td>2014-05-09 00:00:00</td>\n      <td>1.020000e+06</td>\n      <td>3.0</td>\n      <td>2.25</td>\n      <td>2950</td>\n      <td>78843</td>\n      <td>1.5</td>\n      <td>0</td>\n      <td>0</td>\n      <td>3</td>\n      <td>2950</td>\n      <td>0</td>\n      <td>2006</td>\n      <td>0</td>\n      <td>1918 202nd Pl SE</td>\n      <td>Sammamish</td>\n      <td>WA 98075</td>\n      <td>USA</td>\n    </tr>\n    <tr>\n      <th>4465</th>\n      <td>2014-06-05 00:00:00</td>\n      <td>2.560498e+06</td>\n      <td>3.0</td>\n      <td>2.50</td>\n      <td>1710</td>\n      <td>1664</td>\n      <td>2.0</td>\n      <td>0</td>\n      <td>0</td>\n      <td>5</td>\n      <td>1300</td>\n      <td>410</td>\n      <td>2003</td>\n      <td>0</td>\n      <td>2826 21st Ave W</td>\n      <td>Seattle</td>\n      <td>WA 98199</td>\n      <td>USA</td>\n    </tr>\n    <tr>\n      <th>4467</th>\n      <td>2014-06-06 00:00:00</td>\n      <td>1.337044e+06</td>\n      <td>4.0</td>\n      <td>3.50</td>\n      <td>4280</td>\n      <td>9583</td>\n      <td>2.0</td>\n      <td>0</td>\n      <td>0</td>\n      <td>3</td>\n      <td>4280</td>\n      <td>0</td>\n      <td>2005</td>\n      <td>0</td>\n      <td>1415 108th Ave SE</td>\n      <td>Bellevue</td>\n      <td>WA 98004</td>\n      <td>USA</td>\n    </tr>\n    <tr>\n      <th>4494</th>\n      <td>2014-06-15 00:00:00</td>\n      <td>1.036200e+06</td>\n      <td>4.0</td>\n      <td>3.25</td>\n      <td>2500</td>\n      <td>5801</td>\n      <td>1.5</td>\n      <td>0</td>\n      <td>0</td>\n      <td>3</td>\n      <td>1960</td>\n      <td>540</td>\n      <td>1926</td>\n      <td>2003</td>\n      <td>1502 Parkside Dr E</td>\n      <td>Seattle</td>\n      <td>WA 98112</td>\n      <td>USA</td>\n    </tr>\n    <tr>\n      <th>4572</th>\n      <td>2014-07-02 00:00:00</td>\n      <td>1.288333e+06</td>\n      <td>6.0</td>\n      <td>4.50</td>\n      <td>3830</td>\n      <td>4800</td>\n      <td>3.0</td>\n      <td>0</td>\n      <td>0</td>\n      <td>3</td>\n      <td>3050</td>\n      <td>780</td>\n      <td>1919</td>\n      <td>2004</td>\n      <td>2425 3rd Ave W</td>\n      <td>Seattle</td>\n      <td>WA 98119</td>\n      <td>USA</td>\n    </tr>\n  </tbody>\n</table>\n<p>340 rows × 18 columns</p>\n</div>"
          },
          "metadata": {}
        }
      ],
      "execution_count": 12
    },
    {
      "cell_type": "code",
      "source": "# Show the number of houses with price more than or equal to a million\ndf[df.price>1000000].shape",
      "metadata": {
        "trusted": true
      },
      "outputs": [
        {
          "execution_count": 14,
          "output_type": "execute_result",
          "data": {
            "text/plain": "(340, 18)"
          },
          "metadata": {}
        }
      ],
      "execution_count": 14
    },
    {
      "cell_type": "code",
      "source": "df[df.price>1000000].shape[0]",
      "metadata": {
        "trusted": true
      },
      "outputs": [
        {
          "execution_count": 15,
          "output_type": "execute_result",
          "data": {
            "text/plain": "340"
          },
          "metadata": {}
        }
      ],
      "execution_count": 15
    },
    {
      "cell_type": "code",
      "source": "df_var = df.var(numeric_only=True)",
      "metadata": {
        "trusted": true
      },
      "outputs": [],
      "execution_count": 16
    },
    {
      "cell_type": "code",
      "source": "df_var",
      "metadata": {
        "trusted": true
      },
      "outputs": [
        {
          "execution_count": 17,
          "output_type": "execute_result",
          "data": {
            "text/plain": "price            3.179096e+11\nbedrooms         8.260049e-01\nbathrooms        6.143128e-01\nsqft_living      9.277676e+05\nsqft_lot         1.287693e+09\nfloors           2.897544e-01\nwaterfront       7.123997e-03\nview             6.059139e-01\ncondition        4.586402e-01\nsqft_above       7.433353e+05\nsqft_basement    2.154234e+05\nyr_built         8.839828e+02\nyr_renovated     9.592528e+05\ndtype: float64"
          },
          "metadata": {}
        }
      ],
      "execution_count": 17
    },
    {
      "cell_type": "code",
      "source": "# Show all records where Variance is zero.\ndf_var[df_var==0]",
      "metadata": {
        "trusted": true
      },
      "outputs": [
        {
          "execution_count": 19,
          "output_type": "execute_result",
          "data": {
            "text/plain": "Series([], dtype: float64)"
          },
          "metadata": {}
        }
      ],
      "execution_count": 19
    },
    {
      "cell_type": "code",
      "source": "# Show all record where Variance is less than or equal to 1000.\ndf_var[df_var<=1000]",
      "metadata": {
        "trusted": true
      },
      "outputs": [
        {
          "execution_count": 22,
          "output_type": "execute_result",
          "data": {
            "text/plain": "bedrooms        0.826005\nbathrooms       0.614313\nfloors          0.289754\nwaterfront      0.007124\nview            0.605914\ncondition       0.458640\nyr_built      883.982809\ndtype: float64"
          },
          "metadata": {}
        }
      ],
      "execution_count": 22
    },
    {
      "cell_type": "code",
      "source": "# Sort the Data\ndf.sort_values(\"price\",ascending=False,inplace=True)",
      "metadata": {
        "trusted": true
      },
      "outputs": [],
      "execution_count": 23
    },
    {
      "cell_type": "code",
      "source": "# Displays the top 5 houses based on price\ndf.head()",
      "metadata": {
        "trusted": true
      },
      "outputs": [
        {
          "execution_count": 27,
          "output_type": "execute_result",
          "data": {
            "text/plain": "                     date       price  bedrooms  bathrooms  sqft_living  \\\n4350  2014-07-03 00:00:00  26590000.0       3.0       2.00         1180   \n4346  2014-06-23 00:00:00  12899000.0       3.0       2.50         2190   \n2286  2014-06-11 00:00:00   7062500.0       5.0       4.50        10040   \n2654  2014-06-17 00:00:00   4668000.0       5.0       6.75         9640   \n2761  2014-06-18 00:00:00   4489000.0       4.0       3.00         6430   \n\n      sqft_lot  floors  waterfront  view  condition  sqft_above  \\\n4350      7793     1.0           0     0          4        1180   \n4346     11394     1.0           0     0          3        1550   \n2286     37325     2.0           1     2          3        7680   \n2654     13068     1.0           1     4          3        4820   \n2761     27517     2.0           0     0          3        6430   \n\n      sqft_basement  yr_built  yr_renovated                 street  \\\n4350              0      1992             0      12005 SE 219th Ct   \n4346            640      1956          2001        5426 40th Ave W   \n2286           2360      1940          2001       4442 95th Ave NE   \n2654           4820      1983          2009    5044 Butterworth Rd   \n2761              0      2001             0  1149-1199 91st Ave NE   \n\n               city  statezip country  \n4350           Kent  WA 98031     USA  \n4346        Seattle  WA 98199     USA  \n2286       Bellevue  WA 98004     USA  \n2654  Mercer Island  WA 98040     USA  \n2761       Bellevue  WA 98004     USA  ",
            "text/html": "<div>\n<style scoped>\n    .dataframe tbody tr th:only-of-type {\n        vertical-align: middle;\n    }\n\n    .dataframe tbody tr th {\n        vertical-align: top;\n    }\n\n    .dataframe thead th {\n        text-align: right;\n    }\n</style>\n<table border=\"1\" class=\"dataframe\">\n  <thead>\n    <tr style=\"text-align: right;\">\n      <th></th>\n      <th>date</th>\n      <th>price</th>\n      <th>bedrooms</th>\n      <th>bathrooms</th>\n      <th>sqft_living</th>\n      <th>sqft_lot</th>\n      <th>floors</th>\n      <th>waterfront</th>\n      <th>view</th>\n      <th>condition</th>\n      <th>sqft_above</th>\n      <th>sqft_basement</th>\n      <th>yr_built</th>\n      <th>yr_renovated</th>\n      <th>street</th>\n      <th>city</th>\n      <th>statezip</th>\n      <th>country</th>\n    </tr>\n  </thead>\n  <tbody>\n    <tr>\n      <th>4350</th>\n      <td>2014-07-03 00:00:00</td>\n      <td>26590000.0</td>\n      <td>3.0</td>\n      <td>2.00</td>\n      <td>1180</td>\n      <td>7793</td>\n      <td>1.0</td>\n      <td>0</td>\n      <td>0</td>\n      <td>4</td>\n      <td>1180</td>\n      <td>0</td>\n      <td>1992</td>\n      <td>0</td>\n      <td>12005 SE 219th Ct</td>\n      <td>Kent</td>\n      <td>WA 98031</td>\n      <td>USA</td>\n    </tr>\n    <tr>\n      <th>4346</th>\n      <td>2014-06-23 00:00:00</td>\n      <td>12899000.0</td>\n      <td>3.0</td>\n      <td>2.50</td>\n      <td>2190</td>\n      <td>11394</td>\n      <td>1.0</td>\n      <td>0</td>\n      <td>0</td>\n      <td>3</td>\n      <td>1550</td>\n      <td>640</td>\n      <td>1956</td>\n      <td>2001</td>\n      <td>5426 40th Ave W</td>\n      <td>Seattle</td>\n      <td>WA 98199</td>\n      <td>USA</td>\n    </tr>\n    <tr>\n      <th>2286</th>\n      <td>2014-06-11 00:00:00</td>\n      <td>7062500.0</td>\n      <td>5.0</td>\n      <td>4.50</td>\n      <td>10040</td>\n      <td>37325</td>\n      <td>2.0</td>\n      <td>1</td>\n      <td>2</td>\n      <td>3</td>\n      <td>7680</td>\n      <td>2360</td>\n      <td>1940</td>\n      <td>2001</td>\n      <td>4442 95th Ave NE</td>\n      <td>Bellevue</td>\n      <td>WA 98004</td>\n      <td>USA</td>\n    </tr>\n    <tr>\n      <th>2654</th>\n      <td>2014-06-17 00:00:00</td>\n      <td>4668000.0</td>\n      <td>5.0</td>\n      <td>6.75</td>\n      <td>9640</td>\n      <td>13068</td>\n      <td>1.0</td>\n      <td>1</td>\n      <td>4</td>\n      <td>3</td>\n      <td>4820</td>\n      <td>4820</td>\n      <td>1983</td>\n      <td>2009</td>\n      <td>5044 Butterworth Rd</td>\n      <td>Mercer Island</td>\n      <td>WA 98040</td>\n      <td>USA</td>\n    </tr>\n    <tr>\n      <th>2761</th>\n      <td>2014-06-18 00:00:00</td>\n      <td>4489000.0</td>\n      <td>4.0</td>\n      <td>3.00</td>\n      <td>6430</td>\n      <td>27517</td>\n      <td>2.0</td>\n      <td>0</td>\n      <td>0</td>\n      <td>3</td>\n      <td>6430</td>\n      <td>0</td>\n      <td>2001</td>\n      <td>0</td>\n      <td>1149-1199 91st Ave NE</td>\n      <td>Bellevue</td>\n      <td>WA 98004</td>\n      <td>USA</td>\n    </tr>\n  </tbody>\n</table>\n</div>"
          },
          "metadata": {}
        }
      ],
      "execution_count": 27
    },
    {
      "cell_type": "code",
      "source": "# Checking Null values in columns\ndf",
      "metadata": {
        "trusted": true
      },
      "outputs": [
        {
          "execution_count": 28,
          "output_type": "execute_result",
          "data": {
            "text/plain": "                     date       price  bedrooms  bathrooms  sqft_living  \\\n4350  2014-07-03 00:00:00  26590000.0       3.0       2.00         1180   \n4346  2014-06-23 00:00:00  12899000.0       3.0       2.50         2190   \n2286  2014-06-11 00:00:00   7062500.0       5.0       4.50        10040   \n2654  2014-06-17 00:00:00   4668000.0       5.0       6.75         9640   \n2761  2014-06-18 00:00:00   4489000.0       4.0       3.00         6430   \n...                   ...         ...       ...        ...          ...   \n4472  2014-06-09 00:00:00         0.0       4.0       3.75         4060   \n4567  2014-07-02 00:00:00         0.0       4.0       2.50         4080   \n4354  2014-05-05 00:00:00         0.0       3.0       1.75         1490   \n4454  2014-06-03 00:00:00         0.0       5.0       2.50         2090   \n4382  2014-05-12 00:00:00         0.0       5.0       4.50         4630   \n\n      sqft_lot  floors  waterfront  view  condition  sqft_above  \\\n4350      7793     1.0           0     0          4        1180   \n4346     11394     1.0           0     0          3        1550   \n2286     37325     2.0           1     2          3        7680   \n2654     13068     1.0           1     4          3        4820   \n2761     27517     2.0           0     0          3        6430   \n...        ...     ...         ...   ...        ...         ...   \n4472     19290     2.0           0     0          3        4060   \n4567     18362     2.0           0     2          4        4080   \n4354     10125     1.0           0     0          4        1490   \n4454      4698     2.0           0     0          3        2090   \n4382      6324     2.0           0     0          3        3210   \n\n      sqft_basement  yr_built  yr_renovated                 street  \\\n4350              0      1992             0      12005 SE 219th Ct   \n4346            640      1956          2001        5426 40th Ave W   \n2286           2360      1940          2001       4442 95th Ave NE   \n2654           4820      1983          2009    5044 Butterworth Rd   \n2761              0      2001             0  1149-1199 91st Ave NE   \n...             ...       ...           ...                    ...   \n4472              0      2002             0        21418 SE 5th Pl   \n4567              0      1983             0       2710 95th Ave NE   \n4354              0      1962             0        3911 S 328th St   \n4454              0      1998          2006      27622 237th Pl SE   \n4382           1420      2006             0    6925 Oakmont Ave SE   \n\n               city  statezip country  \n4350           Kent  WA 98031     USA  \n4346        Seattle  WA 98199     USA  \n2286       Bellevue  WA 98004     USA  \n2654  Mercer Island  WA 98040     USA  \n2761       Bellevue  WA 98004     USA  \n...             ...       ...     ...  \n4472      Sammamish  WA 98074     USA  \n4567     Clyde Hill  WA 98004     USA  \n4354    Federal Way  WA 98001     USA  \n4454   Maple Valley  WA 98038     USA  \n4382     Snoqualmie  WA 98065     USA  \n\n[4600 rows x 18 columns]",
            "text/html": "<div>\n<style scoped>\n    .dataframe tbody tr th:only-of-type {\n        vertical-align: middle;\n    }\n\n    .dataframe tbody tr th {\n        vertical-align: top;\n    }\n\n    .dataframe thead th {\n        text-align: right;\n    }\n</style>\n<table border=\"1\" class=\"dataframe\">\n  <thead>\n    <tr style=\"text-align: right;\">\n      <th></th>\n      <th>date</th>\n      <th>price</th>\n      <th>bedrooms</th>\n      <th>bathrooms</th>\n      <th>sqft_living</th>\n      <th>sqft_lot</th>\n      <th>floors</th>\n      <th>waterfront</th>\n      <th>view</th>\n      <th>condition</th>\n      <th>sqft_above</th>\n      <th>sqft_basement</th>\n      <th>yr_built</th>\n      <th>yr_renovated</th>\n      <th>street</th>\n      <th>city</th>\n      <th>statezip</th>\n      <th>country</th>\n    </tr>\n  </thead>\n  <tbody>\n    <tr>\n      <th>4350</th>\n      <td>2014-07-03 00:00:00</td>\n      <td>26590000.0</td>\n      <td>3.0</td>\n      <td>2.00</td>\n      <td>1180</td>\n      <td>7793</td>\n      <td>1.0</td>\n      <td>0</td>\n      <td>0</td>\n      <td>4</td>\n      <td>1180</td>\n      <td>0</td>\n      <td>1992</td>\n      <td>0</td>\n      <td>12005 SE 219th Ct</td>\n      <td>Kent</td>\n      <td>WA 98031</td>\n      <td>USA</td>\n    </tr>\n    <tr>\n      <th>4346</th>\n      <td>2014-06-23 00:00:00</td>\n      <td>12899000.0</td>\n      <td>3.0</td>\n      <td>2.50</td>\n      <td>2190</td>\n      <td>11394</td>\n      <td>1.0</td>\n      <td>0</td>\n      <td>0</td>\n      <td>3</td>\n      <td>1550</td>\n      <td>640</td>\n      <td>1956</td>\n      <td>2001</td>\n      <td>5426 40th Ave W</td>\n      <td>Seattle</td>\n      <td>WA 98199</td>\n      <td>USA</td>\n    </tr>\n    <tr>\n      <th>2286</th>\n      <td>2014-06-11 00:00:00</td>\n      <td>7062500.0</td>\n      <td>5.0</td>\n      <td>4.50</td>\n      <td>10040</td>\n      <td>37325</td>\n      <td>2.0</td>\n      <td>1</td>\n      <td>2</td>\n      <td>3</td>\n      <td>7680</td>\n      <td>2360</td>\n      <td>1940</td>\n      <td>2001</td>\n      <td>4442 95th Ave NE</td>\n      <td>Bellevue</td>\n      <td>WA 98004</td>\n      <td>USA</td>\n    </tr>\n    <tr>\n      <th>2654</th>\n      <td>2014-06-17 00:00:00</td>\n      <td>4668000.0</td>\n      <td>5.0</td>\n      <td>6.75</td>\n      <td>9640</td>\n      <td>13068</td>\n      <td>1.0</td>\n      <td>1</td>\n      <td>4</td>\n      <td>3</td>\n      <td>4820</td>\n      <td>4820</td>\n      <td>1983</td>\n      <td>2009</td>\n      <td>5044 Butterworth Rd</td>\n      <td>Mercer Island</td>\n      <td>WA 98040</td>\n      <td>USA</td>\n    </tr>\n    <tr>\n      <th>2761</th>\n      <td>2014-06-18 00:00:00</td>\n      <td>4489000.0</td>\n      <td>4.0</td>\n      <td>3.00</td>\n      <td>6430</td>\n      <td>27517</td>\n      <td>2.0</td>\n      <td>0</td>\n      <td>0</td>\n      <td>3</td>\n      <td>6430</td>\n      <td>0</td>\n      <td>2001</td>\n      <td>0</td>\n      <td>1149-1199 91st Ave NE</td>\n      <td>Bellevue</td>\n      <td>WA 98004</td>\n      <td>USA</td>\n    </tr>\n    <tr>\n      <th>...</th>\n      <td>...</td>\n      <td>...</td>\n      <td>...</td>\n      <td>...</td>\n      <td>...</td>\n      <td>...</td>\n      <td>...</td>\n      <td>...</td>\n      <td>...</td>\n      <td>...</td>\n      <td>...</td>\n      <td>...</td>\n      <td>...</td>\n      <td>...</td>\n      <td>...</td>\n      <td>...</td>\n      <td>...</td>\n      <td>...</td>\n    </tr>\n    <tr>\n      <th>4472</th>\n      <td>2014-06-09 00:00:00</td>\n      <td>0.0</td>\n      <td>4.0</td>\n      <td>3.75</td>\n      <td>4060</td>\n      <td>19290</td>\n      <td>2.0</td>\n      <td>0</td>\n      <td>0</td>\n      <td>3</td>\n      <td>4060</td>\n      <td>0</td>\n      <td>2002</td>\n      <td>0</td>\n      <td>21418 SE 5th Pl</td>\n      <td>Sammamish</td>\n      <td>WA 98074</td>\n      <td>USA</td>\n    </tr>\n    <tr>\n      <th>4567</th>\n      <td>2014-07-02 00:00:00</td>\n      <td>0.0</td>\n      <td>4.0</td>\n      <td>2.50</td>\n      <td>4080</td>\n      <td>18362</td>\n      <td>2.0</td>\n      <td>0</td>\n      <td>2</td>\n      <td>4</td>\n      <td>4080</td>\n      <td>0</td>\n      <td>1983</td>\n      <td>0</td>\n      <td>2710 95th Ave NE</td>\n      <td>Clyde Hill</td>\n      <td>WA 98004</td>\n      <td>USA</td>\n    </tr>\n    <tr>\n      <th>4354</th>\n      <td>2014-05-05 00:00:00</td>\n      <td>0.0</td>\n      <td>3.0</td>\n      <td>1.75</td>\n      <td>1490</td>\n      <td>10125</td>\n      <td>1.0</td>\n      <td>0</td>\n      <td>0</td>\n      <td>4</td>\n      <td>1490</td>\n      <td>0</td>\n      <td>1962</td>\n      <td>0</td>\n      <td>3911 S 328th St</td>\n      <td>Federal Way</td>\n      <td>WA 98001</td>\n      <td>USA</td>\n    </tr>\n    <tr>\n      <th>4454</th>\n      <td>2014-06-03 00:00:00</td>\n      <td>0.0</td>\n      <td>5.0</td>\n      <td>2.50</td>\n      <td>2090</td>\n      <td>4698</td>\n      <td>2.0</td>\n      <td>0</td>\n      <td>0</td>\n      <td>3</td>\n      <td>2090</td>\n      <td>0</td>\n      <td>1998</td>\n      <td>2006</td>\n      <td>27622 237th Pl SE</td>\n      <td>Maple Valley</td>\n      <td>WA 98038</td>\n      <td>USA</td>\n    </tr>\n    <tr>\n      <th>4382</th>\n      <td>2014-05-12 00:00:00</td>\n      <td>0.0</td>\n      <td>5.0</td>\n      <td>4.50</td>\n      <td>4630</td>\n      <td>6324</td>\n      <td>2.0</td>\n      <td>0</td>\n      <td>0</td>\n      <td>3</td>\n      <td>3210</td>\n      <td>1420</td>\n      <td>2006</td>\n      <td>0</td>\n      <td>6925 Oakmont Ave SE</td>\n      <td>Snoqualmie</td>\n      <td>WA 98065</td>\n      <td>USA</td>\n    </tr>\n  </tbody>\n</table>\n<p>4600 rows × 18 columns</p>\n</div>"
          },
          "metadata": {}
        }
      ],
      "execution_count": 28
    },
    {
      "cell_type": "code",
      "source": "df.isna()",
      "metadata": {
        "trusted": true
      },
      "outputs": [
        {
          "execution_count": 29,
          "output_type": "execute_result",
          "data": {
            "text/plain": "       date  price  bedrooms  bathrooms  sqft_living  sqft_lot  floors  \\\n4350  False  False     False      False        False     False   False   \n4346  False  False     False      False        False     False   False   \n2286  False  False     False      False        False     False   False   \n2654  False  False     False      False        False     False   False   \n2761  False  False     False      False        False     False   False   \n...     ...    ...       ...        ...          ...       ...     ...   \n4472  False  False     False      False        False     False   False   \n4567  False  False     False      False        False     False   False   \n4354  False  False     False      False        False     False   False   \n4454  False  False     False      False        False     False   False   \n4382  False  False     False      False        False     False   False   \n\n      waterfront   view  condition  sqft_above  sqft_basement  yr_built  \\\n4350       False  False      False       False          False     False   \n4346       False  False      False       False          False     False   \n2286       False  False      False       False          False     False   \n2654       False  False      False       False          False     False   \n2761       False  False      False       False          False     False   \n...          ...    ...        ...         ...            ...       ...   \n4472       False  False      False       False          False     False   \n4567       False  False      False       False          False     False   \n4354       False  False      False       False          False     False   \n4454       False  False      False       False          False     False   \n4382       False  False      False       False          False     False   \n\n      yr_renovated  street   city  statezip  country  \n4350         False   False  False     False    False  \n4346         False   False  False     False    False  \n2286         False   False  False     False    False  \n2654         False   False  False     False    False  \n2761         False   False  False     False    False  \n...            ...     ...    ...       ...      ...  \n4472         False   False  False     False    False  \n4567         False   False  False     False    False  \n4354         False   False  False     False    False  \n4454         False   False  False     False    False  \n4382         False   False  False     False    False  \n\n[4600 rows x 18 columns]",
            "text/html": "<div>\n<style scoped>\n    .dataframe tbody tr th:only-of-type {\n        vertical-align: middle;\n    }\n\n    .dataframe tbody tr th {\n        vertical-align: top;\n    }\n\n    .dataframe thead th {\n        text-align: right;\n    }\n</style>\n<table border=\"1\" class=\"dataframe\">\n  <thead>\n    <tr style=\"text-align: right;\">\n      <th></th>\n      <th>date</th>\n      <th>price</th>\n      <th>bedrooms</th>\n      <th>bathrooms</th>\n      <th>sqft_living</th>\n      <th>sqft_lot</th>\n      <th>floors</th>\n      <th>waterfront</th>\n      <th>view</th>\n      <th>condition</th>\n      <th>sqft_above</th>\n      <th>sqft_basement</th>\n      <th>yr_built</th>\n      <th>yr_renovated</th>\n      <th>street</th>\n      <th>city</th>\n      <th>statezip</th>\n      <th>country</th>\n    </tr>\n  </thead>\n  <tbody>\n    <tr>\n      <th>4350</th>\n      <td>False</td>\n      <td>False</td>\n      <td>False</td>\n      <td>False</td>\n      <td>False</td>\n      <td>False</td>\n      <td>False</td>\n      <td>False</td>\n      <td>False</td>\n      <td>False</td>\n      <td>False</td>\n      <td>False</td>\n      <td>False</td>\n      <td>False</td>\n      <td>False</td>\n      <td>False</td>\n      <td>False</td>\n      <td>False</td>\n    </tr>\n    <tr>\n      <th>4346</th>\n      <td>False</td>\n      <td>False</td>\n      <td>False</td>\n      <td>False</td>\n      <td>False</td>\n      <td>False</td>\n      <td>False</td>\n      <td>False</td>\n      <td>False</td>\n      <td>False</td>\n      <td>False</td>\n      <td>False</td>\n      <td>False</td>\n      <td>False</td>\n      <td>False</td>\n      <td>False</td>\n      <td>False</td>\n      <td>False</td>\n    </tr>\n    <tr>\n      <th>2286</th>\n      <td>False</td>\n      <td>False</td>\n      <td>False</td>\n      <td>False</td>\n      <td>False</td>\n      <td>False</td>\n      <td>False</td>\n      <td>False</td>\n      <td>False</td>\n      <td>False</td>\n      <td>False</td>\n      <td>False</td>\n      <td>False</td>\n      <td>False</td>\n      <td>False</td>\n      <td>False</td>\n      <td>False</td>\n      <td>False</td>\n    </tr>\n    <tr>\n      <th>2654</th>\n      <td>False</td>\n      <td>False</td>\n      <td>False</td>\n      <td>False</td>\n      <td>False</td>\n      <td>False</td>\n      <td>False</td>\n      <td>False</td>\n      <td>False</td>\n      <td>False</td>\n      <td>False</td>\n      <td>False</td>\n      <td>False</td>\n      <td>False</td>\n      <td>False</td>\n      <td>False</td>\n      <td>False</td>\n      <td>False</td>\n    </tr>\n    <tr>\n      <th>2761</th>\n      <td>False</td>\n      <td>False</td>\n      <td>False</td>\n      <td>False</td>\n      <td>False</td>\n      <td>False</td>\n      <td>False</td>\n      <td>False</td>\n      <td>False</td>\n      <td>False</td>\n      <td>False</td>\n      <td>False</td>\n      <td>False</td>\n      <td>False</td>\n      <td>False</td>\n      <td>False</td>\n      <td>False</td>\n      <td>False</td>\n    </tr>\n    <tr>\n      <th>...</th>\n      <td>...</td>\n      <td>...</td>\n      <td>...</td>\n      <td>...</td>\n      <td>...</td>\n      <td>...</td>\n      <td>...</td>\n      <td>...</td>\n      <td>...</td>\n      <td>...</td>\n      <td>...</td>\n      <td>...</td>\n      <td>...</td>\n      <td>...</td>\n      <td>...</td>\n      <td>...</td>\n      <td>...</td>\n      <td>...</td>\n    </tr>\n    <tr>\n      <th>4472</th>\n      <td>False</td>\n      <td>False</td>\n      <td>False</td>\n      <td>False</td>\n      <td>False</td>\n      <td>False</td>\n      <td>False</td>\n      <td>False</td>\n      <td>False</td>\n      <td>False</td>\n      <td>False</td>\n      <td>False</td>\n      <td>False</td>\n      <td>False</td>\n      <td>False</td>\n      <td>False</td>\n      <td>False</td>\n      <td>False</td>\n    </tr>\n    <tr>\n      <th>4567</th>\n      <td>False</td>\n      <td>False</td>\n      <td>False</td>\n      <td>False</td>\n      <td>False</td>\n      <td>False</td>\n      <td>False</td>\n      <td>False</td>\n      <td>False</td>\n      <td>False</td>\n      <td>False</td>\n      <td>False</td>\n      <td>False</td>\n      <td>False</td>\n      <td>False</td>\n      <td>False</td>\n      <td>False</td>\n      <td>False</td>\n    </tr>\n    <tr>\n      <th>4354</th>\n      <td>False</td>\n      <td>False</td>\n      <td>False</td>\n      <td>False</td>\n      <td>False</td>\n      <td>False</td>\n      <td>False</td>\n      <td>False</td>\n      <td>False</td>\n      <td>False</td>\n      <td>False</td>\n      <td>False</td>\n      <td>False</td>\n      <td>False</td>\n      <td>False</td>\n      <td>False</td>\n      <td>False</td>\n      <td>False</td>\n    </tr>\n    <tr>\n      <th>4454</th>\n      <td>False</td>\n      <td>False</td>\n      <td>False</td>\n      <td>False</td>\n      <td>False</td>\n      <td>False</td>\n      <td>False</td>\n      <td>False</td>\n      <td>False</td>\n      <td>False</td>\n      <td>False</td>\n      <td>False</td>\n      <td>False</td>\n      <td>False</td>\n      <td>False</td>\n      <td>False</td>\n      <td>False</td>\n      <td>False</td>\n    </tr>\n    <tr>\n      <th>4382</th>\n      <td>False</td>\n      <td>False</td>\n      <td>False</td>\n      <td>False</td>\n      <td>False</td>\n      <td>False</td>\n      <td>False</td>\n      <td>False</td>\n      <td>False</td>\n      <td>False</td>\n      <td>False</td>\n      <td>False</td>\n      <td>False</td>\n      <td>False</td>\n      <td>False</td>\n      <td>False</td>\n      <td>False</td>\n      <td>False</td>\n    </tr>\n  </tbody>\n</table>\n<p>4600 rows × 18 columns</p>\n</div>"
          },
          "metadata": {}
        }
      ],
      "execution_count": 29
    },
    {
      "cell_type": "code",
      "source": "df.isna().sum()",
      "metadata": {
        "trusted": true
      },
      "outputs": [
        {
          "execution_count": 30,
          "output_type": "execute_result",
          "data": {
            "text/plain": "date             0\nprice            0\nbedrooms         0\nbathrooms        0\nsqft_living      0\nsqft_lot         0\nfloors           0\nwaterfront       0\nview             0\ncondition        0\nsqft_above       0\nsqft_basement    0\nyr_built         0\nyr_renovated     0\nstreet           0\ncity             0\nstatezip         0\ncountry          0\ndtype: int64"
          },
          "metadata": {}
        }
      ],
      "execution_count": 30
    },
    {
      "cell_type": "code",
      "source": "df.isna().sum().sum()",
      "metadata": {
        "trusted": true
      },
      "outputs": [
        {
          "execution_count": 31,
          "output_type": "execute_result",
          "data": {
            "text/plain": "0"
          },
          "metadata": {}
        }
      ],
      "execution_count": 31
    },
    {
      "cell_type": "code",
      "source": "# Display all the columns in the DataFrame\ndf.columns",
      "metadata": {
        "trusted": true
      },
      "outputs": [
        {
          "execution_count": 34,
          "output_type": "execute_result",
          "data": {
            "text/plain": "Index(['date', 'price', 'bedrooms', 'bathrooms', 'sqft_living', 'sqft_lot',\n       'floors', 'waterfront', 'view', 'condition', 'sqft_above',\n       'sqft_basement', 'yr_built', 'yr_renovated', 'street', 'city',\n       'statezip', 'country', 'Temp'],\n      dtype='object')"
          },
          "metadata": {}
        }
      ],
      "execution_count": 34
    },
    {
      "cell_type": "code",
      "source": "# Adding a New Column to the DataFrame\ndf[\"temp\"] = 30",
      "metadata": {
        "trusted": true
      },
      "outputs": [],
      "execution_count": 35
    },
    {
      "cell_type": "code",
      "source": "'''\nNOTE: Here, when we try to add a new column, the dimensions must match the dataframe.\n'''",
      "metadata": {
        "trusted": true
      },
      "outputs": [
        {
          "execution_count": 36,
          "output_type": "execute_result",
          "data": {
            "text/plain": "'\\nNOTE: Here, when we try to add a new column, the dimensions must match the dataframe.\\n'"
          },
          "metadata": {}
        }
      ],
      "execution_count": 36
    },
    {
      "cell_type": "code",
      "source": "df",
      "metadata": {
        "trusted": true
      },
      "outputs": [
        {
          "execution_count": 37,
          "output_type": "execute_result",
          "data": {
            "text/plain": "                     date       price  bedrooms  bathrooms  sqft_living  \\\n4350  2014-07-03 00:00:00  26590000.0       3.0       2.00         1180   \n4346  2014-06-23 00:00:00  12899000.0       3.0       2.50         2190   \n2286  2014-06-11 00:00:00   7062500.0       5.0       4.50        10040   \n2654  2014-06-17 00:00:00   4668000.0       5.0       6.75         9640   \n2761  2014-06-18 00:00:00   4489000.0       4.0       3.00         6430   \n...                   ...         ...       ...        ...          ...   \n4472  2014-06-09 00:00:00         0.0       4.0       3.75         4060   \n4567  2014-07-02 00:00:00         0.0       4.0       2.50         4080   \n4354  2014-05-05 00:00:00         0.0       3.0       1.75         1490   \n4454  2014-06-03 00:00:00         0.0       5.0       2.50         2090   \n4382  2014-05-12 00:00:00         0.0       5.0       4.50         4630   \n\n      sqft_lot  floors  waterfront  view  condition  sqft_above  \\\n4350      7793     1.0           0     0          4        1180   \n4346     11394     1.0           0     0          3        1550   \n2286     37325     2.0           1     2          3        7680   \n2654     13068     1.0           1     4          3        4820   \n2761     27517     2.0           0     0          3        6430   \n...        ...     ...         ...   ...        ...         ...   \n4472     19290     2.0           0     0          3        4060   \n4567     18362     2.0           0     2          4        4080   \n4354     10125     1.0           0     0          4        1490   \n4454      4698     2.0           0     0          3        2090   \n4382      6324     2.0           0     0          3        3210   \n\n      sqft_basement  yr_built  yr_renovated                 street  \\\n4350              0      1992             0      12005 SE 219th Ct   \n4346            640      1956          2001        5426 40th Ave W   \n2286           2360      1940          2001       4442 95th Ave NE   \n2654           4820      1983          2009    5044 Butterworth Rd   \n2761              0      2001             0  1149-1199 91st Ave NE   \n...             ...       ...           ...                    ...   \n4472              0      2002             0        21418 SE 5th Pl   \n4567              0      1983             0       2710 95th Ave NE   \n4354              0      1962             0        3911 S 328th St   \n4454              0      1998          2006      27622 237th Pl SE   \n4382           1420      2006             0    6925 Oakmont Ave SE   \n\n               city  statezip country  Temp  temp  \n4350           Kent  WA 98031     USA    30    30  \n4346        Seattle  WA 98199     USA    30    30  \n2286       Bellevue  WA 98004     USA    30    30  \n2654  Mercer Island  WA 98040     USA    30    30  \n2761       Bellevue  WA 98004     USA    30    30  \n...             ...       ...     ...   ...   ...  \n4472      Sammamish  WA 98074     USA    30    30  \n4567     Clyde Hill  WA 98004     USA    30    30  \n4354    Federal Way  WA 98001     USA    30    30  \n4454   Maple Valley  WA 98038     USA    30    30  \n4382     Snoqualmie  WA 98065     USA    30    30  \n\n[4600 rows x 20 columns]",
            "text/html": "<div>\n<style scoped>\n    .dataframe tbody tr th:only-of-type {\n        vertical-align: middle;\n    }\n\n    .dataframe tbody tr th {\n        vertical-align: top;\n    }\n\n    .dataframe thead th {\n        text-align: right;\n    }\n</style>\n<table border=\"1\" class=\"dataframe\">\n  <thead>\n    <tr style=\"text-align: right;\">\n      <th></th>\n      <th>date</th>\n      <th>price</th>\n      <th>bedrooms</th>\n      <th>bathrooms</th>\n      <th>sqft_living</th>\n      <th>sqft_lot</th>\n      <th>floors</th>\n      <th>waterfront</th>\n      <th>view</th>\n      <th>condition</th>\n      <th>sqft_above</th>\n      <th>sqft_basement</th>\n      <th>yr_built</th>\n      <th>yr_renovated</th>\n      <th>street</th>\n      <th>city</th>\n      <th>statezip</th>\n      <th>country</th>\n      <th>Temp</th>\n      <th>temp</th>\n    </tr>\n  </thead>\n  <tbody>\n    <tr>\n      <th>4350</th>\n      <td>2014-07-03 00:00:00</td>\n      <td>26590000.0</td>\n      <td>3.0</td>\n      <td>2.00</td>\n      <td>1180</td>\n      <td>7793</td>\n      <td>1.0</td>\n      <td>0</td>\n      <td>0</td>\n      <td>4</td>\n      <td>1180</td>\n      <td>0</td>\n      <td>1992</td>\n      <td>0</td>\n      <td>12005 SE 219th Ct</td>\n      <td>Kent</td>\n      <td>WA 98031</td>\n      <td>USA</td>\n      <td>30</td>\n      <td>30</td>\n    </tr>\n    <tr>\n      <th>4346</th>\n      <td>2014-06-23 00:00:00</td>\n      <td>12899000.0</td>\n      <td>3.0</td>\n      <td>2.50</td>\n      <td>2190</td>\n      <td>11394</td>\n      <td>1.0</td>\n      <td>0</td>\n      <td>0</td>\n      <td>3</td>\n      <td>1550</td>\n      <td>640</td>\n      <td>1956</td>\n      <td>2001</td>\n      <td>5426 40th Ave W</td>\n      <td>Seattle</td>\n      <td>WA 98199</td>\n      <td>USA</td>\n      <td>30</td>\n      <td>30</td>\n    </tr>\n    <tr>\n      <th>2286</th>\n      <td>2014-06-11 00:00:00</td>\n      <td>7062500.0</td>\n      <td>5.0</td>\n      <td>4.50</td>\n      <td>10040</td>\n      <td>37325</td>\n      <td>2.0</td>\n      <td>1</td>\n      <td>2</td>\n      <td>3</td>\n      <td>7680</td>\n      <td>2360</td>\n      <td>1940</td>\n      <td>2001</td>\n      <td>4442 95th Ave NE</td>\n      <td>Bellevue</td>\n      <td>WA 98004</td>\n      <td>USA</td>\n      <td>30</td>\n      <td>30</td>\n    </tr>\n    <tr>\n      <th>2654</th>\n      <td>2014-06-17 00:00:00</td>\n      <td>4668000.0</td>\n      <td>5.0</td>\n      <td>6.75</td>\n      <td>9640</td>\n      <td>13068</td>\n      <td>1.0</td>\n      <td>1</td>\n      <td>4</td>\n      <td>3</td>\n      <td>4820</td>\n      <td>4820</td>\n      <td>1983</td>\n      <td>2009</td>\n      <td>5044 Butterworth Rd</td>\n      <td>Mercer Island</td>\n      <td>WA 98040</td>\n      <td>USA</td>\n      <td>30</td>\n      <td>30</td>\n    </tr>\n    <tr>\n      <th>2761</th>\n      <td>2014-06-18 00:00:00</td>\n      <td>4489000.0</td>\n      <td>4.0</td>\n      <td>3.00</td>\n      <td>6430</td>\n      <td>27517</td>\n      <td>2.0</td>\n      <td>0</td>\n      <td>0</td>\n      <td>3</td>\n      <td>6430</td>\n      <td>0</td>\n      <td>2001</td>\n      <td>0</td>\n      <td>1149-1199 91st Ave NE</td>\n      <td>Bellevue</td>\n      <td>WA 98004</td>\n      <td>USA</td>\n      <td>30</td>\n      <td>30</td>\n    </tr>\n    <tr>\n      <th>...</th>\n      <td>...</td>\n      <td>...</td>\n      <td>...</td>\n      <td>...</td>\n      <td>...</td>\n      <td>...</td>\n      <td>...</td>\n      <td>...</td>\n      <td>...</td>\n      <td>...</td>\n      <td>...</td>\n      <td>...</td>\n      <td>...</td>\n      <td>...</td>\n      <td>...</td>\n      <td>...</td>\n      <td>...</td>\n      <td>...</td>\n      <td>...</td>\n      <td>...</td>\n    </tr>\n    <tr>\n      <th>4472</th>\n      <td>2014-06-09 00:00:00</td>\n      <td>0.0</td>\n      <td>4.0</td>\n      <td>3.75</td>\n      <td>4060</td>\n      <td>19290</td>\n      <td>2.0</td>\n      <td>0</td>\n      <td>0</td>\n      <td>3</td>\n      <td>4060</td>\n      <td>0</td>\n      <td>2002</td>\n      <td>0</td>\n      <td>21418 SE 5th Pl</td>\n      <td>Sammamish</td>\n      <td>WA 98074</td>\n      <td>USA</td>\n      <td>30</td>\n      <td>30</td>\n    </tr>\n    <tr>\n      <th>4567</th>\n      <td>2014-07-02 00:00:00</td>\n      <td>0.0</td>\n      <td>4.0</td>\n      <td>2.50</td>\n      <td>4080</td>\n      <td>18362</td>\n      <td>2.0</td>\n      <td>0</td>\n      <td>2</td>\n      <td>4</td>\n      <td>4080</td>\n      <td>0</td>\n      <td>1983</td>\n      <td>0</td>\n      <td>2710 95th Ave NE</td>\n      <td>Clyde Hill</td>\n      <td>WA 98004</td>\n      <td>USA</td>\n      <td>30</td>\n      <td>30</td>\n    </tr>\n    <tr>\n      <th>4354</th>\n      <td>2014-05-05 00:00:00</td>\n      <td>0.0</td>\n      <td>3.0</td>\n      <td>1.75</td>\n      <td>1490</td>\n      <td>10125</td>\n      <td>1.0</td>\n      <td>0</td>\n      <td>0</td>\n      <td>4</td>\n      <td>1490</td>\n      <td>0</td>\n      <td>1962</td>\n      <td>0</td>\n      <td>3911 S 328th St</td>\n      <td>Federal Way</td>\n      <td>WA 98001</td>\n      <td>USA</td>\n      <td>30</td>\n      <td>30</td>\n    </tr>\n    <tr>\n      <th>4454</th>\n      <td>2014-06-03 00:00:00</td>\n      <td>0.0</td>\n      <td>5.0</td>\n      <td>2.50</td>\n      <td>2090</td>\n      <td>4698</td>\n      <td>2.0</td>\n      <td>0</td>\n      <td>0</td>\n      <td>3</td>\n      <td>2090</td>\n      <td>0</td>\n      <td>1998</td>\n      <td>2006</td>\n      <td>27622 237th Pl SE</td>\n      <td>Maple Valley</td>\n      <td>WA 98038</td>\n      <td>USA</td>\n      <td>30</td>\n      <td>30</td>\n    </tr>\n    <tr>\n      <th>4382</th>\n      <td>2014-05-12 00:00:00</td>\n      <td>0.0</td>\n      <td>5.0</td>\n      <td>4.50</td>\n      <td>4630</td>\n      <td>6324</td>\n      <td>2.0</td>\n      <td>0</td>\n      <td>0</td>\n      <td>3</td>\n      <td>3210</td>\n      <td>1420</td>\n      <td>2006</td>\n      <td>0</td>\n      <td>6925 Oakmont Ave SE</td>\n      <td>Snoqualmie</td>\n      <td>WA 98065</td>\n      <td>USA</td>\n      <td>30</td>\n      <td>30</td>\n    </tr>\n  </tbody>\n</table>\n<p>4600 rows × 20 columns</p>\n</div>"
          },
          "metadata": {}
        }
      ],
      "execution_count": 37
    },
    {
      "cell_type": "code",
      "source": "# Adding a new Column with Null values\n'''\nIn order to add Null values, first we must import numpy.\n'''\n\nimport numpy as np\ndf[\"temp\"] = np.nan",
      "metadata": {
        "trusted": true
      },
      "outputs": [],
      "execution_count": 51
    },
    {
      "cell_type": "code",
      "source": "df",
      "metadata": {
        "trusted": true
      },
      "outputs": [
        {
          "execution_count": 52,
          "output_type": "execute_result",
          "data": {
            "text/plain": "                     date       price  bedrooms  bathrooms  sqft_living  \\\n4350  2014-07-03 00:00:00  26590000.0       3.0       2.00         1180   \n4346  2014-06-23 00:00:00  12899000.0       3.0       2.50         2190   \n2286  2014-06-11 00:00:00   7062500.0       5.0       4.50        10040   \n2654  2014-06-17 00:00:00   4668000.0       5.0       6.75         9640   \n2761  2014-06-18 00:00:00   4489000.0       4.0       3.00         6430   \n...                   ...         ...       ...        ...          ...   \n4472  2014-06-09 00:00:00         0.0       4.0       3.75         4060   \n4567  2014-07-02 00:00:00         0.0       4.0       2.50         4080   \n4354  2014-05-05 00:00:00         0.0       3.0       1.75         1490   \n4454  2014-06-03 00:00:00         0.0       5.0       2.50         2090   \n4382  2014-05-12 00:00:00         0.0       5.0       4.50         4630   \n\n      sqft_lot  floors  waterfront  view  condition  sqft_above  \\\n4350      7793     1.0           0     0          4        1180   \n4346     11394     1.0           0     0          3        1550   \n2286     37325     2.0           1     2          3        7680   \n2654     13068     1.0           1     4          3        4820   \n2761     27517     2.0           0     0          3        6430   \n...        ...     ...         ...   ...        ...         ...   \n4472     19290     2.0           0     0          3        4060   \n4567     18362     2.0           0     2          4        4080   \n4354     10125     1.0           0     0          4        1490   \n4454      4698     2.0           0     0          3        2090   \n4382      6324     2.0           0     0          3        3210   \n\n      sqft_basement  yr_built  yr_renovated                 street  \\\n4350              0      1992             0      12005 SE 219th Ct   \n4346            640      1956          2001        5426 40th Ave W   \n2286           2360      1940          2001       4442 95th Ave NE   \n2654           4820      1983          2009    5044 Butterworth Rd   \n2761              0      2001             0  1149-1199 91st Ave NE   \n...             ...       ...           ...                    ...   \n4472              0      2002             0        21418 SE 5th Pl   \n4567              0      1983             0       2710 95th Ave NE   \n4354              0      1962             0        3911 S 328th St   \n4454              0      1998          2006      27622 237th Pl SE   \n4382           1420      2006             0    6925 Oakmont Ave SE   \n\n               city  statezip country  Temp  temp  \n4350           Kent  WA 98031     USA    30   NaN  \n4346        Seattle  WA 98199     USA    30   NaN  \n2286       Bellevue  WA 98004     USA    30   NaN  \n2654  Mercer Island  WA 98040     USA    30   NaN  \n2761       Bellevue  WA 98004     USA    30   NaN  \n...             ...       ...     ...   ...   ...  \n4472      Sammamish  WA 98074     USA    30   NaN  \n4567     Clyde Hill  WA 98004     USA    30   NaN  \n4354    Federal Way  WA 98001     USA    30   NaN  \n4454   Maple Valley  WA 98038     USA    30   NaN  \n4382     Snoqualmie  WA 98065     USA    30   NaN  \n\n[4600 rows x 20 columns]",
            "text/html": "<div>\n<style scoped>\n    .dataframe tbody tr th:only-of-type {\n        vertical-align: middle;\n    }\n\n    .dataframe tbody tr th {\n        vertical-align: top;\n    }\n\n    .dataframe thead th {\n        text-align: right;\n    }\n</style>\n<table border=\"1\" class=\"dataframe\">\n  <thead>\n    <tr style=\"text-align: right;\">\n      <th></th>\n      <th>date</th>\n      <th>price</th>\n      <th>bedrooms</th>\n      <th>bathrooms</th>\n      <th>sqft_living</th>\n      <th>sqft_lot</th>\n      <th>floors</th>\n      <th>waterfront</th>\n      <th>view</th>\n      <th>condition</th>\n      <th>sqft_above</th>\n      <th>sqft_basement</th>\n      <th>yr_built</th>\n      <th>yr_renovated</th>\n      <th>street</th>\n      <th>city</th>\n      <th>statezip</th>\n      <th>country</th>\n      <th>Temp</th>\n      <th>temp</th>\n    </tr>\n  </thead>\n  <tbody>\n    <tr>\n      <th>4350</th>\n      <td>2014-07-03 00:00:00</td>\n      <td>26590000.0</td>\n      <td>3.0</td>\n      <td>2.00</td>\n      <td>1180</td>\n      <td>7793</td>\n      <td>1.0</td>\n      <td>0</td>\n      <td>0</td>\n      <td>4</td>\n      <td>1180</td>\n      <td>0</td>\n      <td>1992</td>\n      <td>0</td>\n      <td>12005 SE 219th Ct</td>\n      <td>Kent</td>\n      <td>WA 98031</td>\n      <td>USA</td>\n      <td>30</td>\n      <td>NaN</td>\n    </tr>\n    <tr>\n      <th>4346</th>\n      <td>2014-06-23 00:00:00</td>\n      <td>12899000.0</td>\n      <td>3.0</td>\n      <td>2.50</td>\n      <td>2190</td>\n      <td>11394</td>\n      <td>1.0</td>\n      <td>0</td>\n      <td>0</td>\n      <td>3</td>\n      <td>1550</td>\n      <td>640</td>\n      <td>1956</td>\n      <td>2001</td>\n      <td>5426 40th Ave W</td>\n      <td>Seattle</td>\n      <td>WA 98199</td>\n      <td>USA</td>\n      <td>30</td>\n      <td>NaN</td>\n    </tr>\n    <tr>\n      <th>2286</th>\n      <td>2014-06-11 00:00:00</td>\n      <td>7062500.0</td>\n      <td>5.0</td>\n      <td>4.50</td>\n      <td>10040</td>\n      <td>37325</td>\n      <td>2.0</td>\n      <td>1</td>\n      <td>2</td>\n      <td>3</td>\n      <td>7680</td>\n      <td>2360</td>\n      <td>1940</td>\n      <td>2001</td>\n      <td>4442 95th Ave NE</td>\n      <td>Bellevue</td>\n      <td>WA 98004</td>\n      <td>USA</td>\n      <td>30</td>\n      <td>NaN</td>\n    </tr>\n    <tr>\n      <th>2654</th>\n      <td>2014-06-17 00:00:00</td>\n      <td>4668000.0</td>\n      <td>5.0</td>\n      <td>6.75</td>\n      <td>9640</td>\n      <td>13068</td>\n      <td>1.0</td>\n      <td>1</td>\n      <td>4</td>\n      <td>3</td>\n      <td>4820</td>\n      <td>4820</td>\n      <td>1983</td>\n      <td>2009</td>\n      <td>5044 Butterworth Rd</td>\n      <td>Mercer Island</td>\n      <td>WA 98040</td>\n      <td>USA</td>\n      <td>30</td>\n      <td>NaN</td>\n    </tr>\n    <tr>\n      <th>2761</th>\n      <td>2014-06-18 00:00:00</td>\n      <td>4489000.0</td>\n      <td>4.0</td>\n      <td>3.00</td>\n      <td>6430</td>\n      <td>27517</td>\n      <td>2.0</td>\n      <td>0</td>\n      <td>0</td>\n      <td>3</td>\n      <td>6430</td>\n      <td>0</td>\n      <td>2001</td>\n      <td>0</td>\n      <td>1149-1199 91st Ave NE</td>\n      <td>Bellevue</td>\n      <td>WA 98004</td>\n      <td>USA</td>\n      <td>30</td>\n      <td>NaN</td>\n    </tr>\n    <tr>\n      <th>...</th>\n      <td>...</td>\n      <td>...</td>\n      <td>...</td>\n      <td>...</td>\n      <td>...</td>\n      <td>...</td>\n      <td>...</td>\n      <td>...</td>\n      <td>...</td>\n      <td>...</td>\n      <td>...</td>\n      <td>...</td>\n      <td>...</td>\n      <td>...</td>\n      <td>...</td>\n      <td>...</td>\n      <td>...</td>\n      <td>...</td>\n      <td>...</td>\n      <td>...</td>\n    </tr>\n    <tr>\n      <th>4472</th>\n      <td>2014-06-09 00:00:00</td>\n      <td>0.0</td>\n      <td>4.0</td>\n      <td>3.75</td>\n      <td>4060</td>\n      <td>19290</td>\n      <td>2.0</td>\n      <td>0</td>\n      <td>0</td>\n      <td>3</td>\n      <td>4060</td>\n      <td>0</td>\n      <td>2002</td>\n      <td>0</td>\n      <td>21418 SE 5th Pl</td>\n      <td>Sammamish</td>\n      <td>WA 98074</td>\n      <td>USA</td>\n      <td>30</td>\n      <td>NaN</td>\n    </tr>\n    <tr>\n      <th>4567</th>\n      <td>2014-07-02 00:00:00</td>\n      <td>0.0</td>\n      <td>4.0</td>\n      <td>2.50</td>\n      <td>4080</td>\n      <td>18362</td>\n      <td>2.0</td>\n      <td>0</td>\n      <td>2</td>\n      <td>4</td>\n      <td>4080</td>\n      <td>0</td>\n      <td>1983</td>\n      <td>0</td>\n      <td>2710 95th Ave NE</td>\n      <td>Clyde Hill</td>\n      <td>WA 98004</td>\n      <td>USA</td>\n      <td>30</td>\n      <td>NaN</td>\n    </tr>\n    <tr>\n      <th>4354</th>\n      <td>2014-05-05 00:00:00</td>\n      <td>0.0</td>\n      <td>3.0</td>\n      <td>1.75</td>\n      <td>1490</td>\n      <td>10125</td>\n      <td>1.0</td>\n      <td>0</td>\n      <td>0</td>\n      <td>4</td>\n      <td>1490</td>\n      <td>0</td>\n      <td>1962</td>\n      <td>0</td>\n      <td>3911 S 328th St</td>\n      <td>Federal Way</td>\n      <td>WA 98001</td>\n      <td>USA</td>\n      <td>30</td>\n      <td>NaN</td>\n    </tr>\n    <tr>\n      <th>4454</th>\n      <td>2014-06-03 00:00:00</td>\n      <td>0.0</td>\n      <td>5.0</td>\n      <td>2.50</td>\n      <td>2090</td>\n      <td>4698</td>\n      <td>2.0</td>\n      <td>0</td>\n      <td>0</td>\n      <td>3</td>\n      <td>2090</td>\n      <td>0</td>\n      <td>1998</td>\n      <td>2006</td>\n      <td>27622 237th Pl SE</td>\n      <td>Maple Valley</td>\n      <td>WA 98038</td>\n      <td>USA</td>\n      <td>30</td>\n      <td>NaN</td>\n    </tr>\n    <tr>\n      <th>4382</th>\n      <td>2014-05-12 00:00:00</td>\n      <td>0.0</td>\n      <td>5.0</td>\n      <td>4.50</td>\n      <td>4630</td>\n      <td>6324</td>\n      <td>2.0</td>\n      <td>0</td>\n      <td>0</td>\n      <td>3</td>\n      <td>3210</td>\n      <td>1420</td>\n      <td>2006</td>\n      <td>0</td>\n      <td>6925 Oakmont Ave SE</td>\n      <td>Snoqualmie</td>\n      <td>WA 98065</td>\n      <td>USA</td>\n      <td>30</td>\n      <td>NaN</td>\n    </tr>\n  </tbody>\n</table>\n<p>4600 rows × 20 columns</p>\n</div>"
          },
          "metadata": {}
        }
      ],
      "execution_count": 52
    },
    {
      "cell_type": "code",
      "source": "df.isna()",
      "metadata": {
        "trusted": true
      },
      "outputs": [
        {
          "execution_count": 54,
          "output_type": "execute_result",
          "data": {
            "text/plain": "       date  price  bedrooms  bathrooms  sqft_living  sqft_lot  floors  \\\n4350  False  False     False      False        False     False   False   \n4346  False  False     False      False        False     False   False   \n2286  False  False     False      False        False     False   False   \n2654  False  False     False      False        False     False   False   \n2761  False  False     False      False        False     False   False   \n...     ...    ...       ...        ...          ...       ...     ...   \n4472  False  False     False      False        False     False   False   \n4567  False  False     False      False        False     False   False   \n4354  False  False     False      False        False     False   False   \n4454  False  False     False      False        False     False   False   \n4382  False  False     False      False        False     False   False   \n\n      waterfront   view  condition  sqft_above  sqft_basement  yr_built  \\\n4350       False  False      False       False          False     False   \n4346       False  False      False       False          False     False   \n2286       False  False      False       False          False     False   \n2654       False  False      False       False          False     False   \n2761       False  False      False       False          False     False   \n...          ...    ...        ...         ...            ...       ...   \n4472       False  False      False       False          False     False   \n4567       False  False      False       False          False     False   \n4354       False  False      False       False          False     False   \n4454       False  False      False       False          False     False   \n4382       False  False      False       False          False     False   \n\n      yr_renovated  street   city  statezip  country   Temp  temp  \n4350         False   False  False     False    False  False  True  \n4346         False   False  False     False    False  False  True  \n2286         False   False  False     False    False  False  True  \n2654         False   False  False     False    False  False  True  \n2761         False   False  False     False    False  False  True  \n...            ...     ...    ...       ...      ...    ...   ...  \n4472         False   False  False     False    False  False  True  \n4567         False   False  False     False    False  False  True  \n4354         False   False  False     False    False  False  True  \n4454         False   False  False     False    False  False  True  \n4382         False   False  False     False    False  False  True  \n\n[4600 rows x 20 columns]",
            "text/html": "<div>\n<style scoped>\n    .dataframe tbody tr th:only-of-type {\n        vertical-align: middle;\n    }\n\n    .dataframe tbody tr th {\n        vertical-align: top;\n    }\n\n    .dataframe thead th {\n        text-align: right;\n    }\n</style>\n<table border=\"1\" class=\"dataframe\">\n  <thead>\n    <tr style=\"text-align: right;\">\n      <th></th>\n      <th>date</th>\n      <th>price</th>\n      <th>bedrooms</th>\n      <th>bathrooms</th>\n      <th>sqft_living</th>\n      <th>sqft_lot</th>\n      <th>floors</th>\n      <th>waterfront</th>\n      <th>view</th>\n      <th>condition</th>\n      <th>sqft_above</th>\n      <th>sqft_basement</th>\n      <th>yr_built</th>\n      <th>yr_renovated</th>\n      <th>street</th>\n      <th>city</th>\n      <th>statezip</th>\n      <th>country</th>\n      <th>Temp</th>\n      <th>temp</th>\n    </tr>\n  </thead>\n  <tbody>\n    <tr>\n      <th>4350</th>\n      <td>False</td>\n      <td>False</td>\n      <td>False</td>\n      <td>False</td>\n      <td>False</td>\n      <td>False</td>\n      <td>False</td>\n      <td>False</td>\n      <td>False</td>\n      <td>False</td>\n      <td>False</td>\n      <td>False</td>\n      <td>False</td>\n      <td>False</td>\n      <td>False</td>\n      <td>False</td>\n      <td>False</td>\n      <td>False</td>\n      <td>False</td>\n      <td>True</td>\n    </tr>\n    <tr>\n      <th>4346</th>\n      <td>False</td>\n      <td>False</td>\n      <td>False</td>\n      <td>False</td>\n      <td>False</td>\n      <td>False</td>\n      <td>False</td>\n      <td>False</td>\n      <td>False</td>\n      <td>False</td>\n      <td>False</td>\n      <td>False</td>\n      <td>False</td>\n      <td>False</td>\n      <td>False</td>\n      <td>False</td>\n      <td>False</td>\n      <td>False</td>\n      <td>False</td>\n      <td>True</td>\n    </tr>\n    <tr>\n      <th>2286</th>\n      <td>False</td>\n      <td>False</td>\n      <td>False</td>\n      <td>False</td>\n      <td>False</td>\n      <td>False</td>\n      <td>False</td>\n      <td>False</td>\n      <td>False</td>\n      <td>False</td>\n      <td>False</td>\n      <td>False</td>\n      <td>False</td>\n      <td>False</td>\n      <td>False</td>\n      <td>False</td>\n      <td>False</td>\n      <td>False</td>\n      <td>False</td>\n      <td>True</td>\n    </tr>\n    <tr>\n      <th>2654</th>\n      <td>False</td>\n      <td>False</td>\n      <td>False</td>\n      <td>False</td>\n      <td>False</td>\n      <td>False</td>\n      <td>False</td>\n      <td>False</td>\n      <td>False</td>\n      <td>False</td>\n      <td>False</td>\n      <td>False</td>\n      <td>False</td>\n      <td>False</td>\n      <td>False</td>\n      <td>False</td>\n      <td>False</td>\n      <td>False</td>\n      <td>False</td>\n      <td>True</td>\n    </tr>\n    <tr>\n      <th>2761</th>\n      <td>False</td>\n      <td>False</td>\n      <td>False</td>\n      <td>False</td>\n      <td>False</td>\n      <td>False</td>\n      <td>False</td>\n      <td>False</td>\n      <td>False</td>\n      <td>False</td>\n      <td>False</td>\n      <td>False</td>\n      <td>False</td>\n      <td>False</td>\n      <td>False</td>\n      <td>False</td>\n      <td>False</td>\n      <td>False</td>\n      <td>False</td>\n      <td>True</td>\n    </tr>\n    <tr>\n      <th>...</th>\n      <td>...</td>\n      <td>...</td>\n      <td>...</td>\n      <td>...</td>\n      <td>...</td>\n      <td>...</td>\n      <td>...</td>\n      <td>...</td>\n      <td>...</td>\n      <td>...</td>\n      <td>...</td>\n      <td>...</td>\n      <td>...</td>\n      <td>...</td>\n      <td>...</td>\n      <td>...</td>\n      <td>...</td>\n      <td>...</td>\n      <td>...</td>\n      <td>...</td>\n    </tr>\n    <tr>\n      <th>4472</th>\n      <td>False</td>\n      <td>False</td>\n      <td>False</td>\n      <td>False</td>\n      <td>False</td>\n      <td>False</td>\n      <td>False</td>\n      <td>False</td>\n      <td>False</td>\n      <td>False</td>\n      <td>False</td>\n      <td>False</td>\n      <td>False</td>\n      <td>False</td>\n      <td>False</td>\n      <td>False</td>\n      <td>False</td>\n      <td>False</td>\n      <td>False</td>\n      <td>True</td>\n    </tr>\n    <tr>\n      <th>4567</th>\n      <td>False</td>\n      <td>False</td>\n      <td>False</td>\n      <td>False</td>\n      <td>False</td>\n      <td>False</td>\n      <td>False</td>\n      <td>False</td>\n      <td>False</td>\n      <td>False</td>\n      <td>False</td>\n      <td>False</td>\n      <td>False</td>\n      <td>False</td>\n      <td>False</td>\n      <td>False</td>\n      <td>False</td>\n      <td>False</td>\n      <td>False</td>\n      <td>True</td>\n    </tr>\n    <tr>\n      <th>4354</th>\n      <td>False</td>\n      <td>False</td>\n      <td>False</td>\n      <td>False</td>\n      <td>False</td>\n      <td>False</td>\n      <td>False</td>\n      <td>False</td>\n      <td>False</td>\n      <td>False</td>\n      <td>False</td>\n      <td>False</td>\n      <td>False</td>\n      <td>False</td>\n      <td>False</td>\n      <td>False</td>\n      <td>False</td>\n      <td>False</td>\n      <td>False</td>\n      <td>True</td>\n    </tr>\n    <tr>\n      <th>4454</th>\n      <td>False</td>\n      <td>False</td>\n      <td>False</td>\n      <td>False</td>\n      <td>False</td>\n      <td>False</td>\n      <td>False</td>\n      <td>False</td>\n      <td>False</td>\n      <td>False</td>\n      <td>False</td>\n      <td>False</td>\n      <td>False</td>\n      <td>False</td>\n      <td>False</td>\n      <td>False</td>\n      <td>False</td>\n      <td>False</td>\n      <td>False</td>\n      <td>True</td>\n    </tr>\n    <tr>\n      <th>4382</th>\n      <td>False</td>\n      <td>False</td>\n      <td>False</td>\n      <td>False</td>\n      <td>False</td>\n      <td>False</td>\n      <td>False</td>\n      <td>False</td>\n      <td>False</td>\n      <td>False</td>\n      <td>False</td>\n      <td>False</td>\n      <td>False</td>\n      <td>False</td>\n      <td>False</td>\n      <td>False</td>\n      <td>False</td>\n      <td>False</td>\n      <td>False</td>\n      <td>True</td>\n    </tr>\n  </tbody>\n</table>\n<p>4600 rows × 20 columns</p>\n</div>"
          },
          "metadata": {}
        }
      ],
      "execution_count": 54
    },
    {
      "cell_type": "code",
      "source": "df.isna().sum()",
      "metadata": {
        "trusted": true
      },
      "outputs": [
        {
          "execution_count": 55,
          "output_type": "execute_result",
          "data": {
            "text/plain": "date                0\nprice               0\nbedrooms            0\nbathrooms           0\nsqft_living         0\nsqft_lot            0\nfloors              0\nwaterfront          0\nview                0\ncondition           0\nsqft_above          0\nsqft_basement       0\nyr_built            0\nyr_renovated        0\nstreet              0\ncity                0\nstatezip            0\ncountry             0\nTemp                0\ntemp             4600\ndtype: int64"
          },
          "metadata": {}
        }
      ],
      "execution_count": 55
    },
    {
      "cell_type": "code",
      "source": "df.shape",
      "metadata": {
        "trusted": true
      },
      "outputs": [
        {
          "execution_count": 56,
          "output_type": "execute_result",
          "data": {
            "text/plain": "(4600, 20)"
          },
          "metadata": {}
        }
      ],
      "execution_count": 56
    },
    {
      "cell_type": "code",
      "source": "df.isna().sum()",
      "metadata": {
        "trusted": true
      },
      "outputs": [
        {
          "execution_count": 57,
          "output_type": "execute_result",
          "data": {
            "text/plain": "date                0\nprice               0\nbedrooms            0\nbathrooms           0\nsqft_living         0\nsqft_lot            0\nfloors              0\nwaterfront          0\nview                0\ncondition           0\nsqft_above          0\nsqft_basement       0\nyr_built            0\nyr_renovated        0\nstreet              0\ncity                0\nstatezip            0\ncountry             0\nTemp                0\ntemp             4600\ndtype: int64"
          },
          "metadata": {}
        }
      ],
      "execution_count": 57
    },
    {
      "cell_type": "code",
      "source": "# Displays the Null values on DataFrame (after adding Null values using numpy -> df[\"temp\"]=np.nan\ndf.isna().sum().sum()",
      "metadata": {
        "trusted": true
      },
      "outputs": [
        {
          "execution_count": 47,
          "output_type": "execute_result",
          "data": {
            "text/plain": "4600"
          },
          "metadata": {}
        }
      ],
      "execution_count": 47
    },
    {
      "cell_type": "code",
      "source": "# Drop a column\ndf.drop(columns=[\"temp\"],inplace=True)",
      "metadata": {
        "trusted": true
      },
      "outputs": [],
      "execution_count": 58
    },
    {
      "cell_type": "code",
      "source": "df",
      "metadata": {
        "trusted": true
      },
      "outputs": [
        {
          "execution_count": 59,
          "output_type": "execute_result",
          "data": {
            "text/plain": "                     date       price  bedrooms  bathrooms  sqft_living  \\\n4350  2014-07-03 00:00:00  26590000.0       3.0       2.00         1180   \n4346  2014-06-23 00:00:00  12899000.0       3.0       2.50         2190   \n2286  2014-06-11 00:00:00   7062500.0       5.0       4.50        10040   \n2654  2014-06-17 00:00:00   4668000.0       5.0       6.75         9640   \n2761  2014-06-18 00:00:00   4489000.0       4.0       3.00         6430   \n...                   ...         ...       ...        ...          ...   \n4472  2014-06-09 00:00:00         0.0       4.0       3.75         4060   \n4567  2014-07-02 00:00:00         0.0       4.0       2.50         4080   \n4354  2014-05-05 00:00:00         0.0       3.0       1.75         1490   \n4454  2014-06-03 00:00:00         0.0       5.0       2.50         2090   \n4382  2014-05-12 00:00:00         0.0       5.0       4.50         4630   \n\n      sqft_lot  floors  waterfront  view  condition  sqft_above  \\\n4350      7793     1.0           0     0          4        1180   \n4346     11394     1.0           0     0          3        1550   \n2286     37325     2.0           1     2          3        7680   \n2654     13068     1.0           1     4          3        4820   \n2761     27517     2.0           0     0          3        6430   \n...        ...     ...         ...   ...        ...         ...   \n4472     19290     2.0           0     0          3        4060   \n4567     18362     2.0           0     2          4        4080   \n4354     10125     1.0           0     0          4        1490   \n4454      4698     2.0           0     0          3        2090   \n4382      6324     2.0           0     0          3        3210   \n\n      sqft_basement  yr_built  yr_renovated                 street  \\\n4350              0      1992             0      12005 SE 219th Ct   \n4346            640      1956          2001        5426 40th Ave W   \n2286           2360      1940          2001       4442 95th Ave NE   \n2654           4820      1983          2009    5044 Butterworth Rd   \n2761              0      2001             0  1149-1199 91st Ave NE   \n...             ...       ...           ...                    ...   \n4472              0      2002             0        21418 SE 5th Pl   \n4567              0      1983             0       2710 95th Ave NE   \n4354              0      1962             0        3911 S 328th St   \n4454              0      1998          2006      27622 237th Pl SE   \n4382           1420      2006             0    6925 Oakmont Ave SE   \n\n               city  statezip country  Temp  \n4350           Kent  WA 98031     USA    30  \n4346        Seattle  WA 98199     USA    30  \n2286       Bellevue  WA 98004     USA    30  \n2654  Mercer Island  WA 98040     USA    30  \n2761       Bellevue  WA 98004     USA    30  \n...             ...       ...     ...   ...  \n4472      Sammamish  WA 98074     USA    30  \n4567     Clyde Hill  WA 98004     USA    30  \n4354    Federal Way  WA 98001     USA    30  \n4454   Maple Valley  WA 98038     USA    30  \n4382     Snoqualmie  WA 98065     USA    30  \n\n[4600 rows x 19 columns]",
            "text/html": "<div>\n<style scoped>\n    .dataframe tbody tr th:only-of-type {\n        vertical-align: middle;\n    }\n\n    .dataframe tbody tr th {\n        vertical-align: top;\n    }\n\n    .dataframe thead th {\n        text-align: right;\n    }\n</style>\n<table border=\"1\" class=\"dataframe\">\n  <thead>\n    <tr style=\"text-align: right;\">\n      <th></th>\n      <th>date</th>\n      <th>price</th>\n      <th>bedrooms</th>\n      <th>bathrooms</th>\n      <th>sqft_living</th>\n      <th>sqft_lot</th>\n      <th>floors</th>\n      <th>waterfront</th>\n      <th>view</th>\n      <th>condition</th>\n      <th>sqft_above</th>\n      <th>sqft_basement</th>\n      <th>yr_built</th>\n      <th>yr_renovated</th>\n      <th>street</th>\n      <th>city</th>\n      <th>statezip</th>\n      <th>country</th>\n      <th>Temp</th>\n    </tr>\n  </thead>\n  <tbody>\n    <tr>\n      <th>4350</th>\n      <td>2014-07-03 00:00:00</td>\n      <td>26590000.0</td>\n      <td>3.0</td>\n      <td>2.00</td>\n      <td>1180</td>\n      <td>7793</td>\n      <td>1.0</td>\n      <td>0</td>\n      <td>0</td>\n      <td>4</td>\n      <td>1180</td>\n      <td>0</td>\n      <td>1992</td>\n      <td>0</td>\n      <td>12005 SE 219th Ct</td>\n      <td>Kent</td>\n      <td>WA 98031</td>\n      <td>USA</td>\n      <td>30</td>\n    </tr>\n    <tr>\n      <th>4346</th>\n      <td>2014-06-23 00:00:00</td>\n      <td>12899000.0</td>\n      <td>3.0</td>\n      <td>2.50</td>\n      <td>2190</td>\n      <td>11394</td>\n      <td>1.0</td>\n      <td>0</td>\n      <td>0</td>\n      <td>3</td>\n      <td>1550</td>\n      <td>640</td>\n      <td>1956</td>\n      <td>2001</td>\n      <td>5426 40th Ave W</td>\n      <td>Seattle</td>\n      <td>WA 98199</td>\n      <td>USA</td>\n      <td>30</td>\n    </tr>\n    <tr>\n      <th>2286</th>\n      <td>2014-06-11 00:00:00</td>\n      <td>7062500.0</td>\n      <td>5.0</td>\n      <td>4.50</td>\n      <td>10040</td>\n      <td>37325</td>\n      <td>2.0</td>\n      <td>1</td>\n      <td>2</td>\n      <td>3</td>\n      <td>7680</td>\n      <td>2360</td>\n      <td>1940</td>\n      <td>2001</td>\n      <td>4442 95th Ave NE</td>\n      <td>Bellevue</td>\n      <td>WA 98004</td>\n      <td>USA</td>\n      <td>30</td>\n    </tr>\n    <tr>\n      <th>2654</th>\n      <td>2014-06-17 00:00:00</td>\n      <td>4668000.0</td>\n      <td>5.0</td>\n      <td>6.75</td>\n      <td>9640</td>\n      <td>13068</td>\n      <td>1.0</td>\n      <td>1</td>\n      <td>4</td>\n      <td>3</td>\n      <td>4820</td>\n      <td>4820</td>\n      <td>1983</td>\n      <td>2009</td>\n      <td>5044 Butterworth Rd</td>\n      <td>Mercer Island</td>\n      <td>WA 98040</td>\n      <td>USA</td>\n      <td>30</td>\n    </tr>\n    <tr>\n      <th>2761</th>\n      <td>2014-06-18 00:00:00</td>\n      <td>4489000.0</td>\n      <td>4.0</td>\n      <td>3.00</td>\n      <td>6430</td>\n      <td>27517</td>\n      <td>2.0</td>\n      <td>0</td>\n      <td>0</td>\n      <td>3</td>\n      <td>6430</td>\n      <td>0</td>\n      <td>2001</td>\n      <td>0</td>\n      <td>1149-1199 91st Ave NE</td>\n      <td>Bellevue</td>\n      <td>WA 98004</td>\n      <td>USA</td>\n      <td>30</td>\n    </tr>\n    <tr>\n      <th>...</th>\n      <td>...</td>\n      <td>...</td>\n      <td>...</td>\n      <td>...</td>\n      <td>...</td>\n      <td>...</td>\n      <td>...</td>\n      <td>...</td>\n      <td>...</td>\n      <td>...</td>\n      <td>...</td>\n      <td>...</td>\n      <td>...</td>\n      <td>...</td>\n      <td>...</td>\n      <td>...</td>\n      <td>...</td>\n      <td>...</td>\n      <td>...</td>\n    </tr>\n    <tr>\n      <th>4472</th>\n      <td>2014-06-09 00:00:00</td>\n      <td>0.0</td>\n      <td>4.0</td>\n      <td>3.75</td>\n      <td>4060</td>\n      <td>19290</td>\n      <td>2.0</td>\n      <td>0</td>\n      <td>0</td>\n      <td>3</td>\n      <td>4060</td>\n      <td>0</td>\n      <td>2002</td>\n      <td>0</td>\n      <td>21418 SE 5th Pl</td>\n      <td>Sammamish</td>\n      <td>WA 98074</td>\n      <td>USA</td>\n      <td>30</td>\n    </tr>\n    <tr>\n      <th>4567</th>\n      <td>2014-07-02 00:00:00</td>\n      <td>0.0</td>\n      <td>4.0</td>\n      <td>2.50</td>\n      <td>4080</td>\n      <td>18362</td>\n      <td>2.0</td>\n      <td>0</td>\n      <td>2</td>\n      <td>4</td>\n      <td>4080</td>\n      <td>0</td>\n      <td>1983</td>\n      <td>0</td>\n      <td>2710 95th Ave NE</td>\n      <td>Clyde Hill</td>\n      <td>WA 98004</td>\n      <td>USA</td>\n      <td>30</td>\n    </tr>\n    <tr>\n      <th>4354</th>\n      <td>2014-05-05 00:00:00</td>\n      <td>0.0</td>\n      <td>3.0</td>\n      <td>1.75</td>\n      <td>1490</td>\n      <td>10125</td>\n      <td>1.0</td>\n      <td>0</td>\n      <td>0</td>\n      <td>4</td>\n      <td>1490</td>\n      <td>0</td>\n      <td>1962</td>\n      <td>0</td>\n      <td>3911 S 328th St</td>\n      <td>Federal Way</td>\n      <td>WA 98001</td>\n      <td>USA</td>\n      <td>30</td>\n    </tr>\n    <tr>\n      <th>4454</th>\n      <td>2014-06-03 00:00:00</td>\n      <td>0.0</td>\n      <td>5.0</td>\n      <td>2.50</td>\n      <td>2090</td>\n      <td>4698</td>\n      <td>2.0</td>\n      <td>0</td>\n      <td>0</td>\n      <td>3</td>\n      <td>2090</td>\n      <td>0</td>\n      <td>1998</td>\n      <td>2006</td>\n      <td>27622 237th Pl SE</td>\n      <td>Maple Valley</td>\n      <td>WA 98038</td>\n      <td>USA</td>\n      <td>30</td>\n    </tr>\n    <tr>\n      <th>4382</th>\n      <td>2014-05-12 00:00:00</td>\n      <td>0.0</td>\n      <td>5.0</td>\n      <td>4.50</td>\n      <td>4630</td>\n      <td>6324</td>\n      <td>2.0</td>\n      <td>0</td>\n      <td>0</td>\n      <td>3</td>\n      <td>3210</td>\n      <td>1420</td>\n      <td>2006</td>\n      <td>0</td>\n      <td>6925 Oakmont Ave SE</td>\n      <td>Snoqualmie</td>\n      <td>WA 98065</td>\n      <td>USA</td>\n      <td>30</td>\n    </tr>\n  </tbody>\n</table>\n<p>4600 rows × 19 columns</p>\n</div>"
          },
          "metadata": {}
        }
      ],
      "execution_count": 59
    },
    {
      "cell_type": "code",
      "source": "# Group by\ngroups_city = df.groupby('city')",
      "metadata": {
        "trusted": true
      },
      "outputs": [],
      "execution_count": 61
    },
    {
      "cell_type": "code",
      "source": "groups_city.groups",
      "metadata": {
        "trusted": true
      },
      "outputs": [
        {
          "execution_count": 62,
          "output_type": "execute_result",
          "data": {
            "text/plain": "{'Algona': [324, 420, 377, 1598, 290], 'Auburn': [1272, 3894, 1265, 2316, 4252, 2326, 4262, 479, 3574, 1261, 2748, 312, 56, 2406, 2405, 2199, 2332, 697, 960, 2007, 3837, 3972, 2968, 34, 3801, 881, 4055, 4326, 708, 17, 2146, 207, 878, 1986, 3659, 3258, 1684, 1306, 2464, 4126, 3010, 345, 1964, 3515, 4161, 4053, 70, 2701, 1040, 3157, 4418, 4033, 103, 3524, 1746, 3045, 3130, 4416, 662, 978, 3883, 1830, 2347, 2372, 2269, 1017, 1715, 3803, 2391, 1996, 4319, 1082, 2420, 1406, 2330, 431, 4593, 3246, 610, 1921, 2128, 3889, 3915, 3370, 2836, 293, 415, 3304, 2628, 2142, 1725, 3494, 2813, 641, 2494, 2758, 3642, 1125, 1215, 640, ...], 'Beaux Arts Village': [1476], 'Bellevue': [2286, 2761, 2083, 3284, 1209, 2978, 3058, 3699, 1690, 2109, 1629, 3913, 1974, 227, 2713, 3349, 2093, 3534, 1143, 1662, 482, 3783, 359, 2005, 3875, 880, 1602, 2728, 414, 2333, 4169, 4467, 3002, 3389, 4009, 847, 1837, 537, 3234, 3004, 4277, 2883, 3639, 3286, 862, 970, 1127, 2670, 2786, 2096, 4082, 1845, 4114, 1873, 3016, 3463, 3007, 1171, 2417, 1053, 692, 1200, 3403, 3939, 3827, 2418, 118, 2906, 3738, 3898, 736, 1687, 1455, 2973, 2935, 591, 1089, 2550, 1702, 1241, 696, 1341, 3630, 2603, 2264, 3362, 1899, 3299, 3149, 1224, 480, 2367, 1444, 2239, 3988, 2631, 589, 1581, 1595, 3269, ...], 'Black Diamond': [3703, 3357, 3743, 1191, 4129, 234, 439, 3521, 4507], 'Bothell': [2616, 3840, 23, 2260, 3740, 2305, 1448, 829, 2085, 2408, 4197, 3948, 2944, 54, 3107, 2961, 1618, 4238, 4050, 2962, 3438, 3814, 1797, 4421, 1782, 249, 2259, 1069, 2594, 2530, 4564, 2236, 3077], 'Burien': [2025, 3283, 381, 518, 2488, 3470, 3415, 1823, 4139, 1257, 372, 2869, 3072, 2106, 2586, 2483, 3602, 2945, 3345, 4291, 3582, 2777, 3927, 2230, 3498, 174, 3507, 3089, 3949, 2950, 503, 3189, 435, 2539, 4546, 3644, 604, 1991, 1407, 1597, 230, 3435, 4549, 3825, 260, 1160, 237, 250, 2919, 1383, 3907, 2171, 3406, 1423, 531, 3482, 117, 2939, 3501, 2970, 1754, 4251, 307, 2044, 4424, 2194, 4568, 2212, 3375, 2572, 2686, 3643, 4361, 4357], 'Carnation': [1302, 4306, 461, 2157, 4086, 3122, 3538, 248, 254, 2894, 4324, 1051, 2063, 3622, 2895, 917, 1833, 53, 4513, 173, 1112, 1219], 'Clyde Hill': [3729, 1600, 3491, 525, 2357, 3859, 273, 1264, 474, 4480, 4567], 'Covington': [4348, 2207, 599, 3408, 1596, 3687, 3075, 3424, 3115, 4514, 2951, 1709, 991, 1397, 3290, 2736, 1910, 394, 691, 2508, 3155, 3042, 243, 2643, 3136, 4201, 155, 3554, 300, 2183, 4599, 3713, 2325, 833, 3757, 3061, 1055, 1141, 761, 1484, 4407, 4415, 4408], 'Des Moines': [2964, 2411, 1154, 3449, 4013, 1575, 919, 1937, 172, 1085, 2024, 3763, 3310, 4157, 830, 1159, 4176, 4264, 1367, 2756, 2942, 1930, 160, 4232, 1413, 3367, 2386, 3213, 18, 3841, 2121, 901, 1889, 3628, 4190, 371, 1659, 2876, 3505, 1815, 89, 3506, 1589, 2441, 132, 3119, 1084, 1050, 4526, 2785, 633, 3835, 815, 1628, 3171, 1779, 2240, 3528], 'Duvall': [1962, 2166, 2127, 2759, 484, 1570, 2798, 1983, 1955, 2618, 673, 4141, 1316, 1368, 2132, 1031, 2568, 3753, 3519, 3268, 317, 1821, 2695, 3124, 1851, 747, 449, 3513, 2729, 2168, 2135, 614, 3396, 1153, 3727, 112, 566, 2145, 4531, 3610, 1857, 4353], 'Enumclaw': [1722, 3487, 2872, 3702, 4266, 3187, 3211, 2370, 2881, 4087, 1539, 851, 3995, 1958, 1140, 2104, 3604, 3552, 3056, 1067, 1221, 4207, 2839, 1311, 4537, 3706, 4387, 4374], 'Fall City': [2731, 4283, 1511, 779, 4286, 3402, 664, 2196, 40, 2018, 406], 'Federal Way': [4108, 634, 1606, 35, 1755, 3235, 1360, 1225, 1163, 3918, 4250, 2262, 1527, 448, 1463, 699, 3600, 4265, 3173, 398, 1167, 97, 1812, 1462, 1521, 1510, 3446, 4296, 1204, 369, 4410, 2913, 2322, 2356, 2623, 861, 1117, 3188, 251, 3701, 277, 3165, 2764, 816, 4210, 2051, 3755, 1569, 3339, 669, 932, 346, 218, 2026, 4298, 4167, 2790, 2601, 25, 2278, 3467, 4332, 1255, 2890, 1844, 2734, 2015, 551, 1426, 1548, 3989, 2897, 1526, 3929, 3050, 749, 3139, 993, 416, 319, 3522, 1990, 705, 716, 3484, 1509, 4592, 3508, 1903, 2098, 1822, 796, 891, 1172, 4063, 4414, 2774, 792, 1487, 4070, ...], 'Inglewood-Finn Hill': [166], 'Issaquah': [462, 2846, 2030, 1182, 1208, 3577, 4061, 3693, 1130, 3118, 143, 148, 902, 3724, 2517, 1644, 776, 3405, 4160, 2509, 3274, 514, 1044, 3517, 1522, 3123, 557, 703, 1799, 391, 772, 549, 325, 3297, 2520, 4303, 828, 654, 1811, 3143, 79, 513, 1534, 741, 4039, 2436, 28, 4154, 3981, 2921, 1838, 1691, 2525, 3091, 2090, 1641, 3270, 50, 1936, 4089, 3799, 80, 1419, 2794, 3477, 738, 797, 278, 2075, 845, 161, 400, 4548, 1798, 263, 3962, 3347, 4011, 2475, 2261, 1332, 2070, 1674, 4116, 3388, 3845, 2581, 2784, 2778, 3887, 896, 3315, 2421, 4321, 296, 1135, 140, 4151, 1919, 3025, ...], 'Kenmore': [2060, 3975, 2788, 3828, 1874, 3394, 422, 2531, 185, 3462, 458, 935, 1920, 2818, 2521, 1102, 3670, 3737, 196, 670, 618, 385, 3663, 170, 4240, 550, 1525, 4003, 3736, 1931, 922, 838, 1328, 4474, 1490, 3303, 2513, 302, 1863, 1828, 1560, 1573, 730, 1351, 1999, 973, 1620, 2850, 1321, 178, 3359, 3509, 2120, 1428, 3550, 727, 1015, 4502, 4440, 3994, 648, 1421, 3566, 3658, 4378, 4420], 'Kent': [4350, 262, 2138, 1769, 2782, 2588, 344, 1137, 1474, 1461, 2463, 3711, 2033, 1152, 801, 1535, 4194, 3625, 813, 3580, 3249, 3930, 3857, 3916, 3279, 3428, 2870, 3152, 2677, 2660, 3780, 4341, 555, 1747, 2160, 3070, 3564, 4299, 3466, 348, 3080, 3834, 1349, 2, 3897, 1841, 3846, 1205, 3861, 3539, 3317, 3679, 3717, 1739, 3653, 336, 2484, 657, 1348, 1633, 1721, 3217, 729, 1701, 2430, 3450, 2185, 427, 244, 3158, 2111, 819, 3233, 3891, 3131, 2458, 4034, 63, 4072, 892, 2704, 4150, 4367, 1957, 859, 1862, 3455, 2720, 2301, 3154, 176, 2613, 1361, 1382, 2965, 3451, 2691, 2762, 3548, 3712, ...], 'Kirkland': [2772, 1132, 1411, 1077, 1128, 2699, 309, 2361, 2815, 2250, 1176, 3720, 3946, 1134, 3893, 3688, 4202, 543, 1139, 310, 1697, 1133, 2181, 3808, 3220, 4163, 3601, 3697, 2953, 959, 2561, 74, 2590, 2266, 2381, 3024, 1035, 1370, 2776, 2609, 1859, 1791, 1648, 2814, 3912, 90, 3472, 1340, 2394, 1915, 242, 1412, 2243, 686, 3078, 4470, 4445, 2716, 27, 1083, 3027, 4020, 1126, 1929, 2231, 1198, 4497, 3673, 3870, 4219, 3961, 2987, 87, 4125, 1109, 1471, 2899, 367, 2439, 2905, 3384, 261, 1063, 2003, 4081, 4258, 1802, 1118, 2567, 1437, 175, 929, 2035, 499, 2229, 1062, 2059, 2034, 2375, 528, ...], 'Lake Forest Park': [2930, 3565, 3238, 4220, 768, 2193, 401, 3640, 2799, 291, 3481, 2863, 1750, 2126, 2208, 10, 3439, 3457, 3319, 3651, 3452, 1713, 2023, 1808, 2847, 2633, 608, 3088, 2304, 2225, 2447, 3442, 4360, 2664, 4394, 4552], 'Maple Valley': [3555, 2089, 3254, 3456, 2507, 1673, 2855, 1579, 1847, 7, 2900, 3593, 3649, 2995, 976, 3800, 490, 4093, 3646, 3571, 2249, 2592, 542, 971, 2000, 305, 2604, 2960, 1826, 2826, 4281, 3758, 1995, 3545, 4153, 4040, 807, 1003, 3698, 2004, 865, 1088, 2982, 3832, 1021, 2479, 2730, 3785, 3354, 3541, 465, 651, 4468, 2802, 3620, 835, 1400, 1764, 111, 507, 1736, 1946, 4029, 1313, 2302, 3944, 37, 3306, 3868, 236, 1676, 1119, 3885, 4451, 2190, 4305, 4300, 3645, 1262, 1494, 2647, 809, 2419, 3377, 1304, 2737, 887, 4331, 3611, 450, 2949, 744, 1496, 529, 4447, 4454], 'Medina': [1637, 1571, 4261, 4135, 3863, 745, 2607, 995, 3502, 2139, 4349], 'Mercer Island': [2654, 1567, 3791, 3959, 4273, 2711, 839, 2917, 217, 2885, 2226, 1345, 3667, 452, 4246, 611, 1268, 603, 3695, 606, 1369, 2108, 2094, 1813, 1636, 373, 1675, 2186, 534, 478, 3910, 3563, 4076, 3422, 1843, 318, 2481, 2954, 1399, 700, 4515, 4527, 1622, 506, 3892, 2979, 629, 2920, 1427, 1070, 2468, 2993, 483, 1717, 505, 3951, 2399, 322, 4019, 3465, 3039, 1961, 1882, 592, 3180, 2342, 3412, 2403, 1766, 2740, 4578, 4532, 3817, 3919, 4218, 4144, 1978, 3288, 4562, 4529, 2562, 4428, 4385, 4453, 4523, 4509], 'Milton': [2064, 4112], 'Newcastle': [3281, 2672, 1761, 2879, 4233, 1555, 781, 3355, 2706, 2910, 206, 590, 1192, 1788, 1059, 2914, 1572, 3005, 923, 2053, 653, 3106, 1884, 3733, 2528, 4213, 4131, 4128, 2661, 1731, 3387, 208, 3614], 'Normandy Park': [3682, 4049, 937, 337, 637, 3822, 2844, 2414, 4101, 3219, 2741, 38, 1855, 2022, 605, 2733, 522, 4376], 'North Bend': [2446, 4254, 3618, 2268, 3807, 1649, 1965, 3603, 879, 3882, 2129, 1748, 61, 2769, 8, 2348, 4155, 1780, 783, 921, 1829, 2574, 1614, 1232, 2958, 4028, 4119, 3184, 2922, 1299, 4059, 3301, 1161, 3432, 1896, 2552, 3718, 1180, 1801, 3318, 871, 194, 3037, 733, 2276, 19, 794, 4369, 440, 2321], 'Pacific': [3397, 1346, 1820, 1105, 1456, 3761], 'Preston': [1944, 1672], 'Ravensdale': [2551, 1103, 240, 671, 446, 445, 1227], 'Redmond': [122, 3153, 4032, 965, 3209, 2434, 471, 1275, 2031, 233, 3906, 107, 1239, 541, 2294, 2742, 2472, 1824, 3022, 2889, 3787, 3888, 1181, 4031, 3696, 3990, 3970, 189, 2665, 444, 3239, 49, 2624, 2046, 3076, 142, 1363, 3802, 545, 930, 1052, 4164, 3099, 774, 1733, 690, 1424, 2368, 1280, 2358, 3627, 228, 3011, 68, 2727, 1005, 1410, 1856, 904, 2926, 3205, 502, 728, 4269, 1886, 3272, 2027, 2148, 4268, 2184, 4230, 3293, 1520, 2651, 3558, 4227, 1259, 2912, 2911, 3305, 3321, 2708, 805, 4172, 2843, 1378, 150, 3789, 3596, 1116, 3830, 2393, 4069, 2245, 1654, 4340, 4005, 2082, 4485, 2559, ...], 'Renton': [4138, 3958, 3511, 360, 1901, 390, 2612, 4091, 100, 2933, 1481, 4270, 279, 271, 64, 62, 3311, 4115, 1149, 4200, 1768, 2809, 225, 2360, 4183, 2988, 3576, 999, 3953, 2541, 2008, 3671, 1235, 129, 1968, 4241, 2620, 2102, 2719, 2086, 2270, 4226, 3518, 179, 3960, 1038, 1352, 4044, 4173, 624, 2362, 3680, 1519, 1001, 2636, 2407, 2279, 4434, 3993, 147, 571, 1796, 3100, 3585, 2698, 2311, 2076, 2726, 4505, 2041, 544, 3208, 1875, 1418, 2873, 4234, 1281, 4365, 918, 3049, 3490, 4088, 1228, 3684, 702, 3654, 4152, 4278, 818, 3784, 2824, 2610, 1900, 4302, 3525, 2947, 3012, 2487, 4597, 850, ...], 'Sammamish': [404, 1301, 2725, 2401, 704, 3358, 3924, 3775, 578, 4375, 3346, 1202, 2605, 4174, 2073, 1467, 677, 1395, 3008, 397, 780, 2738, 4048, 2069, 2471, 4282, 1878, 3709, 1792, 4060, 3978, 81, 2440, 2371, 2614, 1480, 2072, 442, 1309, 2938, 2340, 842, 130, 2996, 1945, 77, 2903, 3340, 4052, 2747, 200, 4158, 2573, 3551, 4215, 1142, 2244, 1115, 2338, 3739, 2781, 1338, 934, 351, 2959, 2902, 695, 3327, 2100, 2595, 1536, 740, 2182, 1794, 748, 4510, 2791, 3526, 198, 3038, 1248, 4565, 4419, 1580, 3426, 1683, 1689, 1452, 1661, 1652, 4191, 2210, 4336, 1195, 1458, 547, 2032, 494, 4057, 4008, ...], 'SeaTac': [3824, 2641, 1206, 683, 3033, 1310, 2862, 1528, 3535, 2743, 1585, 2277, 1502, 1045, 1993, 2455, 2144, 2445, 3480, 583, 3137, 992, 1184, 2655, 4068, 4368, 1541, 908, 4411], 'Seattle': [4346, 252, 2328, 4465, 581, 2712, 3202, 1543, 2980, 1858, 1, 3781, 2364, 4143, 3873, 3496, 1500, 3661, 3923, 356, 3964, 2533, 2584, 2500, 3748, 1010, 2412, 4142, 1355, 3768, 4017, 3935, 1386, 3609, 3117, 201, 1337, 2724, 2825, 1056, 1660, 284, 4204, 2972, 4030, 2858, 1584, 133, 650, 2767, 1518, 11, 1468, 99, 3499, 2040, 1617, 3798, 3337, 285, 3469, 2454, 3368, 2837, 1258, 488, 2841, 366, 2971, 1951, 4042, 524, 3721, 4572, 1436, 3968, 2061, 979, 734, 3460, 4209, 2206, 4325, 193, 3133, 1107, 1470, 4136, 14, 3963, 3629, 3705, 4120, 927, 2705, 2389, 1186, 1464, 3634, 3200, ...], 'Shoreline': [1911, 2495, 916, 1100, 1763, 666, 4344, 2057, 4171, 2048, 1094, 210, 33, 658, 2763, 2299, 232, 2676, 1866, 3084, 3691, 270, 884, 3847, 2779, 2363, 2339, 577, 4104, 553, 1120, 2994, 1354, 1905, 4242, 4083, 1342, 304, 3276, 750, 3899, 2989, 85, 1960, 2380, 2218, 846, 120, 1242, 2755, 742, 4006, 1016, 2273, 593, 3641, 1318, 177, 867, 660, 1329, 2049, 3256, 2251, 1314, 3877, 4317, 2880, 1270, 3065, 3676, 3352, 2197, 2722, 476, 3911, 512, 2991, 3225, 3237, 1870, 0, 1389, 682, 2234, 42, 2247, 1705, 3222, 2448, 3181, 3631, 3860, 3612, 721, 3040, 996, 3381, 1495, 3938, ...], 'Skykomish': [3598, 4184, 326], 'Snoqualmie': [1417, 1952, 3770, 57, 1925, 3300, 1686, 3014, 4304, 1517, 2265, 4189, 844, 4018, 621, 1586, 1590, 1922, 3156, 1030, 1196, 3437, 785, 1923, 3954, 3476, 2047, 1092, 1827, 933, 3313, 2080, 60, 1651, 2811, 1238, 824, 2351, 1507, 409, 105, 3572, 3338, 3864, 841, 2681, 1398, 3380, 2684, 1308, 2766, 617, 1716, 1789, 4320, 1909, 2167, 1041, 2637, 1000, 3445, 4185, 854, 4021, 375, 2284, 67, 2155, 3678, 4542, 4382], 'Snoqualmie Pass': [1064], 'Tukwila': [4347, 3692, 3986, 672, 723, 3854, 1365, 3035, 2095, 1816, 4182, 1724, 2522, 3901, 2648, 2205, 795, 3087, 364, 2600, 701, 2797, 2835, 2773, 2506, 1908, 3138, 1587, 4351], 'Vashon': [2480, 1639, 1682, 3429, 535, 2152, 3175, 2639, 3195, 4285, 3584, 1408, 2690, 3532, 2563, 1786, 3512, 3544, 4259, 2580, 2608, 798, 2992, 2202, 579, 2220, 874, 395, 2056], 'Woodinville': [3559, 3199, 418, 3353, 2967, 675, 753, 388, 2159, 495, 3194, 3418, 272, 2516, 1317, 3221, 2298, 2976, 812, 2577, 2680, 3260, 3125, 889, 3700, 3497, 3980, 655, 3660, 1947, 3097, 2461, 3732, 4122, 1898, 2663, 3561, 2497, 1777, 2170, 4403, 1425, 1111, 3182, 2457, 396, 2640, 2110, 4054, 2300, 580, 426, 4310, 1656, 454, 1359, 4170, 1666, 4457, 1790, 2760, 2045, 3823, 358, 853, 3583, 619, 751, 3178, 2079, 3766, 31, 1505, 209, 1188, 292, 548, 3074, 1760, 4236, 1247, 1623, 903, 969, 362, 964, 817, 4024, 2975, 2021, 4430, 4545, 4323, 4223, 4105, 3385, 4124, 1630, 897, 517, ...], 'Yarrow Point': [1848, 564, 3121, 4345]}"
          },
          "metadata": {}
        }
      ],
      "execution_count": 62
    },
    {
      "cell_type": "code",
      "source": "groups_city.get_group(\"Algona\")",
      "metadata": {
        "trusted": true
      },
      "outputs": [
        {
          "execution_count": 63,
          "output_type": "execute_result",
          "data": {
            "text/plain": "                     date     price  bedrooms  bathrooms  sqft_living  \\\n324   2014-05-08 00:00:00  262000.0       4.0        2.5         2020   \n420   2014-05-09 00:00:00  248000.0       4.0        3.0         2163   \n377   2014-05-08 00:00:00  230000.0       3.0        1.0         1390   \n1598  2014-05-30 00:00:00  196440.0       3.0        2.0         1560   \n290   2014-05-07 00:00:00  100000.0       2.0        1.0          910   \n\n      sqft_lot  floors  waterfront  view  condition  sqft_above  \\\n324       6236     2.0           0     0          3        2020   \n420       5883     2.0           0     0          3        2163   \n377      16000     1.0           0     0          4        1390   \n1598      7352     1.0           0     0          3        1560   \n290      22000     1.0           0     0          3         910   \n\n      sqft_basement  yr_built  yr_renovated                street    city  \\\n324               0      2002             0       434 Pullman Ave  Algona   \n420               0      2006             0  429 Milwaukee Blvd S  Algona   \n377               0      1960          2001         322 9th Ave N  Algona   \n1598              0      1992             0           130 Main St  Algona   \n290               0      1956          2001    138 Seattle Blvd S  Algona   \n\n      statezip country  Temp  \n324   WA 98001     USA    30  \n420   WA 98001     USA    30  \n377   WA 98001     USA    30  \n1598  WA 98001     USA    30  \n290   WA 98001     USA    30  ",
            "text/html": "<div>\n<style scoped>\n    .dataframe tbody tr th:only-of-type {\n        vertical-align: middle;\n    }\n\n    .dataframe tbody tr th {\n        vertical-align: top;\n    }\n\n    .dataframe thead th {\n        text-align: right;\n    }\n</style>\n<table border=\"1\" class=\"dataframe\">\n  <thead>\n    <tr style=\"text-align: right;\">\n      <th></th>\n      <th>date</th>\n      <th>price</th>\n      <th>bedrooms</th>\n      <th>bathrooms</th>\n      <th>sqft_living</th>\n      <th>sqft_lot</th>\n      <th>floors</th>\n      <th>waterfront</th>\n      <th>view</th>\n      <th>condition</th>\n      <th>sqft_above</th>\n      <th>sqft_basement</th>\n      <th>yr_built</th>\n      <th>yr_renovated</th>\n      <th>street</th>\n      <th>city</th>\n      <th>statezip</th>\n      <th>country</th>\n      <th>Temp</th>\n    </tr>\n  </thead>\n  <tbody>\n    <tr>\n      <th>324</th>\n      <td>2014-05-08 00:00:00</td>\n      <td>262000.0</td>\n      <td>4.0</td>\n      <td>2.5</td>\n      <td>2020</td>\n      <td>6236</td>\n      <td>2.0</td>\n      <td>0</td>\n      <td>0</td>\n      <td>3</td>\n      <td>2020</td>\n      <td>0</td>\n      <td>2002</td>\n      <td>0</td>\n      <td>434 Pullman Ave</td>\n      <td>Algona</td>\n      <td>WA 98001</td>\n      <td>USA</td>\n      <td>30</td>\n    </tr>\n    <tr>\n      <th>420</th>\n      <td>2014-05-09 00:00:00</td>\n      <td>248000.0</td>\n      <td>4.0</td>\n      <td>3.0</td>\n      <td>2163</td>\n      <td>5883</td>\n      <td>2.0</td>\n      <td>0</td>\n      <td>0</td>\n      <td>3</td>\n      <td>2163</td>\n      <td>0</td>\n      <td>2006</td>\n      <td>0</td>\n      <td>429 Milwaukee Blvd S</td>\n      <td>Algona</td>\n      <td>WA 98001</td>\n      <td>USA</td>\n      <td>30</td>\n    </tr>\n    <tr>\n      <th>377</th>\n      <td>2014-05-08 00:00:00</td>\n      <td>230000.0</td>\n      <td>3.0</td>\n      <td>1.0</td>\n      <td>1390</td>\n      <td>16000</td>\n      <td>1.0</td>\n      <td>0</td>\n      <td>0</td>\n      <td>4</td>\n      <td>1390</td>\n      <td>0</td>\n      <td>1960</td>\n      <td>2001</td>\n      <td>322 9th Ave N</td>\n      <td>Algona</td>\n      <td>WA 98001</td>\n      <td>USA</td>\n      <td>30</td>\n    </tr>\n    <tr>\n      <th>1598</th>\n      <td>2014-05-30 00:00:00</td>\n      <td>196440.0</td>\n      <td>3.0</td>\n      <td>2.0</td>\n      <td>1560</td>\n      <td>7352</td>\n      <td>1.0</td>\n      <td>0</td>\n      <td>0</td>\n      <td>3</td>\n      <td>1560</td>\n      <td>0</td>\n      <td>1992</td>\n      <td>0</td>\n      <td>130 Main St</td>\n      <td>Algona</td>\n      <td>WA 98001</td>\n      <td>USA</td>\n      <td>30</td>\n    </tr>\n    <tr>\n      <th>290</th>\n      <td>2014-05-07 00:00:00</td>\n      <td>100000.0</td>\n      <td>2.0</td>\n      <td>1.0</td>\n      <td>910</td>\n      <td>22000</td>\n      <td>1.0</td>\n      <td>0</td>\n      <td>0</td>\n      <td>3</td>\n      <td>910</td>\n      <td>0</td>\n      <td>1956</td>\n      <td>2001</td>\n      <td>138 Seattle Blvd S</td>\n      <td>Algona</td>\n      <td>WA 98001</td>\n      <td>USA</td>\n      <td>30</td>\n    </tr>\n  </tbody>\n</table>\n</div>"
          },
          "metadata": {}
        }
      ],
      "execution_count": 63
    },
    {
      "cell_type": "code",
      "source": "df.groupby(\"city\")[\"price\"].mean()",
      "metadata": {
        "trusted": true
      },
      "outputs": [
        {
          "execution_count": 64,
          "output_type": "execute_result",
          "data": {
            "text/plain": "city\nAlgona                 2.072880e+05\nAuburn                 2.993404e+05\nBeaux Arts Village     7.450000e+05\nBellevue               8.471807e+05\nBlack Diamond          3.396056e+05\nBothell                4.814419e+05\nBurien                 3.489472e+05\nCarnation              5.087520e+05\nClyde Hill             1.321945e+06\nCovington              2.962304e+05\nDes Moines             3.049925e+05\nDuvall                 4.039941e+05\nEnumclaw               3.076146e+05\nFall City              6.926818e+05\nFederal Way            2.898877e+05\nInglewood-Finn Hill    4.250000e+05\nIssaquah               5.961637e+05\nKenmore                4.474940e+05\nKent                   4.394924e+05\nKirkland               6.515836e+05\nLake Forest Park       4.484750e+05\nMaple Valley           3.364749e+05\nMedina                 2.046559e+06\nMercer Island          1.123818e+06\nMilton                 2.850000e+05\nNewcastle              6.660467e+05\nNormandy Park          5.067931e+05\nNorth Bend             3.995657e+05\nPacific                2.252333e+05\nPreston                5.624500e+05\nRavensdale             5.140714e+05\nRedmond                6.676495e+05\nRenton                 3.770410e+05\nSammamish              6.869176e+05\nSeaTac                 2.452906e+05\nSeattle                5.798375e+05\nShoreline              4.203924e+05\nSkykomish              2.330000e+05\nSnoqualmie             5.363053e+05\nSnoqualmie Pass        5.250000e+05\nTukwila                3.082901e+05\nVashon                 4.725569e+05\nWoodinville            6.095650e+05\nYarrow Point           1.194838e+06\nName: price, dtype: float64"
          },
          "metadata": {}
        }
      ],
      "execution_count": 64
    },
    {
      "cell_type": "code",
      "source": "df.bedrooms.unique()",
      "metadata": {
        "trusted": true
      },
      "outputs": [
        {
          "execution_count": 69,
          "output_type": "execute_result",
          "data": {
            "text/plain": "array([3., 5., 4., 7., 6., 8., 2., 0., 9., 1.])"
          },
          "metadata": {}
        }
      ],
      "execution_count": 69
    },
    {
      "cell_type": "code",
      "source": "# Pivot Table\npd.pivot_table(data=df,index='city',values='price',aggfunc='mean')",
      "metadata": {
        "trusted": true
      },
      "outputs": [
        {
          "execution_count": 70,
          "output_type": "execute_result",
          "data": {
            "text/plain": "                            price\ncity                             \nAlgona               2.072880e+05\nAuburn               2.993404e+05\nBeaux Arts Village   7.450000e+05\nBellevue             8.471807e+05\nBlack Diamond        3.396056e+05\nBothell              4.814419e+05\nBurien               3.489472e+05\nCarnation            5.087520e+05\nClyde Hill           1.321945e+06\nCovington            2.962304e+05\nDes Moines           3.049925e+05\nDuvall               4.039941e+05\nEnumclaw             3.076146e+05\nFall City            6.926818e+05\nFederal Way          2.898877e+05\nInglewood-Finn Hill  4.250000e+05\nIssaquah             5.961637e+05\nKenmore              4.474940e+05\nKent                 4.394924e+05\nKirkland             6.515836e+05\nLake Forest Park     4.484750e+05\nMaple Valley         3.364749e+05\nMedina               2.046559e+06\nMercer Island        1.123818e+06\nMilton               2.850000e+05\nNewcastle            6.660467e+05\nNormandy Park        5.067931e+05\nNorth Bend           3.995657e+05\nPacific              2.252333e+05\nPreston              5.624500e+05\nRavensdale           5.140714e+05\nRedmond              6.676495e+05\nRenton               3.770410e+05\nSammamish            6.869176e+05\nSeaTac               2.452906e+05\nSeattle              5.798375e+05\nShoreline            4.203924e+05\nSkykomish            2.330000e+05\nSnoqualmie           5.363053e+05\nSnoqualmie Pass      5.250000e+05\nTukwila              3.082901e+05\nVashon               4.725569e+05\nWoodinville          6.095650e+05\nYarrow Point         1.194838e+06",
            "text/html": "<div>\n<style scoped>\n    .dataframe tbody tr th:only-of-type {\n        vertical-align: middle;\n    }\n\n    .dataframe tbody tr th {\n        vertical-align: top;\n    }\n\n    .dataframe thead th {\n        text-align: right;\n    }\n</style>\n<table border=\"1\" class=\"dataframe\">\n  <thead>\n    <tr style=\"text-align: right;\">\n      <th></th>\n      <th>price</th>\n    </tr>\n    <tr>\n      <th>city</th>\n      <th></th>\n    </tr>\n  </thead>\n  <tbody>\n    <tr>\n      <th>Algona</th>\n      <td>2.072880e+05</td>\n    </tr>\n    <tr>\n      <th>Auburn</th>\n      <td>2.993404e+05</td>\n    </tr>\n    <tr>\n      <th>Beaux Arts Village</th>\n      <td>7.450000e+05</td>\n    </tr>\n    <tr>\n      <th>Bellevue</th>\n      <td>8.471807e+05</td>\n    </tr>\n    <tr>\n      <th>Black Diamond</th>\n      <td>3.396056e+05</td>\n    </tr>\n    <tr>\n      <th>Bothell</th>\n      <td>4.814419e+05</td>\n    </tr>\n    <tr>\n      <th>Burien</th>\n      <td>3.489472e+05</td>\n    </tr>\n    <tr>\n      <th>Carnation</th>\n      <td>5.087520e+05</td>\n    </tr>\n    <tr>\n      <th>Clyde Hill</th>\n      <td>1.321945e+06</td>\n    </tr>\n    <tr>\n      <th>Covington</th>\n      <td>2.962304e+05</td>\n    </tr>\n    <tr>\n      <th>Des Moines</th>\n      <td>3.049925e+05</td>\n    </tr>\n    <tr>\n      <th>Duvall</th>\n      <td>4.039941e+05</td>\n    </tr>\n    <tr>\n      <th>Enumclaw</th>\n      <td>3.076146e+05</td>\n    </tr>\n    <tr>\n      <th>Fall City</th>\n      <td>6.926818e+05</td>\n    </tr>\n    <tr>\n      <th>Federal Way</th>\n      <td>2.898877e+05</td>\n    </tr>\n    <tr>\n      <th>Inglewood-Finn Hill</th>\n      <td>4.250000e+05</td>\n    </tr>\n    <tr>\n      <th>Issaquah</th>\n      <td>5.961637e+05</td>\n    </tr>\n    <tr>\n      <th>Kenmore</th>\n      <td>4.474940e+05</td>\n    </tr>\n    <tr>\n      <th>Kent</th>\n      <td>4.394924e+05</td>\n    </tr>\n    <tr>\n      <th>Kirkland</th>\n      <td>6.515836e+05</td>\n    </tr>\n    <tr>\n      <th>Lake Forest Park</th>\n      <td>4.484750e+05</td>\n    </tr>\n    <tr>\n      <th>Maple Valley</th>\n      <td>3.364749e+05</td>\n    </tr>\n    <tr>\n      <th>Medina</th>\n      <td>2.046559e+06</td>\n    </tr>\n    <tr>\n      <th>Mercer Island</th>\n      <td>1.123818e+06</td>\n    </tr>\n    <tr>\n      <th>Milton</th>\n      <td>2.850000e+05</td>\n    </tr>\n    <tr>\n      <th>Newcastle</th>\n      <td>6.660467e+05</td>\n    </tr>\n    <tr>\n      <th>Normandy Park</th>\n      <td>5.067931e+05</td>\n    </tr>\n    <tr>\n      <th>North Bend</th>\n      <td>3.995657e+05</td>\n    </tr>\n    <tr>\n      <th>Pacific</th>\n      <td>2.252333e+05</td>\n    </tr>\n    <tr>\n      <th>Preston</th>\n      <td>5.624500e+05</td>\n    </tr>\n    <tr>\n      <th>Ravensdale</th>\n      <td>5.140714e+05</td>\n    </tr>\n    <tr>\n      <th>Redmond</th>\n      <td>6.676495e+05</td>\n    </tr>\n    <tr>\n      <th>Renton</th>\n      <td>3.770410e+05</td>\n    </tr>\n    <tr>\n      <th>Sammamish</th>\n      <td>6.869176e+05</td>\n    </tr>\n    <tr>\n      <th>SeaTac</th>\n      <td>2.452906e+05</td>\n    </tr>\n    <tr>\n      <th>Seattle</th>\n      <td>5.798375e+05</td>\n    </tr>\n    <tr>\n      <th>Shoreline</th>\n      <td>4.203924e+05</td>\n    </tr>\n    <tr>\n      <th>Skykomish</th>\n      <td>2.330000e+05</td>\n    </tr>\n    <tr>\n      <th>Snoqualmie</th>\n      <td>5.363053e+05</td>\n    </tr>\n    <tr>\n      <th>Snoqualmie Pass</th>\n      <td>5.250000e+05</td>\n    </tr>\n    <tr>\n      <th>Tukwila</th>\n      <td>3.082901e+05</td>\n    </tr>\n    <tr>\n      <th>Vashon</th>\n      <td>4.725569e+05</td>\n    </tr>\n    <tr>\n      <th>Woodinville</th>\n      <td>6.095650e+05</td>\n    </tr>\n    <tr>\n      <th>Yarrow Point</th>\n      <td>1.194838e+06</td>\n    </tr>\n  </tbody>\n</table>\n</div>"
          },
          "metadata": {}
        }
      ],
      "execution_count": 70
    },
    {
      "cell_type": "code",
      "source": "'''\nDifference between 'Group by' &  'Pivot Table':\n-Group by ---> Gives a series as an output\n-Pivot table --- > Gives a DataFrame as an output\n'''",
      "metadata": {
        "trusted": true
      },
      "outputs": [
        {
          "execution_count": 72,
          "output_type": "execute_result",
          "data": {
            "text/plain": "\"\\nDifference between 'Group by' &  'Pivot Table':\\n-Group by ---> Gives a series as an output\\n-Pivot table --- > Gives a DataFrame as an output\\n\""
          },
          "metadata": {}
        }
      ],
      "execution_count": 72
    },
    {
      "cell_type": "code",
      "source": "# Pivot Table\npd.pivot_table(data=df,index=['city','bedrooms'],values='price',aggfunc='mean')",
      "metadata": {
        "trusted": true
      },
      "outputs": [
        {
          "execution_count": 73,
          "output_type": "execute_result",
          "data": {
            "text/plain": "                              price\ncity         bedrooms              \nAlgona       2.0       1.000000e+05\n             3.0       2.132200e+05\n             4.0       2.550000e+05\nAuburn       1.0       1.150000e+05\n             2.0       2.458923e+05\n...                             ...\nWoodinville  5.0       6.094286e+05\n             6.0       1.135000e+06\nYarrow Point 3.0       1.400000e+06\n             4.0       8.435000e+04\n             5.0       1.895000e+06\n\n[190 rows x 1 columns]",
            "text/html": "<div>\n<style scoped>\n    .dataframe tbody tr th:only-of-type {\n        vertical-align: middle;\n    }\n\n    .dataframe tbody tr th {\n        vertical-align: top;\n    }\n\n    .dataframe thead th {\n        text-align: right;\n    }\n</style>\n<table border=\"1\" class=\"dataframe\">\n  <thead>\n    <tr style=\"text-align: right;\">\n      <th></th>\n      <th></th>\n      <th>price</th>\n    </tr>\n    <tr>\n      <th>city</th>\n      <th>bedrooms</th>\n      <th></th>\n    </tr>\n  </thead>\n  <tbody>\n    <tr>\n      <th rowspan=\"3\" valign=\"top\">Algona</th>\n      <th>2.0</th>\n      <td>1.000000e+05</td>\n    </tr>\n    <tr>\n      <th>3.0</th>\n      <td>2.132200e+05</td>\n    </tr>\n    <tr>\n      <th>4.0</th>\n      <td>2.550000e+05</td>\n    </tr>\n    <tr>\n      <th rowspan=\"2\" valign=\"top\">Auburn</th>\n      <th>1.0</th>\n      <td>1.150000e+05</td>\n    </tr>\n    <tr>\n      <th>2.0</th>\n      <td>2.458923e+05</td>\n    </tr>\n    <tr>\n      <th>...</th>\n      <th>...</th>\n      <td>...</td>\n    </tr>\n    <tr>\n      <th rowspan=\"2\" valign=\"top\">Woodinville</th>\n      <th>5.0</th>\n      <td>6.094286e+05</td>\n    </tr>\n    <tr>\n      <th>6.0</th>\n      <td>1.135000e+06</td>\n    </tr>\n    <tr>\n      <th rowspan=\"3\" valign=\"top\">Yarrow Point</th>\n      <th>3.0</th>\n      <td>1.400000e+06</td>\n    </tr>\n    <tr>\n      <th>4.0</th>\n      <td>8.435000e+04</td>\n    </tr>\n    <tr>\n      <th>5.0</th>\n      <td>1.895000e+06</td>\n    </tr>\n  </tbody>\n</table>\n<p>190 rows × 1 columns</p>\n</div>"
          },
          "metadata": {}
        }
      ],
      "execution_count": 73
    },
    {
      "cell_type": "code",
      "source": "# Pivot Table\npd.pivot_table(data=df,index=['city'],columns=['bedrooms'],values='price',aggfunc='mean')",
      "metadata": {
        "trusted": true
      },
      "outputs": [
        {
          "execution_count": 74,
          "output_type": "execute_result",
          "data": {
            "text/plain": "bedrooms                   0.0            1.0           2.0           3.0  \\\ncity                                                                        \nAlgona                     NaN            NaN  1.000000e+05  2.132200e+05   \nAuburn                     NaN  115000.000000  2.458923e+05  2.694677e+05   \nBeaux Arts Village         NaN            NaN           NaN  7.450000e+05   \nBellevue                   NaN            NaN  8.083000e+05  6.670543e+05   \nBlack Diamond              NaN            NaN  3.980000e+05  2.953900e+05   \nBothell                    NaN            NaN  5.755000e+05  4.435375e+05   \nBurien                     NaN  247500.000000  2.324803e+05  3.600584e+05   \nCarnation                  NaN  266616.666667  6.490000e+05  3.592222e+05   \nClyde Hill                 NaN            NaN           NaN  0.000000e+00   \nCovington                  NaN            NaN  2.437250e+05  2.306685e+05   \nDes Moines                 NaN            NaN  2.027669e+05  3.311589e+05   \nDuvall                     NaN            NaN  3.625000e+05  3.570481e+05   \nEnumclaw                   NaN  275000.000000  1.510000e+05  3.242088e+05   \nFall City                  NaN            NaN  6.000000e+05  4.112500e+05   \nFederal Way                NaN            NaN  2.326900e+05  2.657639e+05   \nInglewood-Finn Hill        NaN            NaN           NaN           NaN   \nIssaquah                   NaN            NaN  4.003262e+05  5.118059e+05   \nKenmore                    NaN            NaN  2.990000e+05  3.974971e+05   \nKent                       NaN  129000.000000  1.738667e+05  5.565675e+05   \nKirkland                   NaN  285000.000000  4.129400e+05  5.624957e+05   \nLake Forest Park           NaN            NaN  2.850000e+05  4.310188e+05   \nMaple Valley               NaN            NaN  2.160000e+05  3.116603e+05   \nMedina                     NaN            NaN           NaN           NaN   \nMercer Island              NaN            NaN  1.087500e+06  7.978000e+05   \nMilton                     NaN            NaN           NaN  2.850000e+05   \nNewcastle                  NaN            NaN           NaN  5.320364e+05   \nNormandy Park              NaN            NaN  2.211375e+05  5.175625e+05   \nNorth Bend                 NaN            NaN  2.844750e+05  3.554966e+05   \nPacific                    NaN            NaN  1.740000e+05  2.324667e+05   \nPreston                    NaN            NaN  4.399000e+05  6.850000e+05   \nRavensdale                 NaN            NaN  2.250000e+05  5.645000e+05   \nRedmond              1295648.0            NaN  5.469967e+05  6.048547e+05   \nRenton                     NaN  355000.000000  2.252416e+05  3.489408e+05   \nSammamish                  NaN            NaN  5.050000e+05  6.050844e+05   \nSeaTac                     NaN            NaN  1.981400e+05  2.736428e+05   \nSeattle              1095000.0  268288.461538  4.148433e+05  5.633158e+05   \nShoreline                  NaN            NaN  3.211641e+05  3.863689e+05   \nSkykomish                  NaN            NaN  1.340000e+05  2.825000e+05   \nSnoqualmie                 NaN  527550.000000  3.077500e+05  4.710016e+05   \nSnoqualmie Pass            NaN            NaN           NaN  5.250000e+05   \nTukwila                    NaN            NaN  1.825286e+05  2.637167e+05   \nVashon                     NaN            NaN  4.798769e+05  4.655227e+05   \nWoodinville                NaN  458000.000000  4.173000e+05  4.828763e+05   \nYarrow Point               NaN            NaN           NaN  1.400000e+06   \n\nbedrooms                      4.0           5.0           6.0        7.0  \\\ncity                                                                       \nAlgona               2.550000e+05           NaN           NaN        NaN   \nAuburn               3.470371e+05  3.364000e+05  2.800000e+05   280000.0   \nBeaux Arts Village            NaN           NaN           NaN        NaN   \nBellevue             9.210502e+05  1.039571e+06  8.513750e+05  1119500.0   \nBlack Diamond        3.938333e+05           NaN           NaN        NaN   \nBothell              5.089631e+05  4.839000e+05           NaN        NaN   \nBurien               4.593380e+05  3.199375e+05  2.394000e+05        NaN   \nCarnation            7.234103e+05           NaN           NaN        NaN   \nClyde Hill           1.152857e+06  2.157133e+06           NaN        NaN   \nCovington            4.847839e+05  1.025000e+05           NaN        NaN   \nDes Moines           3.291462e+05  3.179637e+05           NaN        NaN   \nDuvall               4.780875e+05  5.265000e+05           NaN        NaN   \nEnumclaw             3.306900e+05  2.735000e+05           NaN        NaN   \nFall City            5.965000e+05  9.925000e+05  1.600000e+06        NaN   \nFederal Way          3.010436e+05  4.472114e+05  3.869750e+05        NaN   \nInglewood-Finn Hill  4.250000e+05           NaN           NaN        NaN   \nIssaquah             6.598371e+05  8.432151e+05  8.103333e+05   840000.0   \nKenmore              4.939115e+05  5.800000e+05  4.750000e+05        NaN   \nKent                 3.149907e+05  3.846892e+05  3.525000e+05        NaN   \nKirkland             7.340429e+05  8.554666e+05           NaN        NaN   \nLake Forest Park     4.719846e+05  4.695000e+05  4.100000e+05   540000.0   \nMaple Valley         3.724623e+05  3.492500e+05           NaN        NaN   \nMedina               1.983215e+06  2.680000e+06           NaN        NaN   \nMercer Island        1.031055e+06  1.480133e+06  1.333333e+06  1950000.0   \nMilton                        NaN           NaN           NaN        NaN   \nNewcastle            7.241656e+05  7.893317e+05           NaN        NaN   \nNormandy Park        6.028333e+05  4.612500e+05           NaN        NaN   \nNorth Bend           4.864198e+05           NaN           NaN        NaN   \nPacific              2.200000e+05  2.600000e+05           NaN        NaN   \nPreston                       NaN           NaN           NaN        NaN   \nRavensdale           5.611250e+05           NaN           NaN        NaN   \nRedmond              7.323127e+05  7.323564e+05  5.830000e+05  2280000.0   \nRenton               4.342609e+05  4.111430e+05  4.227500e+05   350000.0   \nSammamish            7.287513e+05  7.648942e+05  9.680000e+05        NaN   \nSeaTac               2.419684e+05  1.993167e+05           NaN        NaN   \nSeattle              7.070898e+05  7.489607e+05  9.644476e+05  1035500.0   \nShoreline            4.621273e+05  5.553051e+05  2.005000e+06        NaN   \nSkykomish                     NaN           NaN           NaN        NaN   \nSnoqualmie           6.225028e+05  5.762500e+05  6.200000e+05        NaN   \nSnoqualmie Pass               NaN           NaN           NaN        NaN   \nTukwila              6.349924e+05  2.660000e+05           NaN        NaN   \nVashon               4.770000e+05  4.370000e+05           NaN        NaN   \nWoodinville          7.377382e+05  6.094286e+05  1.135000e+06        NaN   \nYarrow Point         8.435000e+04  1.895000e+06           NaN        NaN   \n\nbedrooms                   8.0       9.0  \ncity                                      \nAlgona                     NaN       NaN  \nAuburn                     NaN       NaN  \nBeaux Arts Village         NaN       NaN  \nBellevue                   NaN       NaN  \nBlack Diamond              NaN       NaN  \nBothell                    NaN       NaN  \nBurien                     NaN       NaN  \nCarnation                  NaN       NaN  \nClyde Hill                 NaN       NaN  \nCovington                  NaN       NaN  \nDes Moines                 NaN       NaN  \nDuvall                     NaN       NaN  \nEnumclaw                   NaN       NaN  \nFall City                  NaN       NaN  \nFederal Way                NaN       NaN  \nInglewood-Finn Hill        NaN       NaN  \nIssaquah                   NaN       NaN  \nKenmore                    NaN       NaN  \nKent                       NaN       NaN  \nKirkland                   NaN       NaN  \nLake Forest Park           NaN       NaN  \nMaple Valley               NaN       NaN  \nMedina                     NaN       NaN  \nMercer Island              NaN       NaN  \nMilton                     NaN       NaN  \nNewcastle                  NaN       NaN  \nNormandy Park              NaN       NaN  \nNorth Bend                 NaN       NaN  \nPacific                    NaN       NaN  \nPreston                    NaN       NaN  \nRavensdale                 NaN       NaN  \nRedmond                    NaN       NaN  \nRenton                     NaN       NaN  \nSammamish                  NaN       NaN  \nSeaTac                     NaN       NaN  \nSeattle              1970000.0  599999.0  \nShoreline             340000.0       NaN  \nSkykomish                  NaN       NaN  \nSnoqualmie                 NaN       NaN  \nSnoqualmie Pass            NaN       NaN  \nTukwila                    NaN       NaN  \nVashon                     NaN       NaN  \nWoodinville                NaN       NaN  \nYarrow Point               NaN       NaN  ",
            "text/html": "<div>\n<style scoped>\n    .dataframe tbody tr th:only-of-type {\n        vertical-align: middle;\n    }\n\n    .dataframe tbody tr th {\n        vertical-align: top;\n    }\n\n    .dataframe thead th {\n        text-align: right;\n    }\n</style>\n<table border=\"1\" class=\"dataframe\">\n  <thead>\n    <tr style=\"text-align: right;\">\n      <th>bedrooms</th>\n      <th>0.0</th>\n      <th>1.0</th>\n      <th>2.0</th>\n      <th>3.0</th>\n      <th>4.0</th>\n      <th>5.0</th>\n      <th>6.0</th>\n      <th>7.0</th>\n      <th>8.0</th>\n      <th>9.0</th>\n    </tr>\n    <tr>\n      <th>city</th>\n      <th></th>\n      <th></th>\n      <th></th>\n      <th></th>\n      <th></th>\n      <th></th>\n      <th></th>\n      <th></th>\n      <th></th>\n      <th></th>\n    </tr>\n  </thead>\n  <tbody>\n    <tr>\n      <th>Algona</th>\n      <td>NaN</td>\n      <td>NaN</td>\n      <td>1.000000e+05</td>\n      <td>2.132200e+05</td>\n      <td>2.550000e+05</td>\n      <td>NaN</td>\n      <td>NaN</td>\n      <td>NaN</td>\n      <td>NaN</td>\n      <td>NaN</td>\n    </tr>\n    <tr>\n      <th>Auburn</th>\n      <td>NaN</td>\n      <td>115000.000000</td>\n      <td>2.458923e+05</td>\n      <td>2.694677e+05</td>\n      <td>3.470371e+05</td>\n      <td>3.364000e+05</td>\n      <td>2.800000e+05</td>\n      <td>280000.0</td>\n      <td>NaN</td>\n      <td>NaN</td>\n    </tr>\n    <tr>\n      <th>Beaux Arts Village</th>\n      <td>NaN</td>\n      <td>NaN</td>\n      <td>NaN</td>\n      <td>7.450000e+05</td>\n      <td>NaN</td>\n      <td>NaN</td>\n      <td>NaN</td>\n      <td>NaN</td>\n      <td>NaN</td>\n      <td>NaN</td>\n    </tr>\n    <tr>\n      <th>Bellevue</th>\n      <td>NaN</td>\n      <td>NaN</td>\n      <td>8.083000e+05</td>\n      <td>6.670543e+05</td>\n      <td>9.210502e+05</td>\n      <td>1.039571e+06</td>\n      <td>8.513750e+05</td>\n      <td>1119500.0</td>\n      <td>NaN</td>\n      <td>NaN</td>\n    </tr>\n    <tr>\n      <th>Black Diamond</th>\n      <td>NaN</td>\n      <td>NaN</td>\n      <td>3.980000e+05</td>\n      <td>2.953900e+05</td>\n      <td>3.938333e+05</td>\n      <td>NaN</td>\n      <td>NaN</td>\n      <td>NaN</td>\n      <td>NaN</td>\n      <td>NaN</td>\n    </tr>\n    <tr>\n      <th>Bothell</th>\n      <td>NaN</td>\n      <td>NaN</td>\n      <td>5.755000e+05</td>\n      <td>4.435375e+05</td>\n      <td>5.089631e+05</td>\n      <td>4.839000e+05</td>\n      <td>NaN</td>\n      <td>NaN</td>\n      <td>NaN</td>\n      <td>NaN</td>\n    </tr>\n    <tr>\n      <th>Burien</th>\n      <td>NaN</td>\n      <td>247500.000000</td>\n      <td>2.324803e+05</td>\n      <td>3.600584e+05</td>\n      <td>4.593380e+05</td>\n      <td>3.199375e+05</td>\n      <td>2.394000e+05</td>\n      <td>NaN</td>\n      <td>NaN</td>\n      <td>NaN</td>\n    </tr>\n    <tr>\n      <th>Carnation</th>\n      <td>NaN</td>\n      <td>266616.666667</td>\n      <td>6.490000e+05</td>\n      <td>3.592222e+05</td>\n      <td>7.234103e+05</td>\n      <td>NaN</td>\n      <td>NaN</td>\n      <td>NaN</td>\n      <td>NaN</td>\n      <td>NaN</td>\n    </tr>\n    <tr>\n      <th>Clyde Hill</th>\n      <td>NaN</td>\n      <td>NaN</td>\n      <td>NaN</td>\n      <td>0.000000e+00</td>\n      <td>1.152857e+06</td>\n      <td>2.157133e+06</td>\n      <td>NaN</td>\n      <td>NaN</td>\n      <td>NaN</td>\n      <td>NaN</td>\n    </tr>\n    <tr>\n      <th>Covington</th>\n      <td>NaN</td>\n      <td>NaN</td>\n      <td>2.437250e+05</td>\n      <td>2.306685e+05</td>\n      <td>4.847839e+05</td>\n      <td>1.025000e+05</td>\n      <td>NaN</td>\n      <td>NaN</td>\n      <td>NaN</td>\n      <td>NaN</td>\n    </tr>\n    <tr>\n      <th>Des Moines</th>\n      <td>NaN</td>\n      <td>NaN</td>\n      <td>2.027669e+05</td>\n      <td>3.311589e+05</td>\n      <td>3.291462e+05</td>\n      <td>3.179637e+05</td>\n      <td>NaN</td>\n      <td>NaN</td>\n      <td>NaN</td>\n      <td>NaN</td>\n    </tr>\n    <tr>\n      <th>Duvall</th>\n      <td>NaN</td>\n      <td>NaN</td>\n      <td>3.625000e+05</td>\n      <td>3.570481e+05</td>\n      <td>4.780875e+05</td>\n      <td>5.265000e+05</td>\n      <td>NaN</td>\n      <td>NaN</td>\n      <td>NaN</td>\n      <td>NaN</td>\n    </tr>\n    <tr>\n      <th>Enumclaw</th>\n      <td>NaN</td>\n      <td>275000.000000</td>\n      <td>1.510000e+05</td>\n      <td>3.242088e+05</td>\n      <td>3.306900e+05</td>\n      <td>2.735000e+05</td>\n      <td>NaN</td>\n      <td>NaN</td>\n      <td>NaN</td>\n      <td>NaN</td>\n    </tr>\n    <tr>\n      <th>Fall City</th>\n      <td>NaN</td>\n      <td>NaN</td>\n      <td>6.000000e+05</td>\n      <td>4.112500e+05</td>\n      <td>5.965000e+05</td>\n      <td>9.925000e+05</td>\n      <td>1.600000e+06</td>\n      <td>NaN</td>\n      <td>NaN</td>\n      <td>NaN</td>\n    </tr>\n    <tr>\n      <th>Federal Way</th>\n      <td>NaN</td>\n      <td>NaN</td>\n      <td>2.326900e+05</td>\n      <td>2.657639e+05</td>\n      <td>3.010436e+05</td>\n      <td>4.472114e+05</td>\n      <td>3.869750e+05</td>\n      <td>NaN</td>\n      <td>NaN</td>\n      <td>NaN</td>\n    </tr>\n    <tr>\n      <th>Inglewood-Finn Hill</th>\n      <td>NaN</td>\n      <td>NaN</td>\n      <td>NaN</td>\n      <td>NaN</td>\n      <td>4.250000e+05</td>\n      <td>NaN</td>\n      <td>NaN</td>\n      <td>NaN</td>\n      <td>NaN</td>\n      <td>NaN</td>\n    </tr>\n    <tr>\n      <th>Issaquah</th>\n      <td>NaN</td>\n      <td>NaN</td>\n      <td>4.003262e+05</td>\n      <td>5.118059e+05</td>\n      <td>6.598371e+05</td>\n      <td>8.432151e+05</td>\n      <td>8.103333e+05</td>\n      <td>840000.0</td>\n      <td>NaN</td>\n      <td>NaN</td>\n    </tr>\n    <tr>\n      <th>Kenmore</th>\n      <td>NaN</td>\n      <td>NaN</td>\n      <td>2.990000e+05</td>\n      <td>3.974971e+05</td>\n      <td>4.939115e+05</td>\n      <td>5.800000e+05</td>\n      <td>4.750000e+05</td>\n      <td>NaN</td>\n      <td>NaN</td>\n      <td>NaN</td>\n    </tr>\n    <tr>\n      <th>Kent</th>\n      <td>NaN</td>\n      <td>129000.000000</td>\n      <td>1.738667e+05</td>\n      <td>5.565675e+05</td>\n      <td>3.149907e+05</td>\n      <td>3.846892e+05</td>\n      <td>3.525000e+05</td>\n      <td>NaN</td>\n      <td>NaN</td>\n      <td>NaN</td>\n    </tr>\n    <tr>\n      <th>Kirkland</th>\n      <td>NaN</td>\n      <td>285000.000000</td>\n      <td>4.129400e+05</td>\n      <td>5.624957e+05</td>\n      <td>7.340429e+05</td>\n      <td>8.554666e+05</td>\n      <td>NaN</td>\n      <td>NaN</td>\n      <td>NaN</td>\n      <td>NaN</td>\n    </tr>\n    <tr>\n      <th>Lake Forest Park</th>\n      <td>NaN</td>\n      <td>NaN</td>\n      <td>2.850000e+05</td>\n      <td>4.310188e+05</td>\n      <td>4.719846e+05</td>\n      <td>4.695000e+05</td>\n      <td>4.100000e+05</td>\n      <td>540000.0</td>\n      <td>NaN</td>\n      <td>NaN</td>\n    </tr>\n    <tr>\n      <th>Maple Valley</th>\n      <td>NaN</td>\n      <td>NaN</td>\n      <td>2.160000e+05</td>\n      <td>3.116603e+05</td>\n      <td>3.724623e+05</td>\n      <td>3.492500e+05</td>\n      <td>NaN</td>\n      <td>NaN</td>\n      <td>NaN</td>\n      <td>NaN</td>\n    </tr>\n    <tr>\n      <th>Medina</th>\n      <td>NaN</td>\n      <td>NaN</td>\n      <td>NaN</td>\n      <td>NaN</td>\n      <td>1.983215e+06</td>\n      <td>2.680000e+06</td>\n      <td>NaN</td>\n      <td>NaN</td>\n      <td>NaN</td>\n      <td>NaN</td>\n    </tr>\n    <tr>\n      <th>Mercer Island</th>\n      <td>NaN</td>\n      <td>NaN</td>\n      <td>1.087500e+06</td>\n      <td>7.978000e+05</td>\n      <td>1.031055e+06</td>\n      <td>1.480133e+06</td>\n      <td>1.333333e+06</td>\n      <td>1950000.0</td>\n      <td>NaN</td>\n      <td>NaN</td>\n    </tr>\n    <tr>\n      <th>Milton</th>\n      <td>NaN</td>\n      <td>NaN</td>\n      <td>NaN</td>\n      <td>2.850000e+05</td>\n      <td>NaN</td>\n      <td>NaN</td>\n      <td>NaN</td>\n      <td>NaN</td>\n      <td>NaN</td>\n      <td>NaN</td>\n    </tr>\n    <tr>\n      <th>Newcastle</th>\n      <td>NaN</td>\n      <td>NaN</td>\n      <td>NaN</td>\n      <td>5.320364e+05</td>\n      <td>7.241656e+05</td>\n      <td>7.893317e+05</td>\n      <td>NaN</td>\n      <td>NaN</td>\n      <td>NaN</td>\n      <td>NaN</td>\n    </tr>\n    <tr>\n      <th>Normandy Park</th>\n      <td>NaN</td>\n      <td>NaN</td>\n      <td>2.211375e+05</td>\n      <td>5.175625e+05</td>\n      <td>6.028333e+05</td>\n      <td>4.612500e+05</td>\n      <td>NaN</td>\n      <td>NaN</td>\n      <td>NaN</td>\n      <td>NaN</td>\n    </tr>\n    <tr>\n      <th>North Bend</th>\n      <td>NaN</td>\n      <td>NaN</td>\n      <td>2.844750e+05</td>\n      <td>3.554966e+05</td>\n      <td>4.864198e+05</td>\n      <td>NaN</td>\n      <td>NaN</td>\n      <td>NaN</td>\n      <td>NaN</td>\n      <td>NaN</td>\n    </tr>\n    <tr>\n      <th>Pacific</th>\n      <td>NaN</td>\n      <td>NaN</td>\n      <td>1.740000e+05</td>\n      <td>2.324667e+05</td>\n      <td>2.200000e+05</td>\n      <td>2.600000e+05</td>\n      <td>NaN</td>\n      <td>NaN</td>\n      <td>NaN</td>\n      <td>NaN</td>\n    </tr>\n    <tr>\n      <th>Preston</th>\n      <td>NaN</td>\n      <td>NaN</td>\n      <td>4.399000e+05</td>\n      <td>6.850000e+05</td>\n      <td>NaN</td>\n      <td>NaN</td>\n      <td>NaN</td>\n      <td>NaN</td>\n      <td>NaN</td>\n      <td>NaN</td>\n    </tr>\n    <tr>\n      <th>Ravensdale</th>\n      <td>NaN</td>\n      <td>NaN</td>\n      <td>2.250000e+05</td>\n      <td>5.645000e+05</td>\n      <td>5.611250e+05</td>\n      <td>NaN</td>\n      <td>NaN</td>\n      <td>NaN</td>\n      <td>NaN</td>\n      <td>NaN</td>\n    </tr>\n    <tr>\n      <th>Redmond</th>\n      <td>1295648.0</td>\n      <td>NaN</td>\n      <td>5.469967e+05</td>\n      <td>6.048547e+05</td>\n      <td>7.323127e+05</td>\n      <td>7.323564e+05</td>\n      <td>5.830000e+05</td>\n      <td>2280000.0</td>\n      <td>NaN</td>\n      <td>NaN</td>\n    </tr>\n    <tr>\n      <th>Renton</th>\n      <td>NaN</td>\n      <td>355000.000000</td>\n      <td>2.252416e+05</td>\n      <td>3.489408e+05</td>\n      <td>4.342609e+05</td>\n      <td>4.111430e+05</td>\n      <td>4.227500e+05</td>\n      <td>350000.0</td>\n      <td>NaN</td>\n      <td>NaN</td>\n    </tr>\n    <tr>\n      <th>Sammamish</th>\n      <td>NaN</td>\n      <td>NaN</td>\n      <td>5.050000e+05</td>\n      <td>6.050844e+05</td>\n      <td>7.287513e+05</td>\n      <td>7.648942e+05</td>\n      <td>9.680000e+05</td>\n      <td>NaN</td>\n      <td>NaN</td>\n      <td>NaN</td>\n    </tr>\n    <tr>\n      <th>SeaTac</th>\n      <td>NaN</td>\n      <td>NaN</td>\n      <td>1.981400e+05</td>\n      <td>2.736428e+05</td>\n      <td>2.419684e+05</td>\n      <td>1.993167e+05</td>\n      <td>NaN</td>\n      <td>NaN</td>\n      <td>NaN</td>\n      <td>NaN</td>\n    </tr>\n    <tr>\n      <th>Seattle</th>\n      <td>1095000.0</td>\n      <td>268288.461538</td>\n      <td>4.148433e+05</td>\n      <td>5.633158e+05</td>\n      <td>7.070898e+05</td>\n      <td>7.489607e+05</td>\n      <td>9.644476e+05</td>\n      <td>1035500.0</td>\n      <td>1970000.0</td>\n      <td>599999.0</td>\n    </tr>\n    <tr>\n      <th>Shoreline</th>\n      <td>NaN</td>\n      <td>NaN</td>\n      <td>3.211641e+05</td>\n      <td>3.863689e+05</td>\n      <td>4.621273e+05</td>\n      <td>5.553051e+05</td>\n      <td>2.005000e+06</td>\n      <td>NaN</td>\n      <td>340000.0</td>\n      <td>NaN</td>\n    </tr>\n    <tr>\n      <th>Skykomish</th>\n      <td>NaN</td>\n      <td>NaN</td>\n      <td>1.340000e+05</td>\n      <td>2.825000e+05</td>\n      <td>NaN</td>\n      <td>NaN</td>\n      <td>NaN</td>\n      <td>NaN</td>\n      <td>NaN</td>\n      <td>NaN</td>\n    </tr>\n    <tr>\n      <th>Snoqualmie</th>\n      <td>NaN</td>\n      <td>527550.000000</td>\n      <td>3.077500e+05</td>\n      <td>4.710016e+05</td>\n      <td>6.225028e+05</td>\n      <td>5.762500e+05</td>\n      <td>6.200000e+05</td>\n      <td>NaN</td>\n      <td>NaN</td>\n      <td>NaN</td>\n    </tr>\n    <tr>\n      <th>Snoqualmie Pass</th>\n      <td>NaN</td>\n      <td>NaN</td>\n      <td>NaN</td>\n      <td>5.250000e+05</td>\n      <td>NaN</td>\n      <td>NaN</td>\n      <td>NaN</td>\n      <td>NaN</td>\n      <td>NaN</td>\n      <td>NaN</td>\n    </tr>\n    <tr>\n      <th>Tukwila</th>\n      <td>NaN</td>\n      <td>NaN</td>\n      <td>1.825286e+05</td>\n      <td>2.637167e+05</td>\n      <td>6.349924e+05</td>\n      <td>2.660000e+05</td>\n      <td>NaN</td>\n      <td>NaN</td>\n      <td>NaN</td>\n      <td>NaN</td>\n    </tr>\n    <tr>\n      <th>Vashon</th>\n      <td>NaN</td>\n      <td>NaN</td>\n      <td>4.798769e+05</td>\n      <td>4.655227e+05</td>\n      <td>4.770000e+05</td>\n      <td>4.370000e+05</td>\n      <td>NaN</td>\n      <td>NaN</td>\n      <td>NaN</td>\n      <td>NaN</td>\n    </tr>\n    <tr>\n      <th>Woodinville</th>\n      <td>NaN</td>\n      <td>458000.000000</td>\n      <td>4.173000e+05</td>\n      <td>4.828763e+05</td>\n      <td>7.377382e+05</td>\n      <td>6.094286e+05</td>\n      <td>1.135000e+06</td>\n      <td>NaN</td>\n      <td>NaN</td>\n      <td>NaN</td>\n    </tr>\n    <tr>\n      <th>Yarrow Point</th>\n      <td>NaN</td>\n      <td>NaN</td>\n      <td>NaN</td>\n      <td>1.400000e+06</td>\n      <td>8.435000e+04</td>\n      <td>1.895000e+06</td>\n      <td>NaN</td>\n      <td>NaN</td>\n      <td>NaN</td>\n      <td>NaN</td>\n    </tr>\n  </tbody>\n</table>\n</div>"
          },
          "metadata": {}
        }
      ],
      "execution_count": 74
    },
    {
      "cell_type": "code",
      "source": "# Info\nhelp(pd.pivot_table)\n\n\"\"\"\nAggFunc ---> By Default, it is mean.\n\"\"\"",
      "metadata": {
        "trusted": true
      },
      "outputs": [
        {
          "name": "stdout",
          "text": "Help on function pivot_table in module pandas.core.reshape.pivot:\n\npivot_table(data: 'DataFrame', values=None, index=None, columns=None, aggfunc: 'AggFuncType' = 'mean', fill_value=None, margins: 'bool' = False, dropna: 'bool' = True, margins_name: 'str' = 'All', observed: 'bool' = False, sort: 'bool' = True) -> 'DataFrame'\n    Create a spreadsheet-style pivot table as a DataFrame.\n    \n    The levels in the pivot table will be stored in MultiIndex objects\n    (hierarchical indexes) on the index and columns of the result DataFrame.\n    \n    Parameters\n    ----------\n    data : DataFrame\n    values : column to aggregate, optional\n    index : column, Grouper, array, or list of the previous\n        If an array is passed, it must be the same length as the data. The\n        list can contain any of the other types (except list).\n        Keys to group by on the pivot table index.  If an array is passed,\n        it is being used as the same manner as column values.\n    columns : column, Grouper, array, or list of the previous\n        If an array is passed, it must be the same length as the data. The\n        list can contain any of the other types (except list).\n        Keys to group by on the pivot table column.  If an array is passed,\n        it is being used as the same manner as column values.\n    aggfunc : function, list of functions, dict, default numpy.mean\n        If list of functions passed, the resulting pivot table will have\n        hierarchical columns whose top level are the function names\n        (inferred from the function objects themselves)\n        If dict is passed, the key is column to aggregate and value\n        is function or list of functions.\n    fill_value : scalar, default None\n        Value to replace missing values with (in the resulting pivot table,\n        after aggregation).\n    margins : bool, default False\n        Add all row / columns (e.g. for subtotal / grand totals).\n    dropna : bool, default True\n        Do not include columns whose entries are all NaN. If True,\n        rows with a NaN value in any column will be omitted before\n        computing margins.\n    margins_name : str, default 'All'\n        Name of the row / column that will contain the totals\n        when margins is True.\n    observed : bool, default False\n        This only applies if any of the groupers are Categoricals.\n        If True: only show observed values for categorical groupers.\n        If False: show all values for categorical groupers.\n    \n        .. versionchanged:: 0.25.0\n    \n    sort : bool, default True\n        Specifies if the result should be sorted.\n    \n        .. versionadded:: 1.3.0\n    \n    Returns\n    -------\n    DataFrame\n        An Excel style pivot table.\n    \n    See Also\n    --------\n    DataFrame.pivot : Pivot without aggregation that can handle\n        non-numeric data.\n    DataFrame.melt: Unpivot a DataFrame from wide to long format,\n        optionally leaving identifiers set.\n    wide_to_long : Wide panel to long format. Less flexible but more\n        user-friendly than melt.\n    \n    Notes\n    -----\n    Reference :ref:`the user guide <reshaping.pivot>` for more examples.\n    \n    Examples\n    --------\n    >>> df = pd.DataFrame({\"A\": [\"foo\", \"foo\", \"foo\", \"foo\", \"foo\",\n    ...                          \"bar\", \"bar\", \"bar\", \"bar\"],\n    ...                    \"B\": [\"one\", \"one\", \"one\", \"two\", \"two\",\n    ...                          \"one\", \"one\", \"two\", \"two\"],\n    ...                    \"C\": [\"small\", \"large\", \"large\", \"small\",\n    ...                          \"small\", \"large\", \"small\", \"small\",\n    ...                          \"large\"],\n    ...                    \"D\": [1, 2, 2, 3, 3, 4, 5, 6, 7],\n    ...                    \"E\": [2, 4, 5, 5, 6, 6, 8, 9, 9]})\n    >>> df\n         A    B      C  D  E\n    0  foo  one  small  1  2\n    1  foo  one  large  2  4\n    2  foo  one  large  2  5\n    3  foo  two  small  3  5\n    4  foo  two  small  3  6\n    5  bar  one  large  4  6\n    6  bar  one  small  5  8\n    7  bar  two  small  6  9\n    8  bar  two  large  7  9\n    \n    This first example aggregates values by taking the sum.\n    \n    >>> table = pd.pivot_table(df, values='D', index=['A', 'B'],\n    ...                     columns=['C'], aggfunc=np.sum)\n    >>> table\n    C        large  small\n    A   B\n    bar one    4.0    5.0\n        two    7.0    6.0\n    foo one    4.0    1.0\n        two    NaN    6.0\n    \n    We can also fill missing values using the `fill_value` parameter.\n    \n    >>> table = pd.pivot_table(df, values='D', index=['A', 'B'],\n    ...                     columns=['C'], aggfunc=np.sum, fill_value=0)\n    >>> table\n    C        large  small\n    A   B\n    bar one      4      5\n        two      7      6\n    foo one      4      1\n        two      0      6\n    \n    The next example aggregates by taking the mean across multiple columns.\n    \n    >>> table = pd.pivot_table(df, values=['D', 'E'], index=['A', 'C'],\n    ...                     aggfunc={'D': np.mean,\n    ...                              'E': np.mean})\n    >>> table\n                    D         E\n    A   C\n    bar large  5.500000  7.500000\n        small  5.500000  8.500000\n    foo large  2.000000  4.500000\n        small  2.333333  4.333333\n    \n    We can also calculate multiple types of aggregations for any given\n    value column.\n    \n    >>> table = pd.pivot_table(df, values=['D', 'E'], index=['A', 'C'],\n    ...                     aggfunc={'D': np.mean,\n    ...                              'E': [min, max, np.mean]})\n    >>> table\n                      D   E\n                   mean max      mean  min\n    A   C\n    bar large  5.500000   9  7.500000    6\n        small  5.500000   9  8.500000    8\n    foo large  2.000000   5  4.500000    4\n        small  2.333333   6  4.333333    2\n\n",
          "output_type": "stream"
        }
      ],
      "execution_count": 75
    },
    {
      "cell_type": "code",
      "source": "# Pivot Table\nreport=pd.pivot_table(data=df,index=['city','bedrooms'],values=['price','sqft_living'],aggfunc=['mean','max','min'])",
      "metadata": {
        "trusted": true
      },
      "outputs": [],
      "execution_count": 86
    },
    {
      "cell_type": "code",
      "source": "report",
      "metadata": {
        "trusted": true
      },
      "outputs": [
        {
          "execution_count": 81,
          "output_type": "execute_result",
          "data": {
            "text/plain": "                               mean                     max              \\\n                              price  sqft_living      price sqft_living   \ncity         bedrooms                                                     \nAlgona       2.0       1.000000e+05   910.000000   100000.0         910   \n             3.0       2.132200e+05  1475.000000   230000.0        1560   \n             4.0       2.550000e+05  2091.500000   262000.0        2163   \nAuburn       1.0       1.150000e+05  1150.000000   115000.0        1150   \n             2.0       2.458923e+05  1406.923077   475000.0        1800   \n...                             ...          ...        ...         ...   \nWoodinville  5.0       6.094286e+05  3631.428571   950000.0        4530   \n             6.0       1.135000e+06  6900.000000  1135000.0        6900   \nYarrow Point 3.0       1.400000e+06  2070.000000  1901000.0        2660   \n             4.0       8.435000e+04  2630.000000    84350.0        2630   \n             5.0       1.895000e+06  3120.000000  1895000.0        3120   \n\n                             min              \n                           price sqft_living  \ncity         bedrooms                         \nAlgona       2.0        100000.0         910  \n             3.0        196440.0        1390  \n             4.0        248000.0        2020  \nAuburn       1.0        115000.0        1150  \n             2.0         87500.0         780  \n...                          ...         ...  \nWoodinville  5.0             0.0        2230  \n             6.0       1135000.0        6900  \nYarrow Point 3.0        899000.0        1480  \n             4.0         84350.0        2630  \n             5.0       1895000.0        3120  \n\n[190 rows x 6 columns]",
            "text/html": "<div>\n<style scoped>\n    .dataframe tbody tr th:only-of-type {\n        vertical-align: middle;\n    }\n\n    .dataframe tbody tr th {\n        vertical-align: top;\n    }\n\n    .dataframe thead tr th {\n        text-align: left;\n    }\n\n    .dataframe thead tr:last-of-type th {\n        text-align: right;\n    }\n</style>\n<table border=\"1\" class=\"dataframe\">\n  <thead>\n    <tr>\n      <th></th>\n      <th></th>\n      <th colspan=\"2\" halign=\"left\">mean</th>\n      <th colspan=\"2\" halign=\"left\">max</th>\n      <th colspan=\"2\" halign=\"left\">min</th>\n    </tr>\n    <tr>\n      <th></th>\n      <th></th>\n      <th>price</th>\n      <th>sqft_living</th>\n      <th>price</th>\n      <th>sqft_living</th>\n      <th>price</th>\n      <th>sqft_living</th>\n    </tr>\n    <tr>\n      <th>city</th>\n      <th>bedrooms</th>\n      <th></th>\n      <th></th>\n      <th></th>\n      <th></th>\n      <th></th>\n      <th></th>\n    </tr>\n  </thead>\n  <tbody>\n    <tr>\n      <th rowspan=\"3\" valign=\"top\">Algona</th>\n      <th>2.0</th>\n      <td>1.000000e+05</td>\n      <td>910.000000</td>\n      <td>100000.0</td>\n      <td>910</td>\n      <td>100000.0</td>\n      <td>910</td>\n    </tr>\n    <tr>\n      <th>3.0</th>\n      <td>2.132200e+05</td>\n      <td>1475.000000</td>\n      <td>230000.0</td>\n      <td>1560</td>\n      <td>196440.0</td>\n      <td>1390</td>\n    </tr>\n    <tr>\n      <th>4.0</th>\n      <td>2.550000e+05</td>\n      <td>2091.500000</td>\n      <td>262000.0</td>\n      <td>2163</td>\n      <td>248000.0</td>\n      <td>2020</td>\n    </tr>\n    <tr>\n      <th rowspan=\"2\" valign=\"top\">Auburn</th>\n      <th>1.0</th>\n      <td>1.150000e+05</td>\n      <td>1150.000000</td>\n      <td>115000.0</td>\n      <td>1150</td>\n      <td>115000.0</td>\n      <td>1150</td>\n    </tr>\n    <tr>\n      <th>2.0</th>\n      <td>2.458923e+05</td>\n      <td>1406.923077</td>\n      <td>475000.0</td>\n      <td>1800</td>\n      <td>87500.0</td>\n      <td>780</td>\n    </tr>\n    <tr>\n      <th>...</th>\n      <th>...</th>\n      <td>...</td>\n      <td>...</td>\n      <td>...</td>\n      <td>...</td>\n      <td>...</td>\n      <td>...</td>\n    </tr>\n    <tr>\n      <th rowspan=\"2\" valign=\"top\">Woodinville</th>\n      <th>5.0</th>\n      <td>6.094286e+05</td>\n      <td>3631.428571</td>\n      <td>950000.0</td>\n      <td>4530</td>\n      <td>0.0</td>\n      <td>2230</td>\n    </tr>\n    <tr>\n      <th>6.0</th>\n      <td>1.135000e+06</td>\n      <td>6900.000000</td>\n      <td>1135000.0</td>\n      <td>6900</td>\n      <td>1135000.0</td>\n      <td>6900</td>\n    </tr>\n    <tr>\n      <th rowspan=\"3\" valign=\"top\">Yarrow Point</th>\n      <th>3.0</th>\n      <td>1.400000e+06</td>\n      <td>2070.000000</td>\n      <td>1901000.0</td>\n      <td>2660</td>\n      <td>899000.0</td>\n      <td>1480</td>\n    </tr>\n    <tr>\n      <th>4.0</th>\n      <td>8.435000e+04</td>\n      <td>2630.000000</td>\n      <td>84350.0</td>\n      <td>2630</td>\n      <td>84350.0</td>\n      <td>2630</td>\n    </tr>\n    <tr>\n      <th>5.0</th>\n      <td>1.895000e+06</td>\n      <td>3120.000000</td>\n      <td>1895000.0</td>\n      <td>3120</td>\n      <td>1895000.0</td>\n      <td>3120</td>\n    </tr>\n  </tbody>\n</table>\n<p>190 rows × 6 columns</p>\n</div>"
          },
          "metadata": {}
        }
      ],
      "execution_count": 81
    },
    {
      "cell_type": "code",
      "source": "pip install openpyxl",
      "metadata": {
        "trusted": true
      },
      "outputs": [
        {
          "ename": "<class 'AttributeError'>",
          "evalue": "module 'pexpect' has no attribute 'TIMEOUT'",
          "traceback": [
            "\u001b[0;31m---------------------------------------------------------------------------\u001b[0m",
            "\u001b[0;31mAttributeError\u001b[0m                            Traceback (most recent call last)",
            "Cell \u001b[0;32mIn[90], line 1\u001b[0m\n\u001b[0;32m----> 1\u001b[0m \u001b[43mget_ipython\u001b[49m\u001b[43m(\u001b[49m\u001b[43m)\u001b[49m\u001b[38;5;241;43m.\u001b[39;49m\u001b[43mrun_line_magic\u001b[49m\u001b[43m(\u001b[49m\u001b[38;5;124;43m'\u001b[39;49m\u001b[38;5;124;43mpip\u001b[39;49m\u001b[38;5;124;43m'\u001b[39;49m\u001b[43m,\u001b[49m\u001b[43m \u001b[49m\u001b[38;5;124;43m'\u001b[39;49m\u001b[38;5;124;43minstall openpyxl\u001b[39;49m\u001b[38;5;124;43m'\u001b[39;49m\u001b[43m)\u001b[49m\n",
            "File \u001b[0;32m/lib/python3.11/site-packages/IPython/core/interactiveshell.py:2456\u001b[0m, in \u001b[0;36mInteractiveShell.run_line_magic\u001b[0;34m(self, magic_name, line, _stack_depth)\u001b[0m\n\u001b[1;32m   2454\u001b[0m     kwargs[\u001b[38;5;124m'\u001b[39m\u001b[38;5;124mlocal_ns\u001b[39m\u001b[38;5;124m'\u001b[39m] \u001b[38;5;241m=\u001b[39m \u001b[38;5;28mself\u001b[39m\u001b[38;5;241m.\u001b[39mget_local_scope(stack_depth)\n\u001b[1;32m   2455\u001b[0m \u001b[38;5;28;01mwith\u001b[39;00m \u001b[38;5;28mself\u001b[39m\u001b[38;5;241m.\u001b[39mbuiltin_trap:\n\u001b[0;32m-> 2456\u001b[0m     result \u001b[38;5;241m=\u001b[39m \u001b[43mfn\u001b[49m\u001b[43m(\u001b[49m\u001b[38;5;241;43m*\u001b[39;49m\u001b[43margs\u001b[49m\u001b[43m,\u001b[49m\u001b[43m \u001b[49m\u001b[38;5;241;43m*\u001b[39;49m\u001b[38;5;241;43m*\u001b[39;49m\u001b[43mkwargs\u001b[49m\u001b[43m)\u001b[49m\n\u001b[1;32m   2458\u001b[0m \u001b[38;5;66;03m# The code below prevents the output from being displayed\u001b[39;00m\n\u001b[1;32m   2459\u001b[0m \u001b[38;5;66;03m# when using magics with decorator @output_can_be_silenced\u001b[39;00m\n\u001b[1;32m   2460\u001b[0m \u001b[38;5;66;03m# when the last Python token in the expression is a ';'.\u001b[39;00m\n\u001b[1;32m   2461\u001b[0m \u001b[38;5;28;01mif\u001b[39;00m \u001b[38;5;28mgetattr\u001b[39m(fn, magic\u001b[38;5;241m.\u001b[39mMAGIC_OUTPUT_CAN_BE_SILENCED, \u001b[38;5;28;01mFalse\u001b[39;00m):\n",
            "File \u001b[0;32m/lib/python3.11/site-packages/IPython/core/magics/packaging.py:92\u001b[0m, in \u001b[0;36mPackagingMagics.pip\u001b[0;34m(self, line)\u001b[0m\n\u001b[1;32m     89\u001b[0m \u001b[38;5;28;01melse\u001b[39;00m:\n\u001b[1;32m     90\u001b[0m     python \u001b[38;5;241m=\u001b[39m shlex\u001b[38;5;241m.\u001b[39mquote(python)\n\u001b[0;32m---> 92\u001b[0m \u001b[38;5;28;43mself\u001b[39;49m\u001b[38;5;241;43m.\u001b[39;49m\u001b[43mshell\u001b[49m\u001b[38;5;241;43m.\u001b[39;49m\u001b[43msystem\u001b[49m\u001b[43m(\u001b[49m\u001b[38;5;124;43m\"\u001b[39;49m\u001b[38;5;124;43m \u001b[39;49m\u001b[38;5;124;43m\"\u001b[39;49m\u001b[38;5;241;43m.\u001b[39;49m\u001b[43mjoin\u001b[49m\u001b[43m(\u001b[49m\u001b[43m[\u001b[49m\u001b[43mpython\u001b[49m\u001b[43m,\u001b[49m\u001b[43m \u001b[49m\u001b[38;5;124;43m\"\u001b[39;49m\u001b[38;5;124;43m-m\u001b[39;49m\u001b[38;5;124;43m\"\u001b[39;49m\u001b[43m,\u001b[49m\u001b[43m \u001b[49m\u001b[38;5;124;43m\"\u001b[39;49m\u001b[38;5;124;43mpip\u001b[39;49m\u001b[38;5;124;43m\"\u001b[39;49m\u001b[43m,\u001b[49m\u001b[43m \u001b[49m\u001b[43mline\u001b[49m\u001b[43m]\u001b[49m\u001b[43m)\u001b[49m\u001b[43m)\u001b[49m\n\u001b[1;32m     94\u001b[0m \u001b[38;5;28mprint\u001b[39m(\u001b[38;5;124m\"\u001b[39m\u001b[38;5;124mNote: you may need to restart the kernel to use updated packages.\u001b[39m\u001b[38;5;124m\"\u001b[39m)\n",
            "File \u001b[0;32m/lib/python3.11/site-packages/IPython/core/interactiveshell.py:2629\u001b[0m, in \u001b[0;36mInteractiveShell.system_piped\u001b[0;34m(self, cmd)\u001b[0m\n\u001b[1;32m   2624\u001b[0m     \u001b[38;5;28;01mraise\u001b[39;00m \u001b[38;5;167;01mOSError\u001b[39;00m(\u001b[38;5;124m\"\u001b[39m\u001b[38;5;124mBackground processes not supported.\u001b[39m\u001b[38;5;124m\"\u001b[39m)\n\u001b[1;32m   2626\u001b[0m \u001b[38;5;66;03m# we explicitly do NOT return the subprocess status code, because\u001b[39;00m\n\u001b[1;32m   2627\u001b[0m \u001b[38;5;66;03m# a non-None value would trigger :func:`sys.displayhook` calls.\u001b[39;00m\n\u001b[1;32m   2628\u001b[0m \u001b[38;5;66;03m# Instead, we store the exit_code in user_ns.\u001b[39;00m\n\u001b[0;32m-> 2629\u001b[0m \u001b[38;5;28mself\u001b[39m\u001b[38;5;241m.\u001b[39muser_ns[\u001b[38;5;124m'\u001b[39m\u001b[38;5;124m_exit_code\u001b[39m\u001b[38;5;124m'\u001b[39m] \u001b[38;5;241m=\u001b[39m \u001b[43msystem\u001b[49m\u001b[43m(\u001b[49m\u001b[38;5;28;43mself\u001b[39;49m\u001b[38;5;241;43m.\u001b[39;49m\u001b[43mvar_expand\u001b[49m\u001b[43m(\u001b[49m\u001b[43mcmd\u001b[49m\u001b[43m,\u001b[49m\u001b[43m \u001b[49m\u001b[43mdepth\u001b[49m\u001b[38;5;241;43m=\u001b[39;49m\u001b[38;5;241;43m1\u001b[39;49m\u001b[43m)\u001b[49m\u001b[43m)\u001b[49m\n",
            "File \u001b[0;32m/lib/python3.11/site-packages/IPython/utils/_process_posix.py:129\u001b[0m, in \u001b[0;36mProcessHandler.system\u001b[0;34m(self, cmd)\u001b[0m\n\u001b[1;32m    125\u001b[0m enc \u001b[38;5;241m=\u001b[39m DEFAULT_ENCODING\n\u001b[1;32m    127\u001b[0m \u001b[38;5;66;03m# Patterns to match on the output, for pexpect.  We read input and\u001b[39;00m\n\u001b[1;32m    128\u001b[0m \u001b[38;5;66;03m# allow either a short timeout or EOF\u001b[39;00m\n\u001b[0;32m--> 129\u001b[0m patterns \u001b[38;5;241m=\u001b[39m [\u001b[43mpexpect\u001b[49m\u001b[38;5;241;43m.\u001b[39;49m\u001b[43mTIMEOUT\u001b[49m, pexpect\u001b[38;5;241m.\u001b[39mEOF]\n\u001b[1;32m    130\u001b[0m \u001b[38;5;66;03m# the index of the EOF pattern in the list.\u001b[39;00m\n\u001b[1;32m    131\u001b[0m \u001b[38;5;66;03m# even though we know it's 1, this call means we don't have to worry if\u001b[39;00m\n\u001b[1;32m    132\u001b[0m \u001b[38;5;66;03m# we change the above list, and forget to change this value:\u001b[39;00m\n\u001b[1;32m    133\u001b[0m EOF_index \u001b[38;5;241m=\u001b[39m patterns\u001b[38;5;241m.\u001b[39mindex(pexpect\u001b[38;5;241m.\u001b[39mEOF)\n",
            "\u001b[0;31mAttributeError\u001b[0m: module 'pexpect' has no attribute 'TIMEOUT'"
          ],
          "output_type": "error"
        }
      ],
      "execution_count": 90
    },
    {
      "cell_type": "code",
      "source": "report.to_excel(\"cityReport.xlsx\")\nreport.to_html(\"cityReport.html\")",
      "metadata": {
        "trusted": true
      },
      "outputs": [
        {
          "ename": "<class 'ModuleNotFoundError'>",
          "evalue": "No module named 'openpyxl'",
          "traceback": [
            "\u001b[0;31m---------------------------------------------------------------------------\u001b[0m",
            "\u001b[0;31mModuleNotFoundError\u001b[0m                       Traceback (most recent call last)",
            "Cell \u001b[0;32mIn[98], line 1\u001b[0m\n\u001b[0;32m----> 1\u001b[0m \u001b[43mreport\u001b[49m\u001b[38;5;241;43m.\u001b[39;49m\u001b[43mto_excel\u001b[49m\u001b[43m(\u001b[49m\u001b[38;5;124;43m\"\u001b[39;49m\u001b[38;5;124;43mcityReport.xlsx\u001b[39;49m\u001b[38;5;124;43m\"\u001b[39;49m\u001b[43m)\u001b[49m\n\u001b[1;32m      2\u001b[0m report\u001b[38;5;241m.\u001b[39mto_html(\u001b[38;5;124m\"\u001b[39m\u001b[38;5;124mcityReport.html\u001b[39m\u001b[38;5;124m\"\u001b[39m)\n",
            "File \u001b[0;32m/lib/python3.11/site-packages/pandas/util/_decorators.py:211\u001b[0m, in \u001b[0;36mdeprecate_kwarg.<locals>._deprecate_kwarg.<locals>.wrapper\u001b[0;34m(*args, **kwargs)\u001b[0m\n\u001b[1;32m    209\u001b[0m     \u001b[38;5;28;01melse\u001b[39;00m:\n\u001b[1;32m    210\u001b[0m         kwargs[new_arg_name] \u001b[38;5;241m=\u001b[39m new_arg_value\n\u001b[0;32m--> 211\u001b[0m \u001b[38;5;28;01mreturn\u001b[39;00m \u001b[43mfunc\u001b[49m\u001b[43m(\u001b[49m\u001b[38;5;241;43m*\u001b[39;49m\u001b[43margs\u001b[49m\u001b[43m,\u001b[49m\u001b[43m \u001b[49m\u001b[38;5;241;43m*\u001b[39;49m\u001b[38;5;241;43m*\u001b[39;49m\u001b[43mkwargs\u001b[49m\u001b[43m)\u001b[49m\n",
            "File \u001b[0;32m/lib/python3.11/site-packages/pandas/util/_decorators.py:211\u001b[0m, in \u001b[0;36mdeprecate_kwarg.<locals>._deprecate_kwarg.<locals>.wrapper\u001b[0;34m(*args, **kwargs)\u001b[0m\n\u001b[1;32m    209\u001b[0m     \u001b[38;5;28;01melse\u001b[39;00m:\n\u001b[1;32m    210\u001b[0m         kwargs[new_arg_name] \u001b[38;5;241m=\u001b[39m new_arg_value\n\u001b[0;32m--> 211\u001b[0m \u001b[38;5;28;01mreturn\u001b[39;00m \u001b[43mfunc\u001b[49m\u001b[43m(\u001b[49m\u001b[38;5;241;43m*\u001b[39;49m\u001b[43margs\u001b[49m\u001b[43m,\u001b[49m\u001b[43m \u001b[49m\u001b[38;5;241;43m*\u001b[39;49m\u001b[38;5;241;43m*\u001b[39;49m\u001b[43mkwargs\u001b[49m\u001b[43m)\u001b[49m\n",
            "File \u001b[0;32m/lib/python3.11/site-packages/pandas/core/generic.py:2374\u001b[0m, in \u001b[0;36mNDFrame.to_excel\u001b[0;34m(self, excel_writer, sheet_name, na_rep, float_format, columns, header, index, index_label, startrow, startcol, engine, merge_cells, encoding, inf_rep, verbose, freeze_panes, storage_options)\u001b[0m\n\u001b[1;32m   2361\u001b[0m \u001b[38;5;28;01mfrom\u001b[39;00m \u001b[38;5;21;01mpandas\u001b[39;00m\u001b[38;5;21;01m.\u001b[39;00m\u001b[38;5;21;01mio\u001b[39;00m\u001b[38;5;21;01m.\u001b[39;00m\u001b[38;5;21;01mformats\u001b[39;00m\u001b[38;5;21;01m.\u001b[39;00m\u001b[38;5;21;01mexcel\u001b[39;00m \u001b[38;5;28;01mimport\u001b[39;00m ExcelFormatter\n\u001b[1;32m   2363\u001b[0m formatter \u001b[38;5;241m=\u001b[39m ExcelFormatter(\n\u001b[1;32m   2364\u001b[0m     df,\n\u001b[1;32m   2365\u001b[0m     na_rep\u001b[38;5;241m=\u001b[39mna_rep,\n\u001b[0;32m   (...)\u001b[0m\n\u001b[1;32m   2372\u001b[0m     inf_rep\u001b[38;5;241m=\u001b[39minf_rep,\n\u001b[1;32m   2373\u001b[0m )\n\u001b[0;32m-> 2374\u001b[0m \u001b[43mformatter\u001b[49m\u001b[38;5;241;43m.\u001b[39;49m\u001b[43mwrite\u001b[49m\u001b[43m(\u001b[49m\n\u001b[1;32m   2375\u001b[0m \u001b[43m    \u001b[49m\u001b[43mexcel_writer\u001b[49m\u001b[43m,\u001b[49m\n\u001b[1;32m   2376\u001b[0m \u001b[43m    \u001b[49m\u001b[43msheet_name\u001b[49m\u001b[38;5;241;43m=\u001b[39;49m\u001b[43msheet_name\u001b[49m\u001b[43m,\u001b[49m\n\u001b[1;32m   2377\u001b[0m \u001b[43m    \u001b[49m\u001b[43mstartrow\u001b[49m\u001b[38;5;241;43m=\u001b[39;49m\u001b[43mstartrow\u001b[49m\u001b[43m,\u001b[49m\n\u001b[1;32m   2378\u001b[0m \u001b[43m    \u001b[49m\u001b[43mstartcol\u001b[49m\u001b[38;5;241;43m=\u001b[39;49m\u001b[43mstartcol\u001b[49m\u001b[43m,\u001b[49m\n\u001b[1;32m   2379\u001b[0m \u001b[43m    \u001b[49m\u001b[43mfreeze_panes\u001b[49m\u001b[38;5;241;43m=\u001b[39;49m\u001b[43mfreeze_panes\u001b[49m\u001b[43m,\u001b[49m\n\u001b[1;32m   2380\u001b[0m \u001b[43m    \u001b[49m\u001b[43mengine\u001b[49m\u001b[38;5;241;43m=\u001b[39;49m\u001b[43mengine\u001b[49m\u001b[43m,\u001b[49m\n\u001b[1;32m   2381\u001b[0m \u001b[43m    \u001b[49m\u001b[43mstorage_options\u001b[49m\u001b[38;5;241;43m=\u001b[39;49m\u001b[43mstorage_options\u001b[49m\u001b[43m,\u001b[49m\n\u001b[1;32m   2382\u001b[0m \u001b[43m\u001b[49m\u001b[43m)\u001b[49m\n",
            "File \u001b[0;32m/lib/python3.11/site-packages/pandas/io/formats/excel.py:944\u001b[0m, in \u001b[0;36mExcelFormatter.write\u001b[0;34m(self, writer, sheet_name, startrow, startcol, freeze_panes, engine, storage_options)\u001b[0m\n\u001b[1;32m    940\u001b[0m     need_save \u001b[38;5;241m=\u001b[39m \u001b[38;5;28;01mFalse\u001b[39;00m\n\u001b[1;32m    941\u001b[0m \u001b[38;5;28;01melse\u001b[39;00m:\n\u001b[1;32m    942\u001b[0m     \u001b[38;5;66;03m# error: Cannot instantiate abstract class 'ExcelWriter' with abstract\u001b[39;00m\n\u001b[1;32m    943\u001b[0m     \u001b[38;5;66;03m# attributes 'engine', 'save', 'supported_extensions' and 'write_cells'\u001b[39;00m\n\u001b[0;32m--> 944\u001b[0m     writer \u001b[38;5;241m=\u001b[39m \u001b[43mExcelWriter\u001b[49m\u001b[43m(\u001b[49m\u001b[43m  \u001b[49m\u001b[38;5;66;43;03m# type: ignore[abstract]\u001b[39;49;00m\n\u001b[1;32m    945\u001b[0m \u001b[43m        \u001b[49m\u001b[43mwriter\u001b[49m\u001b[43m,\u001b[49m\u001b[43m \u001b[49m\u001b[43mengine\u001b[49m\u001b[38;5;241;43m=\u001b[39;49m\u001b[43mengine\u001b[49m\u001b[43m,\u001b[49m\u001b[43m \u001b[49m\u001b[43mstorage_options\u001b[49m\u001b[38;5;241;43m=\u001b[39;49m\u001b[43mstorage_options\u001b[49m\n\u001b[1;32m    946\u001b[0m \u001b[43m    \u001b[49m\u001b[43m)\u001b[49m\n\u001b[1;32m    947\u001b[0m     need_save \u001b[38;5;241m=\u001b[39m \u001b[38;5;28;01mTrue\u001b[39;00m\n\u001b[1;32m    949\u001b[0m \u001b[38;5;28;01mtry\u001b[39;00m:\n",
            "File \u001b[0;32m/lib/python3.11/site-packages/pandas/io/excel/_openpyxl.py:56\u001b[0m, in \u001b[0;36mOpenpyxlWriter.__init__\u001b[0;34m(self, path, engine, date_format, datetime_format, mode, storage_options, if_sheet_exists, engine_kwargs, **kwargs)\u001b[0m\n\u001b[1;32m     43\u001b[0m \u001b[38;5;28;01mdef\u001b[39;00m \u001b[38;5;21m__init__\u001b[39m(\n\u001b[1;32m     44\u001b[0m     \u001b[38;5;28mself\u001b[39m,\n\u001b[1;32m     45\u001b[0m     path: FilePath \u001b[38;5;241m|\u001b[39m WriteExcelBuffer \u001b[38;5;241m|\u001b[39m ExcelWriter,\n\u001b[0;32m   (...)\u001b[0m\n\u001b[1;32m     54\u001b[0m ) \u001b[38;5;241m-\u001b[39m\u001b[38;5;241m>\u001b[39m \u001b[38;5;28;01mNone\u001b[39;00m:\n\u001b[1;32m     55\u001b[0m     \u001b[38;5;66;03m# Use the openpyxl module as the Excel writer.\u001b[39;00m\n\u001b[0;32m---> 56\u001b[0m     \u001b[38;5;28;01mfrom\u001b[39;00m \u001b[38;5;21;01mopenpyxl\u001b[39;00m\u001b[38;5;21;01m.\u001b[39;00m\u001b[38;5;21;01mworkbook\u001b[39;00m \u001b[38;5;28;01mimport\u001b[39;00m Workbook\n\u001b[1;32m     58\u001b[0m     engine_kwargs \u001b[38;5;241m=\u001b[39m combine_kwargs(engine_kwargs, kwargs)\n\u001b[1;32m     60\u001b[0m     \u001b[38;5;28msuper\u001b[39m()\u001b[38;5;241m.\u001b[39m\u001b[38;5;21m__init__\u001b[39m(\n\u001b[1;32m     61\u001b[0m         path,\n\u001b[1;32m     62\u001b[0m         mode\u001b[38;5;241m=\u001b[39mmode,\n\u001b[0;32m   (...)\u001b[0m\n\u001b[1;32m     65\u001b[0m         engine_kwargs\u001b[38;5;241m=\u001b[39mengine_kwargs,\n\u001b[1;32m     66\u001b[0m     )\n",
            "\u001b[0;31mModuleNotFoundError\u001b[0m: No module named 'openpyxl'"
          ],
          "output_type": "error"
        }
      ],
      "execution_count": 98
    },
    {
      "cell_type": "code",
      "source": "",
      "metadata": {
        "trusted": true
      },
      "outputs": [],
      "execution_count": null
    },
    {
      "cell_type": "code",
      "source": "text = \"I am fine\"",
      "metadata": {
        "trusted": true
      },
      "outputs": [],
      "execution_count": 99
    },
    {
      "cell_type": "code",
      "source": "text.split(\" \")",
      "metadata": {
        "trusted": true
      },
      "outputs": [
        {
          "execution_count": 101,
          "output_type": "execute_result",
          "data": {
            "text/plain": "['I', 'am', 'fine']"
          },
          "metadata": {}
        }
      ],
      "execution_count": 101
    },
    {
      "cell_type": "code",
      "source": "len(text.split(\" \"))",
      "metadata": {
        "trusted": true
      },
      "outputs": [
        {
          "execution_count": 100,
          "output_type": "execute_result",
          "data": {
            "text/plain": "3"
          },
          "metadata": {}
        }
      ],
      "execution_count": 100
    },
    {
      "cell_type": "code",
      "source": "# Creating a word count function - takes input as x and displays the number of words\n\ndef wordcount(x):\n    return len(x.split(\" \"))",
      "metadata": {
        "trusted": true
      },
      "outputs": [],
      "execution_count": 103
    },
    {
      "cell_type": "code",
      "source": "wordcount(\"It was a beautiful day. Thank you\")",
      "metadata": {
        "trusted": true
      },
      "outputs": [
        {
          "execution_count": 104,
          "output_type": "execute_result",
          "data": {
            "text/plain": "7"
          },
          "metadata": {}
        }
      ],
      "execution_count": 104
    },
    {
      "cell_type": "code",
      "source": "# Applying the fucntion to the DataFrame with a selected column\ndf[\"street\"].apply(wordcount)",
      "metadata": {
        "trusted": true
      },
      "outputs": [
        {
          "execution_count": 106,
          "output_type": "execute_result",
          "data": {
            "text/plain": "4350    4\n4346    4\n2286    4\n2654    3\n2761    4\n       ..\n4472    4\n4567    4\n4354    4\n4454    4\n4382    4\nName: street, Length: 4600, dtype: int64"
          },
          "metadata": {}
        }
      ],
      "execution_count": 106
    },
    {
      "cell_type": "code",
      "source": "# Reading an Excel File\ndata = pd.read_excel(\"filename.xlsx\",sheet_name=\"Sheet3\")",
      "metadata": {
        "trusted": true
      },
      "outputs": [
        {
          "ename": "<class 'FileNotFoundError'>",
          "evalue": "[Errno 44] No such file or directory: 'filename.xlsx'",
          "traceback": [
            "\u001b[0;31m---------------------------------------------------------------------------\u001b[0m",
            "\u001b[0;31mFileNotFoundError\u001b[0m                         Traceback (most recent call last)",
            "Cell \u001b[0;32mIn[107], line 2\u001b[0m\n\u001b[1;32m      1\u001b[0m \u001b[38;5;66;03m# Reading an Excel File\u001b[39;00m\n\u001b[0;32m----> 2\u001b[0m data \u001b[38;5;241m=\u001b[39m \u001b[43mpd\u001b[49m\u001b[38;5;241;43m.\u001b[39;49m\u001b[43mread_excel\u001b[49m\u001b[43m(\u001b[49m\u001b[38;5;124;43m\"\u001b[39;49m\u001b[38;5;124;43mfilename.xlsx\u001b[39;49m\u001b[38;5;124;43m\"\u001b[39;49m\u001b[43m,\u001b[49m\u001b[43msheet_name\u001b[49m\u001b[38;5;241;43m=\u001b[39;49m\u001b[38;5;124;43m\"\u001b[39;49m\u001b[38;5;124;43mSheet3\u001b[39;49m\u001b[38;5;124;43m\"\u001b[39;49m\u001b[43m)\u001b[49m\n",
            "File \u001b[0;32m/lib/python3.11/site-packages/pandas/util/_decorators.py:211\u001b[0m, in \u001b[0;36mdeprecate_kwarg.<locals>._deprecate_kwarg.<locals>.wrapper\u001b[0;34m(*args, **kwargs)\u001b[0m\n\u001b[1;32m    209\u001b[0m     \u001b[38;5;28;01melse\u001b[39;00m:\n\u001b[1;32m    210\u001b[0m         kwargs[new_arg_name] \u001b[38;5;241m=\u001b[39m new_arg_value\n\u001b[0;32m--> 211\u001b[0m \u001b[38;5;28;01mreturn\u001b[39;00m \u001b[43mfunc\u001b[49m\u001b[43m(\u001b[49m\u001b[38;5;241;43m*\u001b[39;49m\u001b[43margs\u001b[49m\u001b[43m,\u001b[49m\u001b[43m \u001b[49m\u001b[38;5;241;43m*\u001b[39;49m\u001b[38;5;241;43m*\u001b[39;49m\u001b[43mkwargs\u001b[49m\u001b[43m)\u001b[49m\n",
            "File \u001b[0;32m/lib/python3.11/site-packages/pandas/util/_decorators.py:331\u001b[0m, in \u001b[0;36mdeprecate_nonkeyword_arguments.<locals>.decorate.<locals>.wrapper\u001b[0;34m(*args, **kwargs)\u001b[0m\n\u001b[1;32m    325\u001b[0m \u001b[38;5;28;01mif\u001b[39;00m \u001b[38;5;28mlen\u001b[39m(args) \u001b[38;5;241m>\u001b[39m num_allow_args:\n\u001b[1;32m    326\u001b[0m     warnings\u001b[38;5;241m.\u001b[39mwarn(\n\u001b[1;32m    327\u001b[0m         msg\u001b[38;5;241m.\u001b[39mformat(arguments\u001b[38;5;241m=\u001b[39m_format_argument_list(allow_args)),\n\u001b[1;32m    328\u001b[0m         \u001b[38;5;167;01mFutureWarning\u001b[39;00m,\n\u001b[1;32m    329\u001b[0m         stacklevel\u001b[38;5;241m=\u001b[39mfind_stack_level(),\n\u001b[1;32m    330\u001b[0m     )\n\u001b[0;32m--> 331\u001b[0m \u001b[38;5;28;01mreturn\u001b[39;00m \u001b[43mfunc\u001b[49m\u001b[43m(\u001b[49m\u001b[38;5;241;43m*\u001b[39;49m\u001b[43margs\u001b[49m\u001b[43m,\u001b[49m\u001b[43m \u001b[49m\u001b[38;5;241;43m*\u001b[39;49m\u001b[38;5;241;43m*\u001b[39;49m\u001b[43mkwargs\u001b[49m\u001b[43m)\u001b[49m\n",
            "File \u001b[0;32m/lib/python3.11/site-packages/pandas/io/excel/_base.py:482\u001b[0m, in \u001b[0;36mread_excel\u001b[0;34m(io, sheet_name, header, names, index_col, usecols, squeeze, dtype, engine, converters, true_values, false_values, skiprows, nrows, na_values, keep_default_na, na_filter, verbose, parse_dates, date_parser, thousands, decimal, comment, skipfooter, convert_float, mangle_dupe_cols, storage_options)\u001b[0m\n\u001b[1;32m    480\u001b[0m \u001b[38;5;28;01mif\u001b[39;00m \u001b[38;5;129;01mnot\u001b[39;00m \u001b[38;5;28misinstance\u001b[39m(io, ExcelFile):\n\u001b[1;32m    481\u001b[0m     should_close \u001b[38;5;241m=\u001b[39m \u001b[38;5;28;01mTrue\u001b[39;00m\n\u001b[0;32m--> 482\u001b[0m     io \u001b[38;5;241m=\u001b[39m \u001b[43mExcelFile\u001b[49m\u001b[43m(\u001b[49m\u001b[43mio\u001b[49m\u001b[43m,\u001b[49m\u001b[43m \u001b[49m\u001b[43mstorage_options\u001b[49m\u001b[38;5;241;43m=\u001b[39;49m\u001b[43mstorage_options\u001b[49m\u001b[43m,\u001b[49m\u001b[43m \u001b[49m\u001b[43mengine\u001b[49m\u001b[38;5;241;43m=\u001b[39;49m\u001b[43mengine\u001b[49m\u001b[43m)\u001b[49m\n\u001b[1;32m    483\u001b[0m \u001b[38;5;28;01melif\u001b[39;00m engine \u001b[38;5;129;01mand\u001b[39;00m engine \u001b[38;5;241m!=\u001b[39m io\u001b[38;5;241m.\u001b[39mengine:\n\u001b[1;32m    484\u001b[0m     \u001b[38;5;28;01mraise\u001b[39;00m \u001b[38;5;167;01mValueError\u001b[39;00m(\n\u001b[1;32m    485\u001b[0m         \u001b[38;5;124m\"\u001b[39m\u001b[38;5;124mEngine should not be specified when passing \u001b[39m\u001b[38;5;124m\"\u001b[39m\n\u001b[1;32m    486\u001b[0m         \u001b[38;5;124m\"\u001b[39m\u001b[38;5;124man ExcelFile - ExcelFile already has the engine set\u001b[39m\u001b[38;5;124m\"\u001b[39m\n\u001b[1;32m    487\u001b[0m     )\n",
            "File \u001b[0;32m/lib/python3.11/site-packages/pandas/io/excel/_base.py:1652\u001b[0m, in \u001b[0;36mExcelFile.__init__\u001b[0;34m(self, path_or_buffer, engine, storage_options)\u001b[0m\n\u001b[1;32m   1650\u001b[0m     ext \u001b[38;5;241m=\u001b[39m \u001b[38;5;124m\"\u001b[39m\u001b[38;5;124mxls\u001b[39m\u001b[38;5;124m\"\u001b[39m\n\u001b[1;32m   1651\u001b[0m \u001b[38;5;28;01melse\u001b[39;00m:\n\u001b[0;32m-> 1652\u001b[0m     ext \u001b[38;5;241m=\u001b[39m \u001b[43minspect_excel_format\u001b[49m\u001b[43m(\u001b[49m\n\u001b[1;32m   1653\u001b[0m \u001b[43m        \u001b[49m\u001b[43mcontent_or_path\u001b[49m\u001b[38;5;241;43m=\u001b[39;49m\u001b[43mpath_or_buffer\u001b[49m\u001b[43m,\u001b[49m\u001b[43m \u001b[49m\u001b[43mstorage_options\u001b[49m\u001b[38;5;241;43m=\u001b[39;49m\u001b[43mstorage_options\u001b[49m\n\u001b[1;32m   1654\u001b[0m \u001b[43m    \u001b[49m\u001b[43m)\u001b[49m\n\u001b[1;32m   1655\u001b[0m     \u001b[38;5;28;01mif\u001b[39;00m ext \u001b[38;5;129;01mis\u001b[39;00m \u001b[38;5;28;01mNone\u001b[39;00m:\n\u001b[1;32m   1656\u001b[0m         \u001b[38;5;28;01mraise\u001b[39;00m \u001b[38;5;167;01mValueError\u001b[39;00m(\n\u001b[1;32m   1657\u001b[0m             \u001b[38;5;124m\"\u001b[39m\u001b[38;5;124mExcel file format cannot be determined, you must specify \u001b[39m\u001b[38;5;124m\"\u001b[39m\n\u001b[1;32m   1658\u001b[0m             \u001b[38;5;124m\"\u001b[39m\u001b[38;5;124man engine manually.\u001b[39m\u001b[38;5;124m\"\u001b[39m\n\u001b[1;32m   1659\u001b[0m         )\n",
            "File \u001b[0;32m/lib/python3.11/site-packages/pandas/io/excel/_base.py:1525\u001b[0m, in \u001b[0;36minspect_excel_format\u001b[0;34m(content_or_path, storage_options)\u001b[0m\n\u001b[1;32m   1522\u001b[0m \u001b[38;5;28;01mif\u001b[39;00m \u001b[38;5;28misinstance\u001b[39m(content_or_path, \u001b[38;5;28mbytes\u001b[39m):\n\u001b[1;32m   1523\u001b[0m     content_or_path \u001b[38;5;241m=\u001b[39m BytesIO(content_or_path)\n\u001b[0;32m-> 1525\u001b[0m \u001b[38;5;28;01mwith\u001b[39;00m \u001b[43mget_handle\u001b[49m\u001b[43m(\u001b[49m\n\u001b[1;32m   1526\u001b[0m \u001b[43m    \u001b[49m\u001b[43mcontent_or_path\u001b[49m\u001b[43m,\u001b[49m\u001b[43m \u001b[49m\u001b[38;5;124;43m\"\u001b[39;49m\u001b[38;5;124;43mrb\u001b[39;49m\u001b[38;5;124;43m\"\u001b[39;49m\u001b[43m,\u001b[49m\u001b[43m \u001b[49m\u001b[43mstorage_options\u001b[49m\u001b[38;5;241;43m=\u001b[39;49m\u001b[43mstorage_options\u001b[49m\u001b[43m,\u001b[49m\u001b[43m \u001b[49m\u001b[43mis_text\u001b[49m\u001b[38;5;241;43m=\u001b[39;49m\u001b[38;5;28;43;01mFalse\u001b[39;49;00m\n\u001b[1;32m   1527\u001b[0m \u001b[43m\u001b[49m\u001b[43m)\u001b[49m \u001b[38;5;28;01mas\u001b[39;00m handle:\n\u001b[1;32m   1528\u001b[0m     stream \u001b[38;5;241m=\u001b[39m handle\u001b[38;5;241m.\u001b[39mhandle\n\u001b[1;32m   1529\u001b[0m     stream\u001b[38;5;241m.\u001b[39mseek(\u001b[38;5;241m0\u001b[39m)\n",
            "File \u001b[0;32m/lib/python3.11/site-packages/pandas/io/common.py:865\u001b[0m, in \u001b[0;36mget_handle\u001b[0;34m(path_or_buf, mode, encoding, compression, memory_map, is_text, errors, storage_options)\u001b[0m\n\u001b[1;32m    856\u001b[0m         handle \u001b[38;5;241m=\u001b[39m \u001b[38;5;28mopen\u001b[39m(\n\u001b[1;32m    857\u001b[0m             handle,\n\u001b[1;32m    858\u001b[0m             ioargs\u001b[38;5;241m.\u001b[39mmode,\n\u001b[0;32m   (...)\u001b[0m\n\u001b[1;32m    861\u001b[0m             newline\u001b[38;5;241m=\u001b[39m\u001b[38;5;124m\"\u001b[39m\u001b[38;5;124m\"\u001b[39m,\n\u001b[1;32m    862\u001b[0m         )\n\u001b[1;32m    863\u001b[0m     \u001b[38;5;28;01melse\u001b[39;00m:\n\u001b[1;32m    864\u001b[0m         \u001b[38;5;66;03m# Binary mode\u001b[39;00m\n\u001b[0;32m--> 865\u001b[0m         handle \u001b[38;5;241m=\u001b[39m \u001b[38;5;28;43mopen\u001b[39;49m\u001b[43m(\u001b[49m\u001b[43mhandle\u001b[49m\u001b[43m,\u001b[49m\u001b[43m \u001b[49m\u001b[43mioargs\u001b[49m\u001b[38;5;241;43m.\u001b[39;49m\u001b[43mmode\u001b[49m\u001b[43m)\u001b[49m\n\u001b[1;32m    866\u001b[0m     handles\u001b[38;5;241m.\u001b[39mappend(handle)\n\u001b[1;32m    868\u001b[0m \u001b[38;5;66;03m# Convert BytesIO or file objects passed with an encoding\u001b[39;00m\n",
            "\u001b[0;31mFileNotFoundError\u001b[0m: [Errno 44] No such file or directory: 'filename.xlsx'"
          ],
          "output_type": "error"
        }
      ],
      "execution_count": 107
    },
    {
      "cell_type": "code",
      "source": "df",
      "metadata": {
        "trusted": true
      },
      "outputs": [
        {
          "execution_count": 108,
          "output_type": "execute_result",
          "data": {
            "text/plain": "                     date       price  bedrooms  bathrooms  sqft_living  \\\n4350  2014-07-03 00:00:00  26590000.0       3.0       2.00         1180   \n4346  2014-06-23 00:00:00  12899000.0       3.0       2.50         2190   \n2286  2014-06-11 00:00:00   7062500.0       5.0       4.50        10040   \n2654  2014-06-17 00:00:00   4668000.0       5.0       6.75         9640   \n2761  2014-06-18 00:00:00   4489000.0       4.0       3.00         6430   \n...                   ...         ...       ...        ...          ...   \n4472  2014-06-09 00:00:00         0.0       4.0       3.75         4060   \n4567  2014-07-02 00:00:00         0.0       4.0       2.50         4080   \n4354  2014-05-05 00:00:00         0.0       3.0       1.75         1490   \n4454  2014-06-03 00:00:00         0.0       5.0       2.50         2090   \n4382  2014-05-12 00:00:00         0.0       5.0       4.50         4630   \n\n      sqft_lot  floors  waterfront  view  condition  sqft_above  \\\n4350      7793     1.0           0     0          4        1180   \n4346     11394     1.0           0     0          3        1550   \n2286     37325     2.0           1     2          3        7680   \n2654     13068     1.0           1     4          3        4820   \n2761     27517     2.0           0     0          3        6430   \n...        ...     ...         ...   ...        ...         ...   \n4472     19290     2.0           0     0          3        4060   \n4567     18362     2.0           0     2          4        4080   \n4354     10125     1.0           0     0          4        1490   \n4454      4698     2.0           0     0          3        2090   \n4382      6324     2.0           0     0          3        3210   \n\n      sqft_basement  yr_built  yr_renovated                 street  \\\n4350              0      1992             0      12005 SE 219th Ct   \n4346            640      1956          2001        5426 40th Ave W   \n2286           2360      1940          2001       4442 95th Ave NE   \n2654           4820      1983          2009    5044 Butterworth Rd   \n2761              0      2001             0  1149-1199 91st Ave NE   \n...             ...       ...           ...                    ...   \n4472              0      2002             0        21418 SE 5th Pl   \n4567              0      1983             0       2710 95th Ave NE   \n4354              0      1962             0        3911 S 328th St   \n4454              0      1998          2006      27622 237th Pl SE   \n4382           1420      2006             0    6925 Oakmont Ave SE   \n\n               city  statezip country  Temp  \n4350           Kent  WA 98031     USA    30  \n4346        Seattle  WA 98199     USA    30  \n2286       Bellevue  WA 98004     USA    30  \n2654  Mercer Island  WA 98040     USA    30  \n2761       Bellevue  WA 98004     USA    30  \n...             ...       ...     ...   ...  \n4472      Sammamish  WA 98074     USA    30  \n4567     Clyde Hill  WA 98004     USA    30  \n4354    Federal Way  WA 98001     USA    30  \n4454   Maple Valley  WA 98038     USA    30  \n4382     Snoqualmie  WA 98065     USA    30  \n\n[4600 rows x 19 columns]",
            "text/html": "<div>\n<style scoped>\n    .dataframe tbody tr th:only-of-type {\n        vertical-align: middle;\n    }\n\n    .dataframe tbody tr th {\n        vertical-align: top;\n    }\n\n    .dataframe thead th {\n        text-align: right;\n    }\n</style>\n<table border=\"1\" class=\"dataframe\">\n  <thead>\n    <tr style=\"text-align: right;\">\n      <th></th>\n      <th>date</th>\n      <th>price</th>\n      <th>bedrooms</th>\n      <th>bathrooms</th>\n      <th>sqft_living</th>\n      <th>sqft_lot</th>\n      <th>floors</th>\n      <th>waterfront</th>\n      <th>view</th>\n      <th>condition</th>\n      <th>sqft_above</th>\n      <th>sqft_basement</th>\n      <th>yr_built</th>\n      <th>yr_renovated</th>\n      <th>street</th>\n      <th>city</th>\n      <th>statezip</th>\n      <th>country</th>\n      <th>Temp</th>\n    </tr>\n  </thead>\n  <tbody>\n    <tr>\n      <th>4350</th>\n      <td>2014-07-03 00:00:00</td>\n      <td>26590000.0</td>\n      <td>3.0</td>\n      <td>2.00</td>\n      <td>1180</td>\n      <td>7793</td>\n      <td>1.0</td>\n      <td>0</td>\n      <td>0</td>\n      <td>4</td>\n      <td>1180</td>\n      <td>0</td>\n      <td>1992</td>\n      <td>0</td>\n      <td>12005 SE 219th Ct</td>\n      <td>Kent</td>\n      <td>WA 98031</td>\n      <td>USA</td>\n      <td>30</td>\n    </tr>\n    <tr>\n      <th>4346</th>\n      <td>2014-06-23 00:00:00</td>\n      <td>12899000.0</td>\n      <td>3.0</td>\n      <td>2.50</td>\n      <td>2190</td>\n      <td>11394</td>\n      <td>1.0</td>\n      <td>0</td>\n      <td>0</td>\n      <td>3</td>\n      <td>1550</td>\n      <td>640</td>\n      <td>1956</td>\n      <td>2001</td>\n      <td>5426 40th Ave W</td>\n      <td>Seattle</td>\n      <td>WA 98199</td>\n      <td>USA</td>\n      <td>30</td>\n    </tr>\n    <tr>\n      <th>2286</th>\n      <td>2014-06-11 00:00:00</td>\n      <td>7062500.0</td>\n      <td>5.0</td>\n      <td>4.50</td>\n      <td>10040</td>\n      <td>37325</td>\n      <td>2.0</td>\n      <td>1</td>\n      <td>2</td>\n      <td>3</td>\n      <td>7680</td>\n      <td>2360</td>\n      <td>1940</td>\n      <td>2001</td>\n      <td>4442 95th Ave NE</td>\n      <td>Bellevue</td>\n      <td>WA 98004</td>\n      <td>USA</td>\n      <td>30</td>\n    </tr>\n    <tr>\n      <th>2654</th>\n      <td>2014-06-17 00:00:00</td>\n      <td>4668000.0</td>\n      <td>5.0</td>\n      <td>6.75</td>\n      <td>9640</td>\n      <td>13068</td>\n      <td>1.0</td>\n      <td>1</td>\n      <td>4</td>\n      <td>3</td>\n      <td>4820</td>\n      <td>4820</td>\n      <td>1983</td>\n      <td>2009</td>\n      <td>5044 Butterworth Rd</td>\n      <td>Mercer Island</td>\n      <td>WA 98040</td>\n      <td>USA</td>\n      <td>30</td>\n    </tr>\n    <tr>\n      <th>2761</th>\n      <td>2014-06-18 00:00:00</td>\n      <td>4489000.0</td>\n      <td>4.0</td>\n      <td>3.00</td>\n      <td>6430</td>\n      <td>27517</td>\n      <td>2.0</td>\n      <td>0</td>\n      <td>0</td>\n      <td>3</td>\n      <td>6430</td>\n      <td>0</td>\n      <td>2001</td>\n      <td>0</td>\n      <td>1149-1199 91st Ave NE</td>\n      <td>Bellevue</td>\n      <td>WA 98004</td>\n      <td>USA</td>\n      <td>30</td>\n    </tr>\n    <tr>\n      <th>...</th>\n      <td>...</td>\n      <td>...</td>\n      <td>...</td>\n      <td>...</td>\n      <td>...</td>\n      <td>...</td>\n      <td>...</td>\n      <td>...</td>\n      <td>...</td>\n      <td>...</td>\n      <td>...</td>\n      <td>...</td>\n      <td>...</td>\n      <td>...</td>\n      <td>...</td>\n      <td>...</td>\n      <td>...</td>\n      <td>...</td>\n      <td>...</td>\n    </tr>\n    <tr>\n      <th>4472</th>\n      <td>2014-06-09 00:00:00</td>\n      <td>0.0</td>\n      <td>4.0</td>\n      <td>3.75</td>\n      <td>4060</td>\n      <td>19290</td>\n      <td>2.0</td>\n      <td>0</td>\n      <td>0</td>\n      <td>3</td>\n      <td>4060</td>\n      <td>0</td>\n      <td>2002</td>\n      <td>0</td>\n      <td>21418 SE 5th Pl</td>\n      <td>Sammamish</td>\n      <td>WA 98074</td>\n      <td>USA</td>\n      <td>30</td>\n    </tr>\n    <tr>\n      <th>4567</th>\n      <td>2014-07-02 00:00:00</td>\n      <td>0.0</td>\n      <td>4.0</td>\n      <td>2.50</td>\n      <td>4080</td>\n      <td>18362</td>\n      <td>2.0</td>\n      <td>0</td>\n      <td>2</td>\n      <td>4</td>\n      <td>4080</td>\n      <td>0</td>\n      <td>1983</td>\n      <td>0</td>\n      <td>2710 95th Ave NE</td>\n      <td>Clyde Hill</td>\n      <td>WA 98004</td>\n      <td>USA</td>\n      <td>30</td>\n    </tr>\n    <tr>\n      <th>4354</th>\n      <td>2014-05-05 00:00:00</td>\n      <td>0.0</td>\n      <td>3.0</td>\n      <td>1.75</td>\n      <td>1490</td>\n      <td>10125</td>\n      <td>1.0</td>\n      <td>0</td>\n      <td>0</td>\n      <td>4</td>\n      <td>1490</td>\n      <td>0</td>\n      <td>1962</td>\n      <td>0</td>\n      <td>3911 S 328th St</td>\n      <td>Federal Way</td>\n      <td>WA 98001</td>\n      <td>USA</td>\n      <td>30</td>\n    </tr>\n    <tr>\n      <th>4454</th>\n      <td>2014-06-03 00:00:00</td>\n      <td>0.0</td>\n      <td>5.0</td>\n      <td>2.50</td>\n      <td>2090</td>\n      <td>4698</td>\n      <td>2.0</td>\n      <td>0</td>\n      <td>0</td>\n      <td>3</td>\n      <td>2090</td>\n      <td>0</td>\n      <td>1998</td>\n      <td>2006</td>\n      <td>27622 237th Pl SE</td>\n      <td>Maple Valley</td>\n      <td>WA 98038</td>\n      <td>USA</td>\n      <td>30</td>\n    </tr>\n    <tr>\n      <th>4382</th>\n      <td>2014-05-12 00:00:00</td>\n      <td>0.0</td>\n      <td>5.0</td>\n      <td>4.50</td>\n      <td>4630</td>\n      <td>6324</td>\n      <td>2.0</td>\n      <td>0</td>\n      <td>0</td>\n      <td>3</td>\n      <td>3210</td>\n      <td>1420</td>\n      <td>2006</td>\n      <td>0</td>\n      <td>6925 Oakmont Ave SE</td>\n      <td>Snoqualmie</td>\n      <td>WA 98065</td>\n      <td>USA</td>\n      <td>30</td>\n    </tr>\n  </tbody>\n</table>\n<p>4600 rows × 19 columns</p>\n</div>"
          },
          "metadata": {}
        }
      ],
      "execution_count": 108
    },
    {
      "cell_type": "code",
      "source": "# DataFrame to JSON\ndf.to_json(\"house.json\")",
      "metadata": {
        "trusted": true
      },
      "outputs": [],
      "execution_count": 110
    },
    {
      "cell_type": "code",
      "source": "",
      "metadata": {
        "trusted": true
      },
      "outputs": [],
      "execution_count": null
    },
    {
      "cell_type": "code",
      "source": "mydf = pd.DataFrame({'AppName': ['A','B','C'],'Size':['1G','1.5G','2G']})",
      "metadata": {
        "trusted": true
      },
      "outputs": [],
      "execution_count": 111
    },
    {
      "cell_type": "code",
      "source": "mydf",
      "metadata": {
        "trusted": true
      },
      "outputs": [
        {
          "execution_count": 112,
          "output_type": "execute_result",
          "data": {
            "text/plain": "  AppName  Size\n0       A    1G\n1       B  1.5G\n2       C    2G",
            "text/html": "<div>\n<style scoped>\n    .dataframe tbody tr th:only-of-type {\n        vertical-align: middle;\n    }\n\n    .dataframe tbody tr th {\n        vertical-align: top;\n    }\n\n    .dataframe thead th {\n        text-align: right;\n    }\n</style>\n<table border=\"1\" class=\"dataframe\">\n  <thead>\n    <tr style=\"text-align: right;\">\n      <th></th>\n      <th>AppName</th>\n      <th>Size</th>\n    </tr>\n  </thead>\n  <tbody>\n    <tr>\n      <th>0</th>\n      <td>A</td>\n      <td>1G</td>\n    </tr>\n    <tr>\n      <th>1</th>\n      <td>B</td>\n      <td>1.5G</td>\n    </tr>\n    <tr>\n      <th>2</th>\n      <td>C</td>\n      <td>2G</td>\n    </tr>\n  </tbody>\n</table>\n</div>"
          },
          "metadata": {}
        }
      ],
      "execution_count": 112
    },
    {
      "cell_type": "code",
      "source": "mydf['Size Num'] = mydf['Size'].str.replace(\"G\",\"\")",
      "metadata": {
        "trusted": true
      },
      "outputs": [],
      "execution_count": 113
    },
    {
      "cell_type": "code",
      "source": "mydf",
      "metadata": {
        "trusted": true
      },
      "outputs": [
        {
          "execution_count": 114,
          "output_type": "execute_result",
          "data": {
            "text/plain": "  AppName  Size Size Num\n0       A    1G        1\n1       B  1.5G      1.5\n2       C    2G        2",
            "text/html": "<div>\n<style scoped>\n    .dataframe tbody tr th:only-of-type {\n        vertical-align: middle;\n    }\n\n    .dataframe tbody tr th {\n        vertical-align: top;\n    }\n\n    .dataframe thead th {\n        text-align: right;\n    }\n</style>\n<table border=\"1\" class=\"dataframe\">\n  <thead>\n    <tr style=\"text-align: right;\">\n      <th></th>\n      <th>AppName</th>\n      <th>Size</th>\n      <th>Size Num</th>\n    </tr>\n  </thead>\n  <tbody>\n    <tr>\n      <th>0</th>\n      <td>A</td>\n      <td>1G</td>\n      <td>1</td>\n    </tr>\n    <tr>\n      <th>1</th>\n      <td>B</td>\n      <td>1.5G</td>\n      <td>1.5</td>\n    </tr>\n    <tr>\n      <th>2</th>\n      <td>C</td>\n      <td>2G</td>\n      <td>2</td>\n    </tr>\n  </tbody>\n</table>\n</div>"
          },
          "metadata": {}
        }
      ],
      "execution_count": 114
    },
    {
      "cell_type": "code",
      "source": "mydf.info()",
      "metadata": {
        "trusted": true
      },
      "outputs": [
        {
          "name": "stdout",
          "text": "<class 'pandas.core.frame.DataFrame'>\nRangeIndex: 3 entries, 0 to 2\nData columns (total 3 columns):\n #   Column    Non-Null Count  Dtype \n---  ------    --------------  ----- \n 0   AppName   3 non-null      object\n 1   Size      3 non-null      object\n 2   Size Num  3 non-null      object\ndtypes: object(3)\nmemory usage: 108.0+ bytes\n",
          "output_type": "stream"
        }
      ],
      "execution_count": 115
    },
    {
      "cell_type": "code",
      "source": "pd.to_numeric(mydf['Size Num'])",
      "metadata": {
        "trusted": true
      },
      "outputs": [
        {
          "execution_count": 116,
          "output_type": "execute_result",
          "data": {
            "text/plain": "0    1.0\n1    1.5\n2    2.0\nName: Size Num, dtype: float64"
          },
          "metadata": {}
        }
      ],
      "execution_count": 116
    },
    {
      "cell_type": "code",
      "source": "df_new = df.copy(deep=True)",
      "metadata": {
        "trusted": true
      },
      "outputs": [],
      "execution_count": 117
    },
    {
      "cell_type": "code",
      "source": "df_new",
      "metadata": {
        "trusted": true
      },
      "outputs": [
        {
          "execution_count": 118,
          "output_type": "execute_result",
          "data": {
            "text/plain": "                     date       price  bedrooms  bathrooms  sqft_living  \\\n4350  2014-07-03 00:00:00  26590000.0       3.0       2.00         1180   \n4346  2014-06-23 00:00:00  12899000.0       3.0       2.50         2190   \n2286  2014-06-11 00:00:00   7062500.0       5.0       4.50        10040   \n2654  2014-06-17 00:00:00   4668000.0       5.0       6.75         9640   \n2761  2014-06-18 00:00:00   4489000.0       4.0       3.00         6430   \n...                   ...         ...       ...        ...          ...   \n4472  2014-06-09 00:00:00         0.0       4.0       3.75         4060   \n4567  2014-07-02 00:00:00         0.0       4.0       2.50         4080   \n4354  2014-05-05 00:00:00         0.0       3.0       1.75         1490   \n4454  2014-06-03 00:00:00         0.0       5.0       2.50         2090   \n4382  2014-05-12 00:00:00         0.0       5.0       4.50         4630   \n\n      sqft_lot  floors  waterfront  view  condition  sqft_above  \\\n4350      7793     1.0           0     0          4        1180   \n4346     11394     1.0           0     0          3        1550   \n2286     37325     2.0           1     2          3        7680   \n2654     13068     1.0           1     4          3        4820   \n2761     27517     2.0           0     0          3        6430   \n...        ...     ...         ...   ...        ...         ...   \n4472     19290     2.0           0     0          3        4060   \n4567     18362     2.0           0     2          4        4080   \n4354     10125     1.0           0     0          4        1490   \n4454      4698     2.0           0     0          3        2090   \n4382      6324     2.0           0     0          3        3210   \n\n      sqft_basement  yr_built  yr_renovated                 street  \\\n4350              0      1992             0      12005 SE 219th Ct   \n4346            640      1956          2001        5426 40th Ave W   \n2286           2360      1940          2001       4442 95th Ave NE   \n2654           4820      1983          2009    5044 Butterworth Rd   \n2761              0      2001             0  1149-1199 91st Ave NE   \n...             ...       ...           ...                    ...   \n4472              0      2002             0        21418 SE 5th Pl   \n4567              0      1983             0       2710 95th Ave NE   \n4354              0      1962             0        3911 S 328th St   \n4454              0      1998          2006      27622 237th Pl SE   \n4382           1420      2006             0    6925 Oakmont Ave SE   \n\n               city  statezip country  Temp  \n4350           Kent  WA 98031     USA    30  \n4346        Seattle  WA 98199     USA    30  \n2286       Bellevue  WA 98004     USA    30  \n2654  Mercer Island  WA 98040     USA    30  \n2761       Bellevue  WA 98004     USA    30  \n...             ...       ...     ...   ...  \n4472      Sammamish  WA 98074     USA    30  \n4567     Clyde Hill  WA 98004     USA    30  \n4354    Federal Way  WA 98001     USA    30  \n4454   Maple Valley  WA 98038     USA    30  \n4382     Snoqualmie  WA 98065     USA    30  \n\n[4600 rows x 19 columns]",
            "text/html": "<div>\n<style scoped>\n    .dataframe tbody tr th:only-of-type {\n        vertical-align: middle;\n    }\n\n    .dataframe tbody tr th {\n        vertical-align: top;\n    }\n\n    .dataframe thead th {\n        text-align: right;\n    }\n</style>\n<table border=\"1\" class=\"dataframe\">\n  <thead>\n    <tr style=\"text-align: right;\">\n      <th></th>\n      <th>date</th>\n      <th>price</th>\n      <th>bedrooms</th>\n      <th>bathrooms</th>\n      <th>sqft_living</th>\n      <th>sqft_lot</th>\n      <th>floors</th>\n      <th>waterfront</th>\n      <th>view</th>\n      <th>condition</th>\n      <th>sqft_above</th>\n      <th>sqft_basement</th>\n      <th>yr_built</th>\n      <th>yr_renovated</th>\n      <th>street</th>\n      <th>city</th>\n      <th>statezip</th>\n      <th>country</th>\n      <th>Temp</th>\n    </tr>\n  </thead>\n  <tbody>\n    <tr>\n      <th>4350</th>\n      <td>2014-07-03 00:00:00</td>\n      <td>26590000.0</td>\n      <td>3.0</td>\n      <td>2.00</td>\n      <td>1180</td>\n      <td>7793</td>\n      <td>1.0</td>\n      <td>0</td>\n      <td>0</td>\n      <td>4</td>\n      <td>1180</td>\n      <td>0</td>\n      <td>1992</td>\n      <td>0</td>\n      <td>12005 SE 219th Ct</td>\n      <td>Kent</td>\n      <td>WA 98031</td>\n      <td>USA</td>\n      <td>30</td>\n    </tr>\n    <tr>\n      <th>4346</th>\n      <td>2014-06-23 00:00:00</td>\n      <td>12899000.0</td>\n      <td>3.0</td>\n      <td>2.50</td>\n      <td>2190</td>\n      <td>11394</td>\n      <td>1.0</td>\n      <td>0</td>\n      <td>0</td>\n      <td>3</td>\n      <td>1550</td>\n      <td>640</td>\n      <td>1956</td>\n      <td>2001</td>\n      <td>5426 40th Ave W</td>\n      <td>Seattle</td>\n      <td>WA 98199</td>\n      <td>USA</td>\n      <td>30</td>\n    </tr>\n    <tr>\n      <th>2286</th>\n      <td>2014-06-11 00:00:00</td>\n      <td>7062500.0</td>\n      <td>5.0</td>\n      <td>4.50</td>\n      <td>10040</td>\n      <td>37325</td>\n      <td>2.0</td>\n      <td>1</td>\n      <td>2</td>\n      <td>3</td>\n      <td>7680</td>\n      <td>2360</td>\n      <td>1940</td>\n      <td>2001</td>\n      <td>4442 95th Ave NE</td>\n      <td>Bellevue</td>\n      <td>WA 98004</td>\n      <td>USA</td>\n      <td>30</td>\n    </tr>\n    <tr>\n      <th>2654</th>\n      <td>2014-06-17 00:00:00</td>\n      <td>4668000.0</td>\n      <td>5.0</td>\n      <td>6.75</td>\n      <td>9640</td>\n      <td>13068</td>\n      <td>1.0</td>\n      <td>1</td>\n      <td>4</td>\n      <td>3</td>\n      <td>4820</td>\n      <td>4820</td>\n      <td>1983</td>\n      <td>2009</td>\n      <td>5044 Butterworth Rd</td>\n      <td>Mercer Island</td>\n      <td>WA 98040</td>\n      <td>USA</td>\n      <td>30</td>\n    </tr>\n    <tr>\n      <th>2761</th>\n      <td>2014-06-18 00:00:00</td>\n      <td>4489000.0</td>\n      <td>4.0</td>\n      <td>3.00</td>\n      <td>6430</td>\n      <td>27517</td>\n      <td>2.0</td>\n      <td>0</td>\n      <td>0</td>\n      <td>3</td>\n      <td>6430</td>\n      <td>0</td>\n      <td>2001</td>\n      <td>0</td>\n      <td>1149-1199 91st Ave NE</td>\n      <td>Bellevue</td>\n      <td>WA 98004</td>\n      <td>USA</td>\n      <td>30</td>\n    </tr>\n    <tr>\n      <th>...</th>\n      <td>...</td>\n      <td>...</td>\n      <td>...</td>\n      <td>...</td>\n      <td>...</td>\n      <td>...</td>\n      <td>...</td>\n      <td>...</td>\n      <td>...</td>\n      <td>...</td>\n      <td>...</td>\n      <td>...</td>\n      <td>...</td>\n      <td>...</td>\n      <td>...</td>\n      <td>...</td>\n      <td>...</td>\n      <td>...</td>\n      <td>...</td>\n    </tr>\n    <tr>\n      <th>4472</th>\n      <td>2014-06-09 00:00:00</td>\n      <td>0.0</td>\n      <td>4.0</td>\n      <td>3.75</td>\n      <td>4060</td>\n      <td>19290</td>\n      <td>2.0</td>\n      <td>0</td>\n      <td>0</td>\n      <td>3</td>\n      <td>4060</td>\n      <td>0</td>\n      <td>2002</td>\n      <td>0</td>\n      <td>21418 SE 5th Pl</td>\n      <td>Sammamish</td>\n      <td>WA 98074</td>\n      <td>USA</td>\n      <td>30</td>\n    </tr>\n    <tr>\n      <th>4567</th>\n      <td>2014-07-02 00:00:00</td>\n      <td>0.0</td>\n      <td>4.0</td>\n      <td>2.50</td>\n      <td>4080</td>\n      <td>18362</td>\n      <td>2.0</td>\n      <td>0</td>\n      <td>2</td>\n      <td>4</td>\n      <td>4080</td>\n      <td>0</td>\n      <td>1983</td>\n      <td>0</td>\n      <td>2710 95th Ave NE</td>\n      <td>Clyde Hill</td>\n      <td>WA 98004</td>\n      <td>USA</td>\n      <td>30</td>\n    </tr>\n    <tr>\n      <th>4354</th>\n      <td>2014-05-05 00:00:00</td>\n      <td>0.0</td>\n      <td>3.0</td>\n      <td>1.75</td>\n      <td>1490</td>\n      <td>10125</td>\n      <td>1.0</td>\n      <td>0</td>\n      <td>0</td>\n      <td>4</td>\n      <td>1490</td>\n      <td>0</td>\n      <td>1962</td>\n      <td>0</td>\n      <td>3911 S 328th St</td>\n      <td>Federal Way</td>\n      <td>WA 98001</td>\n      <td>USA</td>\n      <td>30</td>\n    </tr>\n    <tr>\n      <th>4454</th>\n      <td>2014-06-03 00:00:00</td>\n      <td>0.0</td>\n      <td>5.0</td>\n      <td>2.50</td>\n      <td>2090</td>\n      <td>4698</td>\n      <td>2.0</td>\n      <td>0</td>\n      <td>0</td>\n      <td>3</td>\n      <td>2090</td>\n      <td>0</td>\n      <td>1998</td>\n      <td>2006</td>\n      <td>27622 237th Pl SE</td>\n      <td>Maple Valley</td>\n      <td>WA 98038</td>\n      <td>USA</td>\n      <td>30</td>\n    </tr>\n    <tr>\n      <th>4382</th>\n      <td>2014-05-12 00:00:00</td>\n      <td>0.0</td>\n      <td>5.0</td>\n      <td>4.50</td>\n      <td>4630</td>\n      <td>6324</td>\n      <td>2.0</td>\n      <td>0</td>\n      <td>0</td>\n      <td>3</td>\n      <td>3210</td>\n      <td>1420</td>\n      <td>2006</td>\n      <td>0</td>\n      <td>6925 Oakmont Ave SE</td>\n      <td>Snoqualmie</td>\n      <td>WA 98065</td>\n      <td>USA</td>\n      <td>30</td>\n    </tr>\n  </tbody>\n</table>\n<p>4600 rows × 19 columns</p>\n</div>"
          },
          "metadata": {}
        }
      ],
      "execution_count": 118
    },
    {
      "cell_type": "code",
      "source": "",
      "metadata": {
        "trusted": true
      },
      "outputs": [],
      "execution_count": null
    }
  ]
}